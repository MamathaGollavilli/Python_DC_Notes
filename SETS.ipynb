{
 "cells": [
  {
   "cell_type": "markdown",
   "id": "a5d49633-c75c-4efa-ba7e-12f98270b9fd",
   "metadata": {},
   "source": [
    "### SETS"
   ]
  },
  {
   "cell_type": "markdown",
   "id": "701f964e-2c02-4f29-b298-1301af46be5e",
   "metadata": {},
   "source": [
    "##### A set is a collection which is unordered, unchangeable*, and unindexed."
   ]
  },
  {
   "cell_type": "code",
   "execution_count": 180,
   "id": "6b040ef4-79d5-4ab6-926c-59ae01fe7e57",
   "metadata": {},
   "outputs": [
    {
     "name": "stdout",
     "output_type": "stream",
     "text": [
      "set()\n",
      "<class 'set'>\n",
      "/////////////////////\n",
      "{0, 1, 2, 3, 4}\n",
      "<class 'set'>\n",
      "/////////////////////\n",
      "{1, 2, 3, 'foo', 'bar'}\n",
      "<class 'set'>\n",
      "/////////////////////\n",
      "{False, 1, 2, 3, 'foo', 'bar'}\n",
      "<class 'set'>\n"
     ]
    }
   ],
   "source": [
    "\n",
    "x = set() # Initialize an empty set and assign it to the variable 'x'\n",
    "print(x)\n",
    "print(type(x))\n",
    "\n",
    "print(\"/////////////////////\")\n",
    "n = set([0, 1, 2, 3, 4])\n",
    "print(n)\n",
    "print(type(n))\n",
    "print(\"/////////////////////\")\n",
    "a = {1, 2, 3, 'foo', 'bar'}\n",
    "print(a) \n",
    "print(type(a))\n",
    "print(\"/////////////////////\")\n",
    "a = set((1, 2, 3, 'foo', 'bar',True,False)) #Here True and 1 are treated as same element \n",
    "print(a) #tuple will not allow the duplicates , so True is not printing\n",
    "print(type(a))\n",
    "\n"
   ]
  },
  {
   "cell_type": "code",
   "execution_count": 182,
   "id": "c877a8ce-d008-481c-b1f6-1659e6115aae",
   "metadata": {},
   "outputs": [
    {
     "name": "stdout",
     "output_type": "stream",
     "text": [
      "0 1 2 3 4 5 \n",
      "\n",
      "e o i n c m r g s D   u t d "
     ]
    }
   ],
   "source": [
    "#loop or accessing the set elements\n",
    "num_set = set([0, 1, 2, 3, 4, 5])\n",
    "for n in num_set:\n",
    "    print(n, end=' ')\n",
    "print(\"\\n\")\n",
    "char_set = set(\"Digicomm semiconductor\")\n",
    "for val in char_set:\n",
    "    print(val, end=' ') \n"
   ]
  },
  {
   "cell_type": "code",
   "execution_count": 184,
   "id": "39152a72-4bb5-4270-a9c9-e31946c57905",
   "metadata": {},
   "outputs": [
    {
     "name": "stdout",
     "output_type": "stream",
     "text": [
      "{'e', 'o', 'i', 'n', 'c', 'm', 'r', 'g', 's', 'D', ' ', 'u', 't', 'd'}\n",
      "eoincmrgsD utd"
     ]
    }
   ],
   "source": [
    "#for loop with index\n",
    "char_set = set(\"Digicomm semiconductor\")\n",
    "print(char_set)\n",
    "char_set_list =list(char_set)\n",
    "for val in range(len(char_set_list)):\n",
    "    print(char_set_list[val],end=\"\")"
   ]
  },
  {
   "cell_type": "code",
   "execution_count": 188,
   "id": "253f7c13-70f9-489a-bd22-5f011925bea2",
   "metadata": {},
   "outputs": [
    {
     "name": "stdout",
     "output_type": "stream",
     "text": [
      "set()\n",
      "{'Red'}\n",
      "{'Green', 'Blue', 'Red'}\n",
      "{'yellow', 'Blue', 'Red', 'White', 'Green'}\n"
     ]
    }
   ],
   "source": [
    "#Adding elements to the sets using add and update method\n",
    "color_set = set()\n",
    "print(color_set)\n",
    "color_set.add(\"Red\") #To add one item to a set use the add() method.\n",
    "print(color_set)\n",
    "# Add multiple elements \"Blue\" and \"Green\" to the 'color_set' using the 'update' method:\n",
    "color_set.update([\"Blue\", \"Green\"])\n",
    "print(color_set) \n",
    "# Add items from another set into the current set, use the update() method.\n",
    "color_set.update({\"White\",\"yellow\"})\n",
    "print(color_set) "
   ]
  },
  {
   "cell_type": "code",
   "execution_count": 62,
   "id": "9a6b9ae0-0a0d-40ac-9358-206a708b3443",
   "metadata": {},
   "outputs": [
    {
     "name": "stdout",
     "output_type": "stream",
     "text": [
      "{'yellow', 'Blue', 'Red', 'White', 'Green'}\n",
      "{'Blue', 'Red', 'White', 'Green'}\n"
     ]
    }
   ],
   "source": [
    "color_set={'yellow', 'Blue', 'Red', 'White', 'Green'}\n",
    "print(color_set)\n",
    "color_set.remove(\"yellow\")\n",
    "print(color_set)"
   ]
  },
  {
   "cell_type": "code",
   "execution_count": 66,
   "id": "46b3585e-547a-4aec-9a51-ae19fe10df3c",
   "metadata": {},
   "outputs": [
    {
     "ename": "KeyError",
     "evalue": "'yellow'",
     "output_type": "error",
     "traceback": [
      "\u001b[1;31m---------------------------------------------------------------------------\u001b[0m",
      "\u001b[1;31mKeyError\u001b[0m                                  Traceback (most recent call last)",
      "Cell \u001b[1;32mIn[66], line 2\u001b[0m\n\u001b[0;32m      1\u001b[0m color_set\u001b[38;5;241m=\u001b[39m{\u001b[38;5;124m'\u001b[39m\u001b[38;5;124mBlue\u001b[39m\u001b[38;5;124m'\u001b[39m, \u001b[38;5;124m'\u001b[39m\u001b[38;5;124mRed\u001b[39m\u001b[38;5;124m'\u001b[39m, \u001b[38;5;124m'\u001b[39m\u001b[38;5;124mWhite\u001b[39m\u001b[38;5;124m'\u001b[39m, \u001b[38;5;124m'\u001b[39m\u001b[38;5;124mGreen\u001b[39m\u001b[38;5;124m'\u001b[39m}\n\u001b[1;32m----> 2\u001b[0m color_set\u001b[38;5;241m.\u001b[39mremove(\u001b[38;5;124m\"\u001b[39m\u001b[38;5;124myellow\u001b[39m\u001b[38;5;124m\"\u001b[39m)\n\u001b[0;32m      3\u001b[0m \u001b[38;5;28mprint\u001b[39m(color_set)\n",
      "\u001b[1;31mKeyError\u001b[0m: 'yellow'"
     ]
    }
   ],
   "source": [
    "color_set={'Blue', 'Red', 'White', 'Green'}\n",
    "color_set.remove(\"yellow\")\n",
    "print(color_set) #If the item to remove does not exist, remove() will raise an error."
   ]
  },
  {
   "cell_type": "code",
   "execution_count": 70,
   "id": "271958a1-3a4d-42a2-adde-cf3b68e61775",
   "metadata": {},
   "outputs": [
    {
     "name": "stdout",
     "output_type": "stream",
     "text": [
      "{'Green', 'Blue', 'Red', 'White'}\n",
      "{'Green', 'Blue', 'Red'}\n"
     ]
    }
   ],
   "source": [
    "color_set={'Blue', 'Red', 'White', 'Green'}\n",
    "color_set.discard(\"yellow\")\n",
    "print(color_set) \n",
    "color_set.discard(\"White\")\n",
    "print(color_set)"
   ]
  },
  {
   "cell_type": "code",
   "execution_count": null,
   "id": "252b4379-51cc-4c2a-be21-dce76856f961",
   "metadata": {},
   "outputs": [],
   "source": [
    "#You can also use the pop() method to remove an item, but this method will remove a random item,\n",
    "#so you cannot be sure what item that gets removed.\n",
    "#The return value of the pop() method is the removed item."
   ]
  },
  {
   "cell_type": "code",
   "execution_count": 190,
   "id": "f95cde57-0b06-4dac-a6ae-144c39243bf3",
   "metadata": {},
   "outputs": [
    {
     "name": "stdout",
     "output_type": "stream",
     "text": [
      "Green\n",
      "{'Blue', 'Red', 'White'}\n"
     ]
    }
   ],
   "source": [
    "color_set={'Blue', 'Red', 'White', 'Green'}\n",
    "x=color_set.pop()\n",
    "print(x)\n",
    "print(color_set)"
   ]
  },
  {
   "cell_type": "code",
   "execution_count": 74,
   "id": "6df990c7-fe4b-42cc-986e-1f091a5e1330",
   "metadata": {},
   "outputs": [
    {
     "name": "stdout",
     "output_type": "stream",
     "text": [
      "{1, 2, 3, 4, 5, 6, 8}\n",
      "{2, 3, 4, 5, 6, 8}\n",
      "{3, 4, 5, 6, 8}\n",
      "{4, 5, 6, 8}\n",
      "{5, 6, 8}\n",
      "{6, 8}\n",
      "{8}\n",
      "set()\n"
     ]
    }
   ],
   "source": [
    "#remove items from the sets:\n",
    "def remove(initial_set):\n",
    "    while initial_set:\n",
    "        initial_set.pop()\n",
    "        print(initial_set)\n",
    "    \n",
    "initial_set=set([2,4,6,3,8,0,5,1])\n",
    "remove(initial_set)"
   ]
  },
  {
   "cell_type": "code",
   "execution_count": 76,
   "id": "a2a3ef96-e5f7-45b1-a7e0-7859081ebda4",
   "metadata": {},
   "outputs": [
    {
     "name": "stdout",
     "output_type": "stream",
     "text": [
      "set()\n"
     ]
    }
   ],
   "source": [
    "color_set={'Blue', 'Red', 'White', 'Green'}\n",
    "color_set.clear()\n",
    "print(color_set)"
   ]
  },
  {
   "cell_type": "code",
   "execution_count": 82,
   "id": "146c7771-c558-418f-991a-57a46d79914c",
   "metadata": {},
   "outputs": [
    {
     "name": "stdout",
     "output_type": "stream",
     "text": [
      "{'Green', 'Blue', 'Red', 'White'}\n"
     ]
    },
    {
     "ename": "NameError",
     "evalue": "name 'color_set' is not defined",
     "output_type": "error",
     "traceback": [
      "\u001b[1;31m---------------------------------------------------------------------------\u001b[0m",
      "\u001b[1;31mNameError\u001b[0m                                 Traceback (most recent call last)",
      "Cell \u001b[1;32mIn[82], line 4\u001b[0m\n\u001b[0;32m      2\u001b[0m \u001b[38;5;28mprint\u001b[39m(color_set)\n\u001b[0;32m      3\u001b[0m \u001b[38;5;28;01mdel\u001b[39;00m color_set\n\u001b[1;32m----> 4\u001b[0m \u001b[38;5;28mprint\u001b[39m(color_set)\n",
      "\u001b[1;31mNameError\u001b[0m: name 'color_set' is not defined"
     ]
    }
   ],
   "source": [
    "color_set={'Blue', 'Red', 'White', 'Green'}\n",
    "print(color_set)\n",
    "del color_set\n",
    "print(color_set)"
   ]
  },
  {
   "cell_type": "code",
   "execution_count": 212,
   "id": "7200de70-dc44-418f-859b-b484da96545e",
   "metadata": {},
   "outputs": [
    {
     "name": "stdout",
     "output_type": "stream",
     "text": [
      "{2, 4, 6, 8, 10}\n",
      "{1, 3, 5, 7, 9}\n",
      "{1, 2, 3, 4, 5, 6, 7, 8, 9, 10}\n",
      "{1, 2, 3, 4, 5, 6, 7, 8, 9, 10}\n",
      "{1, 2, 3, 4, 5, 6, 7, 8, 9, 10}\n"
     ]
    }
   ],
   "source": [
    "a={2,4,6,8,10}\n",
    "b={1,3,5,7,9}\n",
    "c=b.union(a)\n",
    "d=a.union(b)\n",
    "e=a|b\n",
    "print(a)\n",
    "print(b)\n",
    "print(c)\n",
    "print(d)\n",
    "print(e)\n",
    "#a=append(b)\n",
    "#[2,4,6,8,10,1,3,5,7,9]"
   ]
  },
  {
   "cell_type": "code",
   "execution_count": null,
   "id": "3404c208-6960-4638-bfab-1a9eeb6e3933",
   "metadata": {},
   "outputs": [],
   "source": [
    "'''\n",
    "union                : Return a set that contains all items from both sets, duplicates are excluded\n",
    "intersection         : Return a set that contains the items that exist in both set\n",
    "difference           : Return a set that contains the items that only exist in set x, and not in set y\n",
    "symmetric_difference : Return a set that contains all items from both sets, except items that are present in both sets\n",
    "'''"
   ]
  },
  {
   "cell_type": "code",
   "execution_count": 196,
   "id": "f5b312d9-f5f6-4ea9-a2d9-c0ee5ae69f0c",
   "metadata": {},
   "outputs": [
    {
     "name": "stdout",
     "output_type": "stream",
     "text": [
      " union of {'c', 'e', 'a'} and {'b', 'd', 'f'} is {'e', 'f', 'a', 'b', 'c', 'd'}\n",
      " union of {'b', 'd', 'f'} and {'c', 'e', 'a'} is {'e', 'a', 'f', 'b', 'c', 'd'}\n",
      " union of {'c', 'e', 'a'} and {'b', 'd', 'f'} is {'e', 'f', 'a', 'b', 'c', 'd'}\n",
      " union of {'c', 'e', 'a'},{'b', 'd', 'f'},{1, 2, 4, 5, 6},{33, 11, 44, 22} is {'e', 1, 'a', 2, 4, 5, 6, 33, 'c', 11, 44, 22, 'f', 'b', 'd'}\n",
      " union with operator : {'c', 'e', 'a'},{'b', 'd', 'f'},{1, 2, 4, 5, 6},{33, 11, 44, 22} is {'e', 1, 'a', 2, 4, 5, 6, 33, 'c', 11, 44, 22, 'f', 'b', 'd'}\n",
      " union with tuple : {'c', 'e', 'a'},{'b', 'd', 'f'},{1, 2, 4, 5, 6},{33, 11, 44, 22} and (12, 13, 14) is {'e', 1, 'a', 2, 4, 5, 6, 33, 'c', 11, 44, 12, 13, 14, 22, 'f', 'b', 'd'}\n",
      " intersection of {'c', 'e', 'a'} and {1, 2, 'c', 'a'} is {'c', 'a'}\n",
      " intersection with operator: {'c', 'e', 'a'} and {1, 2, 'c', 'a'} is {'c', 'a'}\n",
      "difference b/w {'c', 'e', 'a'} and {1, 2, 'c', 'a'} is {'e'}\n",
      "difference b/w {1, 2, 'c', 'a'} and {'c', 'e', 'a'} is {1, 2}\n",
      "sub b/w {'c', 'e', 'a'} and {1, 2, 'c', 'a'} is {'e'}\n",
      "symmetric_difference b/w {'c', 'e', 'a'} and {1, 2, 'c', 'a'} is {1, 2, 'e'}\n",
      "symmetric_difference b/w {1, 2, 'c', 'a'} and {'c', 'e', 'a'} is {'e', 2, 1}\n",
      "symmetric_difference b/w {1, 2, 'c', 'a'} and {'c', 'e', 'a'} is {'e', 2, 1}\n",
      "////////////////////\n",
      "Before difference_update {'c', 'e', 'a'} and {1, 2, 'c', 'a'}\n",
      "After difference_update {'e'} and {1, 2, 'c', 'a'}\n",
      "////////////////////\n",
      "Before intersection_update {'c', 'e', 'a'} and {1, 2, 'c', 'a'}\n",
      "After intersection_update {'c', 'a'} and {1, 2, 'c', 'a'}\n"
     ]
    }
   ],
   "source": [
    "# (union,|) (intersection,&) (difference,-) (symmetric_difference,^)\n",
    "a={\"a\",\"c\",\"e\"}\n",
    "b={\"b\",\"d\",\"f\"}\n",
    "m={1,2,4,5,6}\n",
    "n={11,22,33,44}\n",
    "p=(12,13,14)\n",
    "q={1,2,\"a\",\"c\"}\n",
    "c=a.union(b)\n",
    "print(f\" union of {a} and {b} is {c}\")\n",
    "d=b.union(a)\n",
    "print(f\" union of {b} and {a} is {d}\")\n",
    "e=a|b\n",
    "print(f\" union of {a} and {b} is {e}\")\n",
    "s=a.union(b,m,n)\n",
    "print(f\" union of {a},{b},{m},{n} is {s}\")\n",
    "g=a|b|m|n\n",
    "print(f\" union with operator : {a},{b},{m},{n} is {g}\")\n",
    "h=a.union(b,m,n,p)\n",
    "print(f\" union with tuple : {a},{b},{m},{n} and {p} is {h}\")\n",
    "#k=a|b|m|n|p #unsupported operand type(s) for |: 'set' and 'tuple'\n",
    "#print(k)\n",
    "x=a.intersection(q)\n",
    "print(f\" intersection of {a} and {q} is {x}\")\n",
    "y=a&q #only sets with sets not support with other data types\n",
    "print(f\" intersection with operator: {a} and {q} is {y}\")\n",
    "x=a.difference(q)\n",
    "print(f\"difference b/w {a} and {q} is {x}\")\n",
    "x=q.difference(a)\n",
    "print(f\"difference b/w {q} and {a} is {x}\")\n",
    "x=a-q\n",
    "print(f\"sub b/w {a} and {q} is {x}\")\n",
    "x=a.symmetric_difference(q)\n",
    "print(f\"symmetric_difference b/w {a} and {q} is {x}\")\n",
    "x=q.symmetric_difference(a)\n",
    "print(f\"symmetric_difference b/w {q} and {a} is {x}\")\n",
    "x=q^a\n",
    "print(f\"symmetric_difference b/w {q} and {a} is {x}\")\n",
    "\n",
    "#a=a-b\n",
    "print(\"////////////////////\")\n",
    "print(f\"Before difference_update {a} and {q}\")\n",
    "a.difference_update(q)\n",
    "print(f\"After difference_update {a} and {q}\")\n",
    "print(\"////////////////////\")\n",
    "a={\"a\",\"c\",\"e\"}\n",
    "print(f\"Before intersection_update {a} and {q}\")\n",
    "a.intersection_update(q)\n",
    "print(f\"After intersection_update {a} and {q}\")"
   ]
  },
  {
   "cell_type": "code",
   "execution_count": 156,
   "id": "b70e3b10-a6f6-4546-8667-e3f3a6f66c15",
   "metadata": {},
   "outputs": [
    {
     "name": "stdout",
     "output_type": "stream",
     "text": [
      "{'c', 'e', 'a'}\n"
     ]
    }
   ],
   "source": [
    "a={\"a\",\"c\",\"e\"}\n",
    "b=a.copy()\n",
    "print(b)"
   ]
  },
  {
   "cell_type": "code",
   "execution_count": 7,
   "id": "3d6ed83c-67b1-439c-a826-45750787249a",
   "metadata": {},
   "outputs": [
    {
     "name": "stdout",
     "output_type": "stream",
     "text": [
      "8\n",
      "0\n"
     ]
    }
   ],
   "source": [
    "#max and min value in the sets:\n",
    "def maxm(sets):\n",
    "    return(max(sets))\n",
    "def minm(sets):\n",
    "    return(min(sets))\n",
    "sets=set([2,4,7,3,1,8,0])\n",
    "print(maxm(sets))\n",
    "print(minm(sets))"
   ]
  },
  {
   "cell_type": "code",
   "execution_count": 11,
   "id": "a073763d-90a9-47c4-87e2-6d5d67198469",
   "metadata": {},
   "outputs": [
    {
     "name": "stdout",
     "output_type": "stream",
     "text": [
      "[80, 20]\n"
     ]
    }
   ],
   "source": [
    "def intersection_of_sets(arr1,arr2,arr3):\n",
    "    s1=set(arr1)\n",
    "    s2=set(arr2)\n",
    "    s3=set(arr3)\n",
    "    set1=s1.intersection(s2)\n",
    "    result_set=set1.intersection(s3)\n",
    "    final_list=list(result_set)\n",
    "    print(final_list)\n",
    "    \n",
    "arr1=[1,5,10,20,40,80,100]\n",
    "arr2=[6,7,20,80,100]\n",
    "arr3=[3,4,15,20,30,70,80,120]\n",
    "intersection_of_sets(arr1,arr2,arr3)"
   ]
  },
  {
   "cell_type": "code",
   "execution_count": 15,
   "id": "84647f32-453b-493a-a7c9-77a2bd7da663",
   "metadata": {},
   "outputs": [
    {
     "name": "stdout",
     "output_type": "stream",
     "text": [
      "accepted\n"
     ]
    }
   ],
   "source": [
    "#accept the string which contain all vowels:\n",
    "def check(string):\n",
    "    string=string.lower()\n",
    "    vowels=set(\"aeiou\")\n",
    "    s=set({})\n",
    "    for char in string:\n",
    "        if char in vowels:\n",
    "            s.add(char)\n",
    "        else:\n",
    "            pass\n",
    "    if len(s)==len(vowels):\n",
    "        print(\"accepted\")\n",
    "    else:\n",
    "        print(\"not accepted\")\n",
    "string=\"SEEqoUial\"\n",
    "check(string)"
   ]
  },
  {
   "cell_type": "code",
   "execution_count": 198,
   "id": "bf557ff3-a98c-49b7-aba6-d6161aa9428c",
   "metadata": {},
   "outputs": [
    {
     "name": "stdout",
     "output_type": "stream",
     "text": [
      "All three subjects: {'Alice'}\n",
      "At least one subject: {'Alice', 'Frank', 'Charlie', 'David', 'Eve', 'George', 'Bob'}\n",
      "Only English: {'Bob'}\n",
      "Only Math: {'Eve'}\n",
      "Only Science: {'George'}\n"
     ]
    }
   ],
   "source": [
    "students_english = {\"Alice\", \"Bob\", \"Charlie\", \"David\"}\n",
    "students_math = {\"Charlie\", \"Eve\", \"Frank\", \"Alice\"}\n",
    "students_science = {\"George\", \"Alice\", \"Frank\", \"David\"}\n",
    "\n",
    "# Students taking all three subjects\n",
    "all_three_subjects = students_english & students_math & students_science\n",
    "\n",
    "# Students taking at least one subject\n",
    "at_least_one_subject = students_english | students_math | students_science\n",
    "\n",
    "# Students taking only one subject\n",
    "only_english = students_english - (students_math | students_science)\n",
    "only_math = students_math - (students_english | students_science)\n",
    "only_science = students_science - (students_english | students_math)\n",
    "\n",
    "print(\"All three subjects:\", all_three_subjects)\n",
    "print(\"At least one subject:\", at_least_one_subject)\n",
    "print(\"Only English:\", only_english)\n",
    "print(\"Only Math:\", only_math)\n",
    "print(\"Only Science:\", only_science)\n"
   ]
  },
  {
   "cell_type": "code",
   "execution_count": 216,
   "id": "372d9cc9-2981-4e8a-bac5-2e62692341bf",
   "metadata": {},
   "outputs": [
    {
     "name": "stdout",
     "output_type": "stream",
     "text": [
      "Signed up for all classes: {'Jerry'}\n",
      "Signed up for any class: {'Jerry', 'Mike', 'Kate', 'Tom', 'Sara'}\n",
      "Signed up for exactly two classes: {'Mike', 'Tom', 'Sara'}\n"
     ]
    }
   ],
   "source": [
    "yoga_class = {\"Mike\", \"Sara\", \"Tom\",\"Jerry\"}\n",
    "spinning_class = {\"Tom\", \"Jerry\", \"Kate\",\"Jerry\"}\n",
    "pilates_class = {\"Sara\", \"Mike\", \"Jerry\"}\n",
    "\n",
    "# People signed up for all classes\n",
    "signed_up_all_classes = yoga_class & spinning_class & pilates_class\n",
    "\n",
    "# People signed up for at least one class\n",
    "signed_up_any_class = yoga_class | spinning_class | pilates_class\n",
    "\n",
    "# People signed up for exactly two classes\n",
    "signed_up_two_classes = (yoga_class & spinning_class) |(spinning_class & pilates_class) | (yoga_class & pilates_class)\n",
    "signed_up_two_classes -= signed_up_all_classes\n",
    "\n",
    "print(\"Signed up for all classes:\", signed_up_all_classes)\n",
    "print(\"Signed up for any class:\", signed_up_any_class)\n",
    "print(\"Signed up for exactly two classes:\", signed_up_two_classes)\n"
   ]
  },
  {
   "cell_type": "code",
   "execution_count": 218,
   "id": "c0c22929-d387-4ed9-a060-c0a85d03ed62",
   "metadata": {},
   "outputs": [
    {
     "name": "stdout",
     "output_type": "stream",
     "text": [
      "Only attended Event A: {'John'}\n",
      "Only attended Event B: set()\n",
      "Only attended Event C: {'Harry'}\n",
      "Attended at least two events: {'Alice', 'Jerry', 'Tom', 'Doe', 'Jane'}\n"
     ]
    }
   ],
   "source": [
    "event_A = {\"John\", \"Jane\", \"Doe\", \"Alice\"}\n",
    "event_B = {\"Jane\", \"Alice\", \"Tom\", \"Jerry\"}\n",
    "event_C = {\"Tom\", \"Jerry\", \"Doe\", \"Harry\"}\n",
    "\n",
    "# Attendees who attended only one event\n",
    "only_event_A = event_A.difference(event_B.union(event_C))\n",
    "only_event_B = event_B.difference(event_A.union(event_C))\n",
    "only_event_C = event_C.difference(event_A.union(event_B))\n",
    "\n",
    "# Attendees who attended at least two events\n",
    "at_least_two_events = (event_A.intersection(event_B)).union(\n",
    "                      event_B.intersection(event_C)).union(\n",
    "                      event_A.intersection(event_C))\n",
    "\n",
    "print(\"Only attended Event A:\", only_event_A)\n",
    "print(\"Only attended Event B:\", only_event_B)\n",
    "print(\"Only attended Event C:\", only_event_C)\n",
    "print(\"Attended at least two events:\", at_least_two_events)\n"
   ]
  },
  {
   "cell_type": "code",
   "execution_count": 170,
   "id": "246e027a-db74-4e0e-a1ad-8fbd1233c49b",
   "metadata": {},
   "outputs": [
    {
     "name": "stdout",
     "output_type": "stream",
     "text": [
      "Combine three numbers whose sum equals the target number:\n",
      "[(1, 3, 8), (1, 4, 7), (1, 2, 9), (1, 5, 6), (3, 4, 5), (2, 3, 7), (2, 4, 6)]\n",
      "Combine three numbers whose sum equals the target number:\n",
      "[(4, 5, 8), (2, 6, 9), (3, 5, 9), (2, 7, 8), (4, 6, 7), (3, 6, 8), (1, 7, 9)]\n"
     ]
    }
   ],
   "source": [
    "\n",
    "def find_combinations_of_three(nums, target_val):\n",
    "    nums = list(set(nums))\n",
    "    result = set()\n",
    "    \n",
    "    for i in range(len(nums)):\n",
    "        for j in range(i+1, len(nums)):\n",
    "            complement = target_val - nums[i] - nums[j]\n",
    "            \n",
    "            # Check if the 'complement' exists in the remaining part of the list 'nums'.\n",
    "            if complement in nums[:i] + nums[j+1:]:\n",
    "                result.add(tuple(sorted((nums[i], nums[j], complement))))\n",
    "    \n",
    "    return list(result)\n",
    "\n",
    "# Define a list of numbers 'nums' and a 'target_val' for testing.\n",
    "nums = [1, 2, 3, 4, 5, 6, 7, 8, 9]\n",
    "target_val = 12\n",
    "print(\"Combine three numbers whose sum equals the target number:\")\n",
    "print(find_combinations_of_three(nums, target_val))\n",
    "\n",
    "target_val = 17\n",
    "print(\"Combine three numbers whose sum equals the target number:\")\n",
    "print(find_combinations_of_three(nums, target_val)) \n"
   ]
  },
  {
   "cell_type": "code",
   "execution_count": 166,
   "id": "b56cff73-0da0-4ff8-8140-7e1b20764dce",
   "metadata": {},
   "outputs": [],
   "source": [
    "#Write a Python program to find the third largest number from a given list of numbers.Use the Python set data type"
   ]
  },
  {
   "cell_type": "code",
   "execution_count": null,
   "id": "ee815892-1796-4adf-b11e-58c0c62451a8",
   "metadata": {},
   "outputs": [],
   "source": [
    "list-set (1,3,5,7)\n",
    "set-list (sort,index)"
   ]
  }
 ],
 "metadata": {
  "kernelspec": {
   "display_name": "Python 3 (ipykernel)",
   "language": "python",
   "name": "python3"
  },
  "language_info": {
   "codemirror_mode": {
    "name": "ipython",
    "version": 3
   },
   "file_extension": ".py",
   "mimetype": "text/x-python",
   "name": "python",
   "nbconvert_exporter": "python",
   "pygments_lexer": "ipython3",
   "version": "3.11.7"
  }
 },
 "nbformat": 4,
 "nbformat_minor": 5
}
