{
 "cells": [
  {
   "cell_type": "code",
   "execution_count": 3,
   "id": "f240f387-ecc2-4e26-94e3-6e22ee7ba0a8",
   "metadata": {},
   "outputs": [
    {
     "name": "stdout",
     "output_type": "stream",
     "text": [
      "successfully\n"
     ]
    }
   ],
   "source": [
    "path=\"C:/Users/Hp/Desktop/username/fabric/fabric_test1/scope/default/0/xrun.log.txt\"\n",
    "f=open(path)\n",
    "print(\"successfully\")"
   ]
  },
  {
   "cell_type": "code",
   "execution_count": 7,
   "id": "468ef767-4c1a-497b-9de4-f2c2818f62b1",
   "metadata": {},
   "outputs": [
    {
     "name": "stdout",
     "output_type": "stream",
     "text": [
      "Hi i am in fab\n",
      "\n"
     ]
    }
   ],
   "source": [
    "path=\"C:/Users/Hp/Desktop/username/fabric/fabric_test1/scope/default/0/xrun.log.txt\"\n",
    "f=open(path,\"r\")\n",
    "print(f.read())"
   ]
  },
  {
   "cell_type": "code",
   "execution_count": 129,
   "id": "26d2ad40-5193-4588-94d3-6b2248a831df",
   "metadata": {},
   "outputs": [
    {
     "name": "stdout",
     "output_type": "stream",
     "text": [
      "fabric\n",
      "C:/Users/Hp/Desktop/username/fabric/fabric_test1/scope/default/\n",
      "C:/Users/Hp/Desktop/username/fabric/fabric_test2/scope/default/\n",
      "C:/Users/Hp/Desktop/username/fabric/fabric_test3/scope/default/\n",
      "C:/Users/Hp/Desktop/username/fabric/fabric_test4/scope/default/\n",
      "C:/Users/Hp/Desktop/username/fabric/fabric_test5/scope/default/\n",
      "C:/Users/Hp/Desktop/username/fabric/fabric_test6/scope/default/\n",
      "C:/Users/Hp/Desktop/username/fabric/fabric_test7/scope/default/\n",
      "C:/Users/Hp/Desktop/username/fabric/fabric_test8/scope/default/\n",
      "C:/Users/Hp/Desktop/username/fabric/fabric_test9/scope/default/\n",
      "C:/Users/Hp/Desktop/username/fabric/fabric_test10/scope/default/\n",
      "file count in the fabric regression is 200\n",
      "noc\n",
      "C:/Users/Hp/Desktop/username/noc/noc_test1/scope/default/\n",
      "C:/Users/Hp/Desktop/username/noc/noc_test2/scope/default/\n",
      "C:/Users/Hp/Desktop/username/noc/noc_test3/scope/default/\n",
      "C:/Users/Hp/Desktop/username/noc/noc_test4/scope/default/\n",
      "C:/Users/Hp/Desktop/username/noc/noc_test5/scope/default/\n",
      "C:/Users/Hp/Desktop/username/noc/noc_test6/scope/default/\n",
      "C:/Users/Hp/Desktop/username/noc/noc_test7/scope/default/\n",
      "C:/Users/Hp/Desktop/username/noc/noc_test8/scope/default/\n",
      "C:/Users/Hp/Desktop/username/noc/noc_test9/scope/default/\n",
      "C:/Users/Hp/Desktop/username/noc/noc_test10/scope/default/\n",
      "file count in the noc regression is 200\n",
      "pin_mux\n"
     ]
    }
   ],
   "source": [
    "import os\n",
    "from pathlib import Path\n",
    "\n",
    "reg_list=[\"fabric\",\"noc\",\"pin_mux\"]\n",
    "fabric_test_list=[\"fabric_test1\",\"fabric_test2\",\"fabric_test3\",\"fabric_test4\",\"fabric_test5\",\"fabric_test6\",\"fabric_test7\",\"fabric_test8\",\"fabric_test9\",\"fabric_test10\"]\n",
    "noc_test_list=[\"noc_test1\",\"noc_test2\",\"noc_test3\",\"noc_test4\",\"noc_test5\",\"noc_test6\",\"noc_test7\",\"noc_test8\",\"noc_test9\",\"noc_test10\"]\n",
    "pin_mux_test_list=[\"pin_mux_test1\",\"pin_mux_test2\",\"pin_mux_test3\",\"pin_mux_test4\",\"pin_mux_test5\",\"pin_mux_test6\",\"pin_mux_test7\",\"pin_mux_test8\",\"pin_mux_test9\",\"pin_mux_test10\"]\n",
    "path=\"C:/Users/Hp/Desktop/username/\"\n",
    "path3=\"scope/default/\"\n",
    "word1=\"UVM_ERROR\"\n",
    "word2=\"UVM_FATAL\"\n",
    "word3=\"*E\"\n",
    "word4=\"*F\"\n",
    "count=0\n",
    "for i in reg_list:\n",
    "    print(i)\n",
    "    if(i==\"fabric\"):\n",
    "        regression=i\n",
    "        path1=path+regression\n",
    "        for j in fabric_test_list:\n",
    "            path2=path1+\"/\"+j+\"/\"\n",
    "            path4=path2+path3\n",
    "            print(path4) \n",
    "            for file in os.listdir(path4):\n",
    "                #print(file)\n",
    "                cur_path = os.path.join(path4, file)\n",
    "                xrun_path=cur_path+\"/\"+\"xrun.log.txt\"\n",
    "                fp=open(xrun_path,\"r\")\n",
    "                count_uvm_error=0\n",
    "                count_uvm_fatal=0\n",
    "                count_elb=0\n",
    "                count_fat=0\n",
    "                contents=fp.readlines()\n",
    "                for content in contents:\n",
    "                    if word1 in content:\n",
    "                        count_uvm_error=count_uvm_error+1\n",
    "                    if word2 in content:\n",
    "                        count_uvm_fatal=count_uvm_fatal+1\n",
    "                    if word3 in content:\n",
    "                        count_elb=count_elb+1\n",
    "                    if word4 in content:\n",
    "                        count_fat=count_fat+1\n",
    "                    else:\n",
    "                        #print(\"lic_err\")\n",
    "                        pass\n",
    "                if(count_uvm_error>=2):\n",
    "                    #print(f\"UVM_ERROR testcase_name {j} seed={file} and no.of errors {count_uvm_error}\")\n",
    "                    fcue_dir_path=\"C:/Users/Hp/Desktop/username/Results/Fail/\"\n",
    "                    #fcue_test_path=fcue_dir_path+j+\"/\"+\"test_sv_\"+file+\".txt\"\n",
    "                    fcue_file=open(fcue_dir_path+regression+\"_\"+j+\"_test_sv_\"+file+\".txt\",\"w\")\n",
    "                    #print(\"okay\")\n",
    "                    #print(fcue_test_path)\n",
    "                    pass\n",
    "                if(count_uvm_fatal>=2):\n",
    "                    fcuf_dir_path=\"C:/Users/Hp/Desktop/username/Results/Fatal/\"\n",
    "                    #print(f\"UVM_FATAL testcase_name {j} seed={file} and no.of errors {count_uvm_fatal}\")\n",
    "                    fcuf_file=open(fcuf_dir_path+regression+\"_\"+j+\"_test_sv_\"+file+\".txt\",\"w\")\n",
    "                if(count_elb>=1):\n",
    "                    fcuel_dir_path=\"C:/Users/Hp/Desktop/username/Results/Elob_error/\"\n",
    "                    fcuel_file=open(fcuel_dir_path+regression+\"_\"+j+\"_test_sv_\"+file+\".txt\",\"w\")\n",
    "                    #print(\"*E\")\n",
    "                if(count_fat>=1):\n",
    "                    fcust_dir_path=\"C:/Users/Hp/Desktop/username/Results/Star_fatal/\"\n",
    "                    fcust_file=open(fcust_dir_path+regression+\"_\"+j+\"_test_sv_\"+file+\".txt\",\"w\")\n",
    "                    #print(\"*F\")\n",
    "                if(count_uvm_error==1 & count_uvm_fatal==1):\n",
    "                    fcups_dir_path=\"C:/Users/Hp/Desktop/username/Results/Pass/\"\n",
    "                    fcups_file=open(fcups_dir_path+regression+\"_\"+j+\"_test_sv_\"+file+\".txt\",\"w\")\n",
    "                    #print(\"PASS\")\n",
    "                count=count+1\n",
    "        print(f\"file count in the {regression} regression is {count}\")\n",
    "                        \n",
    "    elif(i==\"noc\"):\n",
    "        count=0\n",
    "        for k in range(0,1):\n",
    "            #print(j)\n",
    "            regression=i\n",
    "            path1=path+regression\n",
    "            for m in noc_test_list:\n",
    "                path2=path1+\"/\"+m+\"/\"\n",
    "                path4=path2+path3\n",
    "                print(path4) \n",
    "                for file in os.listdir(path4):\n",
    "                    #print(file)\n",
    "                    cur_path = os.path.join(path4, file)\n",
    "                    xrun_path=cur_path+\"/\"+\"xrun.log.txt\"\n",
    "                    fp=open(xrun_path,\"r\")\n",
    "                    count_uvm_error=0\n",
    "                    count_uvm_fatal=0\n",
    "                    count_elb=0\n",
    "                    count_fat=0\n",
    "                    contents=fp.readlines()\n",
    "                    for content in contents:\n",
    "                        if word1 in content:\n",
    "                            count_uvm_error=count_uvm_error+1\n",
    "                        if word2 in content:\n",
    "                            count_uvm_fatal=count_uvm_fatal+1\n",
    "                        if word3 in content:\n",
    "                            count_elb=count_elb+1\n",
    "                        if word4 in content:\n",
    "                            count_fat=count_fat+1\n",
    "                        else:\n",
    "                            #print(\"lic_err\")\n",
    "                            pass\n",
    "                    if(count_uvm_error>=2):\n",
    "                        #print(f\"UVM_ERROR testcase_name {m} seed={file} and no.of errors {count_uvm_error}\")\n",
    "                        fcue_dir_path=\"C:/Users/Hp/Desktop/username/Results/Fail/\"\n",
    "                        #fcue_test_path=fcue_dir_path+m+\"/\"+\"test_sv_\"+file+\".txt\"\n",
    "                        fcue_file=open(fcue_dir_path+regression+\"_\"+m+\"_test_sv_\"+file+\".txt\",\"w\")\n",
    "                        #print(\"okay\")\n",
    "                        #print(fcue_test_path)\n",
    "                        pass\n",
    "                    if(count_uvm_fatal>=2):\n",
    "                        fcuf_dir_path=\"C:/Users/Hp/Desktop/username/Results/Fatal/\"\n",
    "                        #print(f\"UVM_FATAL testcase_name {m} seed={file} and no.of errors {count_uvm_fatal}\")\n",
    "                        fcuf_file=open(fcuf_dir_path+regression+\"_\"+m+\"_test_sv_\"+file+\".txt\",\"w\")\n",
    "                    if(count_elb>=1):\n",
    "                        fcuel_dir_path=\"C:/Users/Hp/Desktop/username/Results/Elob_error/\"\n",
    "                        fcuel_file=open(fcuel_dir_path+regression+\"_\"+m+\"_test_sv_\"+file+\".txt\",\"w\")\n",
    "                        #print(\"*E\")\n",
    "                    if(count_fat>=1):\n",
    "                        fcust_dir_path=\"C:/Users/Hp/Desktop/username/Results/Star_fatal/\"\n",
    "                        fcust_file=open(fcust_dir_path+regression+\"_\"+m+\"_test_sv_\"+file+\".txt\",\"w\")\n",
    "                        #print(\"*F\")\n",
    "                    if(count_uvm_error==1 & count_uvm_fatal==1):\n",
    "                        fcups_dir_path=\"C:/Users/Hp/Desktop/username/Results/Pass/\"\n",
    "                        fcups_file=open(fcups_dir_path+regression+\"_\"+m+\"_test_sv_\"+file+\".txt\",\"w\")\n",
    "                        #print(\"PASS\")\n",
    "                    count=count+1\n",
    "            print(f\"file count in the {regression} regression is {count}\")\n",
    "                        \n",
    "            \n",
    " #   else:\n",
    " #       for l in pin_mux_test_list:\n",
    " #           print(l)\n",
    "#regression=input(\"enter the regression name\")\n",
    "#path1=path+regression\n",
    "#testcase_name=input(\"enetr testcase name\")\n",
    "#path2=path1+\"/\"+testcase_name+\"/\"\n",
    "#path3=\"scope/default/\"\n",
    "#path4=path2+path3\n",
    "#print(path4)"
   ]
  },
  {
   "cell_type": "code",
   "execution_count": 67,
   "id": "d9b4b77a-3293-43f7-b261-e65d98cb8f68",
   "metadata": {},
   "outputs": [
    {
     "ename": "SyntaxError",
     "evalue": "unexpected character after line continuation character (2953885301.py, line 1)",
     "output_type": "error",
     "traceback": [
      "\u001b[1;36m  Cell \u001b[1;32mIn[67], line 1\u001b[1;36m\u001b[0m\n\u001b[1;33m    C:\\Users\\Hp\\Desktop\\username\\fabric\\fabric_test1\\scope\\default\\0\\xrun.log.txt\u001b[0m\n\u001b[1;37m       ^\u001b[0m\n\u001b[1;31mSyntaxError\u001b[0m\u001b[1;31m:\u001b[0m unexpected character after line continuation character\n"
     ]
    }
   ],
   "source": [
    "C:\\Users\\Hp\\Desktop\\username\\fabric\\fabric_test1\\scope\\default\\0\\xrun.log.txt"
   ]
  },
  {
   "cell_type": "code",
   "execution_count": null,
   "id": "579bcc4e-50df-4b3b-9370-47419e715b2f",
   "metadata": {},
   "outputs": [],
   "source": [
    "dir_path=Path()"
   ]
  },
  {
   "cell_type": "code",
   "execution_count": 1,
   "id": "3f3264c7-082e-4131-b022-f56e9ff7b19d",
   "metadata": {},
   "outputs": [],
   "source": [
    "import pathlib"
   ]
  },
  {
   "cell_type": "code",
   "execution_count": 3,
   "id": "7c3ca185-4ada-4a62-b05b-90a33f1c951e",
   "metadata": {},
   "outputs": [],
   "source": [
    "from pathlib import Path"
   ]
  },
  {
   "cell_type": "code",
   "execution_count": 19,
   "id": "4e593293-a5ac-4f96-995c-36f2f0bdf328",
   "metadata": {},
   "outputs": [
    {
     "name": "stdout",
     "output_type": "stream",
     "text": [
      "C:\\Users\\Hp\\Python_Assignments\\xrun.log.txt\n"
     ]
    }
   ],
   "source": [
    "import os\n",
    "\n",
    "dir_path=Path(\"C:/Users/Hp/Desktop/Assignme\")\n",
    "dir_path.mkdir(parents=True, exist_ok=True)\n",
    "filename=\"xrun.log.txt\"\n",
    "file_path = os.path.abspath(filename)\n",
    "print(file_path)"
   ]
  },
  {
   "cell_type": "code",
   "execution_count": 21,
   "id": "a6c9082e-b32d-4815-abf7-ff5c1909b26d",
   "metadata": {},
   "outputs": [],
   "source": [
    "dir_path_cov=Path(\"C:/Users/Hp/Desktop/username/regression/coverage/fabric/fabric_xmlib/fabric_test1/default/scope/test_sv_0/\")\n",
    "dir_path_cov.mkdir(parents=True, exist_ok=True)"
   ]
  },
  {
   "cell_type": "code",
   "execution_count": 49,
   "id": "a0c7c21d-0b41-40ee-a110-28499025ce85",
   "metadata": {},
   "outputs": [],
   "source": [
    "for i in range(0,20):\n",
    "    path1=\"C:/Users/Hp/Desktop/username/regression/coverage/fabric/fabric_xmlib/fabric_test10/default/scope\n",
    "    dir_path_cov=Path(path1)\n",
    "    dir_path_cov.mkdir(parents=True, exist_ok=True)\n",
    "    filename=\"test_sv_\"+str(i)+\".ucd\"\n",
    "    file_path=open(path1+filename,\"x\")\n",
    "    \n",
    "    \n",
    "    "
   ]
  },
  {
   "cell_type": "code",
   "execution_count": 57,
   "id": "f00e347a-5dcd-463b-8832-59968d0b33b6",
   "metadata": {},
   "outputs": [
    {
     "name": "stdout",
     "output_type": "stream",
     "text": [
      "C:\\Users\\Hp\\Python_Assignments\\regression\\coverage\\fabric\\fabric_xmlib\\fabric_test10\\default\\scope\n"
     ]
    }
   ],
   "source": [
    "from pathlib import Path\n",
    "path1=Path(\"regression/coverage/fabric/fabric_xmlib/fabric_test10/default/scope\")\n",
    "file_path=path1.resolve()\n",
    "print(file_path)"
   ]
  },
  {
   "cell_type": "code",
   "execution_count": null,
   "id": "b446910a-5ef7-485f-b96e-3ec3a9faaba6",
   "metadata": {},
   "outputs": [],
   "source": [
    "\"C:/Users/Hp/Desktop/username/"
   ]
  },
  {
   "cell_type": "code",
   "execution_count": null,
   "id": "79c48c4f-00e1-44bd-b6a9-1cc9d87828be",
   "metadata": {},
   "outputs": [],
   "source": []
  },
  {
   "cell_type": "code",
   "execution_count": 127,
   "id": "bb8d2e1d-bfee-46ae-83a4-f21f2c08d789",
   "metadata": {},
   "outputs": [
    {
     "name": "stdout",
     "output_type": "stream",
     "text": [
      "C:/Users/Hp/Desktop/username/fabric\n",
      "{'fabric': {'fabric_test1': ['1', '10', '11', '13', '14', '16', '19', '3', '4', '5', '8', '9']}}\n",
      "{'fabric': {'fabric_test2': ['1', '10', '11', '13', '14', '16', '19', '3', '4', '5', '8', '9']}}\n",
      "{'fabric': {'fabric_test3': ['1', '10', '11', '13', '14', '16', '19', '3', '4', '5', '8', '9']}}\n",
      "{'fabric': {'fabric_test4': ['1', '10', '11', '13', '14', '16', '19', '3', '4', '5', '8', '9']}}\n",
      "{'fabric': {'fabric_test5': ['1', '10', '11', '13', '14', '16', '19', '3', '4', '5', '8', '9']}}\n",
      "{'fabric': {'fabric_test6': ['1', '10', '11', '13', '14', '16', '19', '3', '4', '5', '8', '9']}}\n",
      "{'fabric': {'fabric_test7': ['1', '10', '11', '13', '14', '16', '19', '3', '4', '5', '8', '9']}}\n",
      "{'fabric': {'fabric_test8': ['1', '10', '11', '13', '14', '16', '19', '3', '4', '5', '8', '9']}}\n",
      "{'fabric': {'fabric_test9': ['1', '10', '11', '13', '14', '16', '19', '3', '4', '5', '8', '9']}}\n",
      "{'fabric': {'fabric_test10': ['1', '10', '11', '13', '14', '16', '19', '3', '4', '5', '8', '9']}}\n"
     ]
    }
   ],
   "source": [
    "import os \n",
    "import re\n",
    "import pathlib\n",
    "from pathlib import Path\n",
    "reg_list=[\"fabric\",\"noc\",\"pin_mux\"]\n",
    "fabric_test_list=[\"fabric_test1\",\"fabric_test2\",\"fabric_test3\",\"fabric_test4\",\"fabric_test5\",\"fabric_test6\",\"fabric_test7\",\"fabric_test8\",\"fabric_test9\",\"fabric_test10\"]\n",
    "noc_test_list=[\"noc_test1\",\"noc_test2\",\"noc_test3\",\"noc_test4\",\"noc_test5\",\"noc_test6\",\"noc_test7\",\"noc_test8\",\"noc_test9\",\"noc_test10\"]\n",
    "bpath=\"C:/Users/Hp/Desktop/username/\"\n",
    "bpath1=\"scope/default/\"\n",
    "bpath2=\"default/scope/\"\n",
    "lib_name={'fabric': 'fabric_xmlib', 'noc': 'noc_xmlib'}\n",
    "word1=\"UVM_ERROR\"\n",
    "word2=\"UVM_FATAL\"\n",
    "word3=\"*E\"\n",
    "word4=\"*F\"\n",
    "count=0\n",
    "reg_val={}\n",
    "\n",
    "for i in reg_list:\n",
    "    #print(i)\n",
    "    if(i==\"fabric\"):\n",
    "        regression_name=i\n",
    "        rs_path=bpath+regression_name\n",
    "        print(rs_path)\n",
    "        for j in fabric_test_list:\n",
    "            seeds=[]\n",
    "            rs_path1=rs_path+\"/\"+j+\"/\"\n",
    "            rs_path2=rs_path1+bpath1\n",
    "            #print(rs_path2)\n",
    "            for file in os.listdir(rs_path2):\n",
    "                cur_path = os.path.join(rs_path2, file)\n",
    "                xrun_path=cur_path+\"/\"+\"xrun.log.txt\"\n",
    "                #print(xrun_path)\n",
    "                fp=open(xrun_path,\"r\")\n",
    "                count_uvm_error=0\n",
    "                count_uvm_fatal=0\n",
    "                count_elb=0\n",
    "                count_fat=0\n",
    "                file1=\"\"\n",
    "                contents=fp.readlines()\n",
    "                for content in contents:\n",
    "                    if word1 in content:\n",
    "                        count_uvm_error=count_uvm_error+1\n",
    "                    if word2 in content:\n",
    "                        count_uvm_fatal=count_uvm_fatal+1\n",
    "                    if word3 in content:\n",
    "                        count_elb=count_elb+1\n",
    "                    if word4 in content:\n",
    "                        count_fat=count_fat+1\n",
    "                    else:\n",
    "                        #print(\"lic_err\")\n",
    "                        pass\n",
    "                if(count_uvm_error>=2):\n",
    "                    fcue_dir_path=\"C:/Users/Hp/Desktop/username/Results/Fail/\"\n",
    "                    fcue_file=open(fcue_dir_path+regression_name+\"_\"+j+\"_test_sv_\"+file+\".txt\",\"w\")\n",
    "                if(count_uvm_fatal>=2):\n",
    "                    fcuf_dir_path=\"C:/Users/Hp/Desktop/username/Results/Fatal/\"\n",
    "                    fcuf_file=open(fcuf_dir_path+regression_name+\"_\"+j+\"_test_sv_\"+file+\".txt\",\"w\")\n",
    "                if(count_elb>=1):\n",
    "                    fcuel_dir_path=\"C:/Users/Hp/Desktop/username/Results/Elob_error/\"\n",
    "                    fcuel_file=open(fcuel_dir_path+regression_name+\"_\"+j+\"_test_sv_\"+file+\".txt\",\"w\")\n",
    "                if(count_fat>=1):\n",
    "                    fcust_dir_path=\"C:/Users/Hp/Desktop/username/Results/Star_fatal/\"\n",
    "                    fcust_file=open(fcust_dir_path+regression_name+\"_\"+j+\"_test_sv_\"+file+\".txt\",\"w\")\n",
    "                if(count_uvm_error==1 & count_uvm_fatal==1):\n",
    "                    fcups_dir_path=\"C:/Users/Hp/Desktop/username/Results/Pass/\"\n",
    "                    fcups_file=open(fcups_dir_path+regression_name+\"_\"+j+\"_test_sv_\"+file+\".txt\",\"w\")\n",
    "                    #reg_val[\"seed\"]=file\n",
    "                    seeds.append(file)\n",
    "            reg_val[regression_name]={j:seeds}02\n",
    "            print(reg_val)\n",
    "           # reg_val[\"testcase_name\"]=j\n",
    "    #reg_val[\"regression_name\"]=regression_name                \n",
    "    #xmlib_val=lib_name[regression_name]\n",
    "                    \n",
    "\n",
    "\n",
    "                    \n"
   ]
  },
  {
   "cell_type": "code",
   "execution_count": 99,
   "id": "229441de-4c8f-49ea-9936-912e7e0ebbce",
   "metadata": {},
   "outputs": [
    {
     "ename": "TypeError",
     "evalue": "'str' object does not support item assignment",
     "output_type": "error",
     "traceback": [
      "\u001b[1;31m---------------------------------------------------------------------------\u001b[0m",
      "\u001b[1;31mTypeError\u001b[0m                                 Traceback (most recent call last)",
      "Cell \u001b[1;32mIn[99], line 4\u001b[0m\n\u001b[0;32m      2\u001b[0m a\u001b[38;5;241m=\u001b[39m[\u001b[38;5;241m1\u001b[39m,\u001b[38;5;241m2\u001b[39m,\u001b[38;5;241m3\u001b[39m]\n\u001b[0;32m      3\u001b[0m reg_list[\u001b[38;5;124m\"\u001b[39m\u001b[38;5;124mfabric\u001b[39m\u001b[38;5;124m\"\u001b[39m]\u001b[38;5;241m=\u001b[39m\u001b[38;5;124m\"\u001b[39m\u001b[38;5;124mtest_1\u001b[39m\u001b[38;5;124m\"\u001b[39m\n\u001b[1;32m----> 4\u001b[0m reg_list[\u001b[38;5;124m\"\u001b[39m\u001b[38;5;124mfabric\u001b[39m\u001b[38;5;124m\"\u001b[39m][\u001b[38;5;124m\"\u001b[39m\u001b[38;5;124mtest_1\u001b[39m\u001b[38;5;124m\"\u001b[39m]\u001b[38;5;241m=\u001b[39ma\n\u001b[0;32m      5\u001b[0m \u001b[38;5;28mprint\u001b[39m(reg_list)\n",
      "\u001b[1;31mTypeError\u001b[0m: 'str' object does not support item assignment"
     ]
    }
   ],
   "source": [
    "reg_list={}\n",
    "a=[1,2,3]\n",
    "reg_list[\"fabric\"]=\"test_1\"\n",
    "reg_list[\"fabric\"][\"test_1\"]=a\n",
    "print(reg_list)"
   ]
  },
  {
   "cell_type": "code",
   "execution_count": 101,
   "id": "fe0a1635-8a51-44dc-9e27-fde43e30822b",
   "metadata": {},
   "outputs": [
    {
     "name": "stdout",
     "output_type": "stream",
     "text": [
      "1\n",
      "2\n",
      "3\n",
      "4\n"
     ]
    }
   ],
   "source": [
    "# Define the data\n",
    "fabric = {\n",
    "    \"test1\": [1, 2],\n",
    "    \"test2\": [3, 4]\n",
    "}\n",
    "\n",
    "# Access elements in test1\n",
    "print(fabric[\"test1\"][0])  # Output: 1\n",
    "print(fabric[\"test1\"][1])  # Output: 2\n",
    "\n",
    "# Access elements in test2\n",
    "print(fabric[\"test2\"][0])  # Output: 3\n",
    "print(fabric[\"test2\"][1])  # Output: 4\n"
   ]
  },
  {
   "cell_type": "code",
   "execution_count": 119,
   "id": "6cfad443-6478-437b-afa2-e6fbbab8cdfa",
   "metadata": {},
   "outputs": [
    {
     "name": "stdout",
     "output_type": "stream",
     "text": [
      "{'fabric': {'test1': [1, 2, 3, 4, 5]}, 'noc': {'test1': [1, 2, 3, 4, 5]}}\n"
     ]
    }
   ],
   "source": [
    "reg_list={}\n",
    "a=[1,2,3,4,5]\n",
    "reg_list[\"fabric\"]={\"test1\":a}\n",
    "reg_list[\"noc\"]={\"test1\":a}\n",
    "print(reg_list)"
   ]
  },
  {
   "cell_type": "code",
   "execution_count": null,
   "id": "cd6c1580-1cfe-426a-8d16-27fd347e9f4f",
   "metadata": {},
   "outputs": [],
   "source": []
  }
 ],
 "metadata": {
  "kernelspec": {
   "display_name": "Python 3 (ipykernel)",
   "language": "python",
   "name": "python3"
  },
  "language_info": {
   "codemirror_mode": {
    "name": "ipython",
    "version": 3
   },
   "file_extension": ".py",
   "mimetype": "text/x-python",
   "name": "python",
   "nbconvert_exporter": "python",
   "pygments_lexer": "ipython3",
   "version": "3.11.7"
  }
 },
 "nbformat": 4,
 "nbformat_minor": 5
}
