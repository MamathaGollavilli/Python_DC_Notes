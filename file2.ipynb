{
 "cells": [
  {
   "cell_type": "code",
   "execution_count": 1,
   "id": "6fb6ac9a-6aac-44ea-ab3c-f5b390b32cca",
   "metadata": {},
   "outputs": [],
   "source": [
    "#copy "
   ]
  },
  {
   "cell_type": "code",
   "execution_count": 2,
   "id": "7f94e00b-8aef-4dd6-bba3-8adb75c607d1",
   "metadata": {},
   "outputs": [
    {
     "name": "stdin",
     "output_type": "stream",
     "text": [
      "Enter Source File: myfile.txt\n",
      "Enter Target File: myfile7.txt\n"
     ]
    },
    {
     "name": "stdout",
     "output_type": "stream",
     "text": [
      "File Copied...\n",
      "Hello There \n",
      "This is Python \n",
      "Programm \n",
      "class day5 \n",
      "today class about file handling\n"
     ]
    }
   ],
   "source": [
    "sfile=input(\"Enter Source File:\")\n",
    "sf=open(sfile,\"r\")\n",
    "tfile = input(\"Enter Target File:\")\n",
    "tf=open(tfile,\"w\")\n",
    "tf.write(sf.read())\n",
    "sf.close()\n",
    "tf.close()\n",
    "print(\"File Copied...\")\n",
    "fp=open(\"myfile1.txt\")\n",
    "print(fp.read())"
   ]
  },
  {
   "cell_type": "code",
   "execution_count": 3,
   "id": "a40706e0-3fff-4b53-aed4-3fb9534f41b8",
   "metadata": {},
   "outputs": [
    {
     "name": "stdout",
     "output_type": "stream",
     "text": [
      "<class 'list'>\n",
      "file1 content...\n",
      "Hello There \n",
      "This is Python \n",
      "Programm \n",
      "class day5 \n",
      "today class about file handling\n",
      "\n",
      "file2 content...\n",
      "This is Python \n",
      "class day5 \n",
      "\n"
     ]
    }
   ],
   "source": [
    "# opening the file\n",
    "file1 = open('myfile.txt', 'r') \n",
    "\n",
    "# creating another file to store odd lines\n",
    "file2 = open('myfile7.txt', 'w') \n",
    "\n",
    "# reading content of the files\n",
    "# and writing odd lines to another file\n",
    "lines = file1.readlines() \n",
    "print(type(lines)) \n",
    "for i in range(0, len(lines)): \n",
    "\tif(i % 2 != 0): \n",
    "\t\tfile2.write(lines[i]) \n",
    "\n",
    "# closing the files\n",
    "file1.close()\n",
    "file2.close() \n",
    "\n",
    "# opening the files and printing their content\n",
    "file1 = open('myfile.txt', 'r') \n",
    "file2 = open('myfile7.txt', 'r') \n",
    "\n",
    "# reading and printing the files content\n",
    "str1 = file1.read()\n",
    "str2 = file2.read()\n",
    "\n",
    "print(\"file1 content...\")\n",
    "print(str1)\n",
    "\n",
    "print() # to print new line\n",
    "\n",
    "print(\"file2 content...\")\n",
    "print(str2)\n",
    "\n",
    "# closing the files\n",
    "file1.close()\n",
    "file2.close()\n"
   ]
  },
  {
   "cell_type": "code",
   "execution_count": 6,
   "id": "b6da6cdc-f2d7-4101-9143-0d03e84557b8",
   "metadata": {},
   "outputs": [
    {
     "name": "stdout",
     "output_type": "stream",
     "text": [
      "merged succefully\n",
      "Hello There \n",
      "This is Python \n",
      "Programm \n",
      "class day5 \n",
      "today class about file handlingHello There \n",
      "This is Python \n",
      "Programm \n",
      "class day5 \n",
      "today class about file handling\n"
     ]
    }
   ],
   "source": [
    "#merging two files:\n",
    "file1 = open('myfile.txt', 'r') \n",
    "file2 = open('myfile7.txt', 'r') \n",
    "merge_file=open(\"merge_file.txt\",\"w\")\n",
    "merge_file.write(file1.read())\n",
    "merge_file.write(file2.read())\n",
    "print(\"merged succefully\")\n",
    "file1.close()\n",
    "file2.close()\n",
    "merge_file.close()\n",
    "merge_file=open(\"merge_file.txt\",\"r\")\n",
    "print(merge_file.read())\n",
    "\n"
   ]
  },
  {
   "cell_type": "code",
   "execution_count": 23,
   "id": "681c8f61-64da-441f-9bd1-fabe943a1367",
   "metadata": {},
   "outputs": [
    {
     "name": "stdout",
     "output_type": "stream",
     "text": [
      "['2\\n', '4\\n', '6\\n', '8\\n', '10\\n', '12\\n', '14\\n', '16']\n",
      "['1\\n', '3\\n', '5\\n', '7\\n', '9']\n",
      "even_file_length 5\n",
      "1\n",
      "2\n",
      "3\n",
      "4\n",
      "5\n",
      "6\n",
      "7\n",
      "8\n",
      "910\n",
      "12\n",
      "14\n",
      "16\n"
     ]
    }
   ],
   "source": [
    "fe=open(\"even_numbers.txt\",\"r\")\n",
    "fo=open(\"odd_numbers.txt\",\"r\")\n",
    "fm=open(\"merged_file_numbers.txt\",\"w\")\n",
    "\n",
    "fe_lines=fe.readlines()\n",
    "fo_lines=fo.readlines()\n",
    "print(fe_lines)\n",
    "print(fo_lines)\n",
    "if (len(fe_lines)<len(fo_lines)):\n",
    "    length=len(fe_lines)\n",
    "    print(\"odd_file_length\",length)\n",
    "else:\n",
    "    length=len(fo_lines)\n",
    "    print(\"even_file_length\",length)\n",
    "for i in range(0,length):\n",
    "    fm.write(fo_lines[i])\n",
    "    fm.write(fe_lines[i])\n",
    "   # fm.write(\"\")\n",
    "if(length < len(fe_lines)):\n",
    "   fm.writelines(fe_lines[length:])\n",
    "elif(length < len(fo_lines)):\n",
    "    fm.writelines(fe_lines[length:])\n",
    "else:\n",
    "    pass\n",
    "    \n",
    "fm.close()\n",
    "fo.close()\n",
    "fe.close()\n",
    "\n",
    "fm=open(\"merged_file_numbers.txt\",\"r\")\n",
    "print(fm.read())\n",
    "\n"
   ]
  },
  {
   "cell_type": "code",
   "execution_count": 27,
   "id": "22c03cba-6eb4-424b-8ef1-668802442bd9",
   "metadata": {},
   "outputs": [
    {
     "name": "stdout",
     "output_type": "stream",
     "text": [
      "even_file_length 5\n",
      "1\n",
      "2\n",
      "3\n",
      "4\n",
      "5\n",
      "6\n",
      "7\n",
      "8\n",
      "9\n",
      "10\n",
      "12\n",
      "14\n",
      "16\n"
     ]
    }
   ],
   "source": [
    "fe=open(\"even_numbers.txt\",\"r\")\n",
    "fo=open(\"odd_numbers.txt\",\"r\")\n",
    "fm=open(\"merged_file_numbers.txt\",\"w\")\n",
    "\n",
    "fe_lines=fe.readlines()\n",
    "fo_lines=fo.readlines()\n",
    "if (len(fe_lines)<len(fo_lines)):\n",
    "    length=len(fe_lines)\n",
    "    print(\"odd_file_length\",length)\n",
    "else:\n",
    "    length=len(fo_lines)\n",
    "    print(\"even_file_length\",length)\n",
    "for i in range(0,length):\n",
    "    fm.write(fo_lines[i].strip())\n",
    "    fm.write(\"\\n\")\n",
    "    fm.write(fe_lines[i].strip())\n",
    "    fm.write(\"\\n\")\n",
    "if(length < len(fe_lines)):\n",
    "   fm.writelines(fe_lines[length:])\n",
    "elif(length < len(fo_lines)):\n",
    "    fm.writelines(fe_lines[length:])\n",
    "else:\n",
    "    pass\n",
    "    \n",
    "fm.close()\n",
    "fo.close()\n",
    "fe.close()\n",
    "\n",
    "fm=open(\"merged_file_numbers.txt\",\"r\")\n",
    "print(fm.read())\n",
    "fm.close()\n"
   ]
  },
  {
   "cell_type": "code",
   "execution_count": 86,
   "id": "d570cb9f-71b6-4d39-9e99-020371c6f284",
   "metadata": {},
   "outputs": [
    {
     "name": "stdout",
     "output_type": "stream",
     "text": [
      "34201f21\n",
      "98907436\n",
      "b4234578\n",
      "09\n",
      "\n"
     ]
    }
   ],
   "source": [
    "fb=open(\"byte.txt\",\"r\")\n",
    "fb1=open(\"byte1.txt\",\"w\")\n",
    "\n",
    "byte_lines=fb.readlines()\n",
    "for i in range(0,len(byte_lines),4):\n",
    "    byte_lines1=byte_lines[i:i+4]\n",
    "    l=[]\n",
    "    #print(byte_lines1)\n",
    "    for k in range (len(byte_lines1)-1,0-1,-1):\n",
    "        byte_lines1[k]=byte_lines1[k].strip()\n",
    "        l.append(byte_lines1[k])\n",
    "    #print(l)\n",
    "    m=\"\".join(l)\n",
    "    #print(m)\n",
    "    fb1.write(m)\n",
    "    fb1.write(\"\\n\")        \n",
    "fb.close()\n",
    "fb1.close()\n",
    "fb1=open(\"byte1.txt\",\"r\")\n",
    "print(fb1.read())\n",
    "fb1.close()"
   ]
  },
  {
   "cell_type": "code",
   "execution_count": 87,
   "id": "ceded759-c831-4753-bf47-d997e8c6b51f",
   "metadata": {},
   "outputs": [
    {
     "name": "stdout",
     "output_type": "stream",
     "text": [
      "211f2034\n",
      "36749098\n",
      "784523b4\n",
      "09\n",
      "\n"
     ]
    }
   ],
   "source": [
    "fb=open(\"byte.txt\",\"r\")\n",
    "fb1=open(\"byte1.txt\",\"w\")\n",
    "\n",
    "byte_lines=fb.readlines()\n",
    "for i in range(0,len(byte_lines),4):\n",
    "    byte_lines1=byte_lines[i:i+4]\n",
    "    l=[]\n",
    "    #print(byte_lines1)\n",
    "    for k in range (0,len(byte_lines1)):\n",
    "        byte_lines1[k]=byte_lines1[k].strip()\n",
    "        l.append(byte_lines1[k])\n",
    "    #print(l)\n",
    "    m=\"\".join(l)\n",
    "    #print(m)\n",
    "    fb1.write(m)\n",
    "    fb1.write(\"\\n\")        \n",
    "fb.close()\n",
    "fb1.close()\n",
    "fb1=open(\"byte1.txt\",\"r\")\n",
    "print(fb1.read())\n",
    "fb1.close()"
   ]
  },
  {
   "cell_type": "code",
   "execution_count": 83,
   "id": "f055a63b-4632-4ce0-99e4-3e6f4cd102b7",
   "metadata": {},
   "outputs": [
    {
     "name": "stdout",
     "output_type": "stream",
     "text": [
      "Word count in file1.txt: 25\n",
      "Word count in file2.txt: 13\n"
     ]
    }
   ],
   "source": [
    "#count words in two files\n",
    "def count_words(filename):\n",
    "    with open(filename, 'r') as file:\n",
    "        content = file.read()\n",
    "        words = content.split()\n",
    "        return len(words)\n",
    "\n",
    "# Count words in both files\n",
    "word_count_file1 = count_words('myfile.txt')\n",
    "word_count_file2 = count_words('merge_file.txt')\n",
    "\n",
    "print(f\"Word count in file1.txt: {word_count_file1}\")\n",
    "print(f\"Word count in file2.txt: {word_count_file2}\")\n"
   ]
  },
  {
   "cell_type": "code",
   "execution_count": null,
   "id": "eaf27067-56f4-4f9b-b873-e6e51e38d04b",
   "metadata": {},
   "outputs": [],
   "source": []
  },
  {
   "cell_type": "code",
   "execution_count": 25,
   "id": "13101587-8d97-4a6c-a381-6844d022a80d",
   "metadata": {},
   "outputs": [],
   "source": [
    "def swap_files_content(file1, file2):\n",
    "    with open(file1, 'r') as f1, open(file2, 'r') as f2:\n",
    "        content1 = f1.read()\n",
    "        content2 = f2.read()\n",
    "    \n",
    "    with open(file1, 'w') as f1, open(file2, 'w') as f2:\n",
    "        f1.write(content2)\n",
    "        f2.write(content1)\n",
    "\n",
    "# Usage\n",
    "swap_files_content('myfile.txt', 'merge_file.txt')"
   ]
  },
  {
   "cell_type": "code",
   "execution_count": 24,
   "id": "1ecad39a-de4b-4bef-8830-0c635b4cfd4c",
   "metadata": {},
   "outputs": [
    {
     "name": "stdout",
     "output_type": "stream",
     "text": [
      "Hello There \n",
      "This is Python \n",
      "Programm \n",
      "session day5 \n",
      "today session about file handlingHello There \n",
      "This is Python \n",
      "Programm \n",
      "session day5 \n",
      "today session about file handling\n"
     ]
    }
   ],
   "source": [
    "def find_and_replace(file1, file2, search_string, replace_string):\n",
    "    def replace_in_file(file_path):\n",
    "        with open(file_path, 'r') as file:\n",
    "            content = file.read()\n",
    "        content = content.replace(search_string, replace_string)\n",
    "        with open(file_path, 'w') as file:\n",
    "            file.write(content)\n",
    "    \n",
    "    replace_in_file(file1)\n",
    "    replace_in_file(file2)\n",
    "\n",
    "# Usage\n",
    "find_and_replace('myfile.txt', 'merge_file.txt', 'class', 'session')\n",
    "with open(\"merge_file.txt\", 'r') as file:\n",
    "    print(file.read())\n"
   ]
  },
  {
   "cell_type": "markdown",
   "id": "8cf59ac4-6698-43bf-9d2e-d9c22076c830",
   "metadata": {},
   "source": [
    "###### Handling binary files in Python involves reading and writing data in binary format. Unlike text files, binary files are not human-readable and contain data in bytes."
   ]
  },
  {
   "cell_type": "code",
   "execution_count": 3,
   "id": "5f428897-e571-42cd-aecd-586c60485456",
   "metadata": {},
   "outputs": [
    {
     "name": "stdout",
     "output_type": "stream",
     "text": [
      "successfully writing into the file b'\\x00\\x01\\x02\\x03\\x04\\x05'\n"
     ]
    }
   ],
   "source": [
    "# Writing binary data to a file\n",
    "data = b'\\x00\\x01\\x02\\x03\\x04\\x05'  # Example binary data\n",
    "\n",
    "with open('example.bin', 'wb') as file:\n",
    "    file.write(data)\n",
    "    print(\"successfully writing into the file\",data)\n"
   ]
  },
  {
   "cell_type": "code",
   "execution_count": 4,
   "id": "8fac660b-a334-4b14-8eb3-fa448e1517e2",
   "metadata": {},
   "outputs": [
    {
     "name": "stdout",
     "output_type": "stream",
     "text": [
      "b'\\x00\\x01\\x02\\x03\\x04\\x05'\n"
     ]
    }
   ],
   "source": [
    "# Reading binary data from a file\n",
    "with open('example.bin', 'rb') as file:\n",
    "    binary_data = file.read()\n",
    "    print(binary_data)\n"
   ]
  },
  {
   "cell_type": "code",
   "execution_count": 6,
   "id": "0685cedc-0b61-4fac-9291-3dfa1b63cf08",
   "metadata": {},
   "outputs": [
    {
     "name": "stdout",
     "output_type": "stream",
     "text": [
      "b'\\x00\\x01\\x02\\x03\\x04\\x05\\x06\\x07\\x08\\t\\x06\\x07\\x08\\t'\n"
     ]
    }
   ],
   "source": [
    "# Appending binary data to a file\n",
    "more_data = b'\\x06\\x07\\x08\\x09'\n",
    "\n",
    "with open('example.bin', 'ab') as file:\n",
    "    file.write(more_data)\n",
    "with open('example.bin', 'rb') as file:\n",
    "    binary_data = file.read()\n",
    "    print(binary_data)\n"
   ]
  },
  {
   "cell_type": "code",
   "execution_count": 7,
   "id": "2dc5be0e-e8a4-48b9-bdef-0546b09d5324",
   "metadata": {},
   "outputs": [
    {
     "name": "stdout",
     "output_type": "stream",
     "text": [
      "b'\\x00\\x01\\x02\\x03\\x04\\x05\\x06\\x07\\x08\\t\\x06\\x07\\x08\\t'\n"
     ]
    }
   ],
   "source": [
    "# Reading binary file line by line\n",
    "with open('example.bin', 'rb') as file:\n",
    "    for line in file:\n",
    "        print(line)\n"
   ]
  },
  {
   "cell_type": "code",
   "execution_count": 10,
   "id": "31008fee-5d6d-42bf-a016-8824950ead07",
   "metadata": {},
   "outputs": [
    {
     "name": "stdout",
     "output_type": "stream",
     "text": [
      "Binary data: b'\\x00\\x01\\x02\\x03\\x04\\x05\\x06\\x07\\x08\\t'\n",
      "<class 'bytes'>\n",
      "Integer list: [0, 1, 2, 3, 4, 5, 6, 7, 8, 9]\n",
      "Integer list: (0, 1, 2, 3, 4, 5, 6, 7, 8, 9)\n"
     ]
    }
   ],
   "source": [
    "# Example binary data\n",
    "data1 = b'\\x00\\x01\\x02\\x03\\x04'\n",
    "data2 = b'\\x05\\x06\\x07\\x08\\x09'\n",
    "\n",
    "# Write binary data to a file\n",
    "with open('example.bin', 'wb') as file:\n",
    "    file.write(data1)\n",
    "\n",
    "# Append more binary data to the file\n",
    "with open('example.bin', 'ab') as file:\n",
    "    file.write(data2)\n",
    "\n",
    "# Read the binary data from the file\n",
    "with open('example.bin', 'rb') as file:\n",
    "    binary_data = file.read()\n",
    "    print(\"Binary data:\", binary_data)\n",
    "    print(type(binary_data))\n",
    "    \n",
    "# Convert binary data to a list of integers\n",
    "integer_list = list(binary_data)\n",
    "print(\"Integer list:\", integer_list)\n",
    "\n",
    "integer_list = tuple(binary_data)\n",
    "print(\"Integer list:\", integer_list)"
   ]
  },
  {
   "cell_type": "code",
   "execution_count": 11,
   "id": "26e959ef-8fb9-4ade-8a69-8b57e5c25925",
   "metadata": {},
   "outputs": [],
   "source": [
    "# Writing list of integers as bytes\n",
    "data = [1, 2, 3, 4, 5]\n",
    "byte_data = bytearray(data)\n",
    "\n",
    "with open('example_list.bin', 'wb') as file:\n",
    "    file.write(byte_data)\n"
   ]
  },
  {
   "cell_type": "code",
   "execution_count": 15,
   "id": "3de02eb2-9fd5-43d4-82df-9ca7d0c82aab",
   "metadata": {},
   "outputs": [
    {
     "name": "stdout",
     "output_type": "stream",
     "text": [
      "{'name': 'Alice', 'age': 30, 'scores': [95, 88, 92], 'is_active': True}\n"
     ]
    }
   ],
   "source": [
    "import pickle\n",
    "\n",
    "# Data to be pickled\n",
    "data = {\n",
    "    'name': 'Alice',\n",
    "    'age': 30,\n",
    "    'scores': [95, 88, 92],\n",
    "    'is_active': True\n",
    "}\n",
    "\n",
    "# Pickling the data\n",
    "with open('data.bin', 'wb') as file:\n",
    "    pickle.dump(data, file)\n",
    "\n",
    "# Unpickling the data\n",
    "with open('data.bin', 'rb') as file:\n",
    "    loaded_data = pickle.load(file)\n",
    "\n",
    "print(loaded_data)\n"
   ]
  },
  {
   "cell_type": "code",
   "execution_count": 16,
   "id": "462b2f10-db35-48a4-bb31-269e1d3c580b",
   "metadata": {},
   "outputs": [
    {
     "name": "stdout",
     "output_type": "stream",
     "text": [
      "{'name': 'Charlie', 'age': 40}\n",
      "[1, 2, 3, 4, 5]\n",
      "('tuple', 'with', 'several', 'elements')\n"
     ]
    }
   ],
   "source": [
    "import pickle\n",
    "\n",
    "# Data to be pickled\n",
    "data1 = {'name': 'Charlie', 'age': 40}\n",
    "data2 = [1, 2, 3, 4, 5]\n",
    "data3 = ('tuple', 'with', 'several', 'elements')\n",
    "\n",
    "# Pickling multiple objects\n",
    "with open('multiple_data.pkl', 'wb') as file:\n",
    "    pickle.dump(data1, file)\n",
    "    pickle.dump(data2, file)\n",
    "    pickle.dump(data3, file)\n",
    "\n",
    "# Unpickling multiple objects\n",
    "with open('multiple_data.pkl', 'rb') as file:\n",
    "    loaded_data1 = pickle.load(file)\n",
    "    loaded_data2 = pickle.load(file)\n",
    "    loaded_data3 = pickle.load(file)\n",
    "\n",
    "print(loaded_data1)\n",
    "print(loaded_data2)\n",
    "print(loaded_data3)\n"
   ]
  },
  {
   "cell_type": "code",
   "execution_count": 18,
   "id": "caf00000-ac7d-4482-aa60-78f781ecbadc",
   "metadata": {},
   "outputs": [
    {
     "name": "stdout",
     "output_type": "stream",
     "text": [
      "successfully\n"
     ]
    }
   ],
   "source": [
    "import csv\n",
    "\n",
    "# Data to be written to CSV\n",
    "data = [\n",
    "    {'name': 'Alice', 'age': 30, 'city': 'New York'},\n",
    "    {'name': 'Bob', 'age': 25, 'city': 'Los Angeles'},\n",
    "    {'name': 'Charlie', 'age': 35, 'city': 'Chicago'}\n",
    "]\n",
    "\n",
    "# Field names (CSV header)\n",
    "fieldnames = ['name', 'age', 'city']\n",
    "\n",
    "# Writing to CSV file\n",
    "with open('data.csv', 'w', newline='') as file:\n",
    "    writer = csv.DictWriter(file, fieldnames=fieldnames)\n",
    "    \n",
    "    writer.writeheader()  # Write the header\n",
    "    writer.writerows(data)  # Write the data rows\n",
    "    print(\"successfully\")\n"
   ]
  },
  {
   "cell_type": "code",
   "execution_count": 6,
   "id": "45f80007-f544-47b5-a256-870720d82938",
   "metadata": {},
   "outputs": [
    {
     "name": "stdout",
     "output_type": "stream",
     "text": [
      "['Programm \\n', 'class day5 \\n', 'today class about file handling']\n"
     ]
    }
   ],
   "source": [
    "with open(\"myfile.txt\", 'r') as fp:\n",
    "    # read line number 3 to 5\n",
    "    # index starts from 0\n",
    "    x = fp.readlines()[2:5]\n",
    "    print(x)"
   ]
  },
  {
   "cell_type": "code",
   "execution_count": 5,
   "id": "ae423986-f475-475e-9894-b6deff806046",
   "metadata": {},
   "outputs": [
    {
     "name": "stdout",
     "output_type": "stream",
     "text": [
      "Total Upper Case: 5\n"
     ]
    }
   ],
   "source": [
    "upperCount =0\n",
    "F=open(\"myfile.txt\",\"r\")\n",
    "while(True):\n",
    "    data=F.read(1)\n",
    "        \n",
    "    if(data==\"\"):\n",
    "        break\n",
    "    if (ord(data) >= 65 and ord(data) <= 90): \n",
    "        upperCount = upperCount +1\n",
    "print(data,end='')\n",
    "        \n",
    "print(\"Total Upper Case:\",upperCount)\n",
    "\n",
    "F.close()"
   ]
  },
  {
   "cell_type": "code",
   "execution_count": null,
   "id": "919ae527-9819-42b1-9183-4a8dabf0c675",
   "metadata": {},
   "outputs": [],
   "source": []
  },
  {
   "cell_type": "code",
   "execution_count": null,
   "id": "889a6382-8a4a-494b-b578-e7d69e026dc3",
   "metadata": {},
   "outputs": [],
   "source": []
  },
  {
   "cell_type": "code",
   "execution_count": null,
   "id": "c830670e-9e3f-4d93-930c-7cc3cf68c8f1",
   "metadata": {},
   "outputs": [],
   "source": []
  },
  {
   "cell_type": "code",
   "execution_count": null,
   "id": "a6c5bb3d-6ee0-4517-b878-3ad80f3883c2",
   "metadata": {},
   "outputs": [],
   "source": []
  },
  {
   "cell_type": "code",
   "execution_count": null,
   "id": "42f18476-dbe9-4a24-9361-00bf319a3207",
   "metadata": {},
   "outputs": [],
   "source": []
  }
 ],
 "metadata": {
  "kernelspec": {
   "display_name": "Python 3 (ipykernel)",
   "language": "python",
   "name": "python3"
  },
  "language_info": {
   "codemirror_mode": {
    "name": "ipython",
    "version": 3
   },
   "file_extension": ".py",
   "mimetype": "text/x-python",
   "name": "python",
   "nbconvert_exporter": "python",
   "pygments_lexer": "ipython3",
   "version": "3.11.7"
  }
 },
 "nbformat": 4,
 "nbformat_minor": 5
}
