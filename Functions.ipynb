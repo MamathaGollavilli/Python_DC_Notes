{
 "cells": [
  {
   "cell_type": "markdown",
   "id": "a1b2bcbc-abce-425e-b91e-604dec48f311",
   "metadata": {},
   "source": [
    "##### Python function contains a header and body. The function header begins with the 'def' keyword.The function header may contain zero or more number of parameters. These parameters are called formal parameters. If a function contains more than one parameter then all the parameters are separated by commas. A function’s body is a block of statements. The statements within the function’s body define the actions that the functionneeds to perform."
   ]
  },
  {
   "cell_type": "code",
   "execution_count": 1,
   "id": "8ac0cd32-52e8-4acf-a954-ca28a12a8ce2",
   "metadata": {},
   "outputs": [
    {
     "name": "stdout",
     "output_type": "stream",
     "text": [
      "Welcome to Python Programming \n"
     ]
    }
   ],
   "source": [
    "def Display(): \n",
    " print(\"Welcome to Python Programming \")\n",
    "    \n",
    "Display() "
   ]
  },
  {
   "cell_type": "code",
   "execution_count": 4,
   "id": "520ffd79-41e8-46ba-802a-f38c23890d88",
   "metadata": {},
   "outputs": [
    {
     "name": "stdin",
     "output_type": "stream",
     "text": [
      "Please Enter Your Name: Mamatha\n"
     ]
    },
    {
     "name": "stdout",
     "output_type": "stream",
     "text": [
      "Hi Mamatha Welcome to Python Programming\n"
     ]
    }
   ],
   "source": [
    "def print_msg():\n",
    "    str1=input(\"Please Enter Your Name:\")\n",
    "    print(\"Hi\",str1,\"Welcome to Python Programming\")\n",
    "print_msg()"
   ]
  },
  {
   "cell_type": "code",
   "execution_count": 6,
   "id": "766c35f7-3f0b-4c91-8c5a-4635d1cd5d23",
   "metadata": {},
   "outputs": [
    {
     "name": "stdout",
     "output_type": "stream",
     "text": [
      "Sum of integers from 1 to 25 is: 325\n",
      "Sum of integer from 50 to 76 is: 1625\n",
      "Sum of integer from 90 to 100 is: 1045\n"
     ]
    }
   ],
   "source": [
    "#normal way\n",
    "sum1=0\n",
    "for i in range(1,26):\n",
    "    sum1=sum1+i\n",
    "print(\"Sum of integers from 1 to 25 is:\",sum1)\n",
    "sum1=0\n",
    "for i in range(50,76):\n",
    "    sum1=sum1+i\n",
    "print(\"Sum of integer from 50 to 76 is:\",sum1)\n",
    "sum1=0\n",
    "for i in range(90,101):\n",
    "    sum1=sum1+i\n",
    "print(\"Sum of integer from 90 to 100 is:\",sum1)"
   ]
  },
  {
   "cell_type": "code",
   "execution_count": 7,
   "id": "b077ba76-aa81-4aa0-b6ea-89cc049fad44",
   "metadata": {},
   "outputs": [
    {
     "name": "stdout",
     "output_type": "stream",
     "text": [
      "Sum of integers from  1 to  25  is  325\n",
      "Sum of integers from  50 to  75  is  1625\n",
      "Sum of integers from  90 to  100  is  1045\n"
     ]
    }
   ],
   "source": [
    "# with function\n",
    "def sum1(x,y): \n",
    "    s=0;\n",
    "    for i in range(x,y+1):\n",
    "        s=s+i\n",
    "    print(\"Sum of integers from \",x,\"to \",y,\" is \",s)\n",
    "sum1(1,25)\n",
    "sum1(50,75)\n",
    "sum1(90,100)"
   ]
  },
  {
   "cell_type": "code",
   "execution_count": 10,
   "id": "2804f089-24a1-48de-b868-8a02d576389d",
   "metadata": {},
   "outputs": [
    {
     "name": "stdout",
     "output_type": "stream",
     "text": [
      "num1 =  20\n",
      "num2 =  10\n",
      "The Number  20  is Greater than  10\n"
     ]
    }
   ],
   "source": [
    "# parameters and aruguments\n",
    "def printMax_num(num1,num2):\n",
    "    print(\"num1 = \",num1)\n",
    "    print(\"num2 = \",num2)\n",
    "    if num1>num2:\n",
    "        print(\"The Number \",num1,\" is Greater than \",num2)\n",
    "    elif num2>num1:\n",
    "        print(\"The Number \",num2,\" is Greater than \",num1)\n",
    "    else:\n",
    "        print(\"Both Numbers\",num1,\",and\",num2,\"are equal\")\n",
    "        \n",
    "printMax_num(20,10)"
   ]
  },
  {
   "cell_type": "code",
   "execution_count": 11,
   "id": "8b96bc0f-f128-4989-8071-b03bda41222f",
   "metadata": {},
   "outputs": [
    {
     "name": "stdin",
     "output_type": "stream",
     "text": [
      "enter the num  20\n",
      " enter the num  40\n"
     ]
    },
    {
     "name": "stdout",
     "output_type": "stream",
     "text": [
      "num1 =  20\n",
      "num2 =  40\n",
      "The Number  40  is Greater than  20\n"
     ]
    }
   ],
   "source": [
    "# take inputs from user\n",
    "def printMax(num1,num2):\n",
    "    print(\"num1 = \",num1)\n",
    "    print(\"num2 = \",num2)\n",
    "    if num1>num2:\n",
    "        print(\"The Number \",num1,\" is Greater than \",num2)\n",
    "    elif num2>num1:\n",
    "        print(\"The Number \",num2,\" is Greater than \",num1)\n",
    "    else:\n",
    "        print(\"Both Numbers\",num1,\",and\",num2,\"are equal\")\n",
    "\n",
    "a=int(input(\"enter the num \"))\n",
    "b=int(input(\" enter the num \"))\n",
    "printMax(a,b)"
   ]
  },
  {
   "cell_type": "code",
   "execution_count": 17,
   "id": "f117fcf3-f879-48b7-ac36-0b63f1ee95b6",
   "metadata": {},
   "outputs": [
    {
     "name": "stdin",
     "output_type": "stream",
     "text": [
      "Enter the Number: 5\n"
     ]
    },
    {
     "name": "stdout",
     "output_type": "stream",
     "text": [
      "Entered Number is:  5\n",
      "Factorial of Number is : \n",
      "1*2*3*4*5=120\n"
     ]
    }
   ],
   "source": [
    "#factoial\n",
    "def calc_factorial(num):\n",
    "    fact=1\n",
    "    print(\"Entered Number is: \",num)\n",
    "    print(\"Factorial of Number is : \")\n",
    "    for i in range(1,num+1):\n",
    "        fact=fact*i\n",
    "        if(i<num):\n",
    "            print(f\"{i}\",end=\"*\")\n",
    "        else:\n",
    "            print(f\"{i}\",end=\"=\")\n",
    "    print(fact)\n",
    "number=int(input(\"Enter the Number:\"))\n",
    "calc_factorial(number)"
   ]
  },
  {
   "cell_type": "code",
   "execution_count": 18,
   "id": "fdf0b99b-11fc-4e0f-adab-cf76de5f369e",
   "metadata": {},
   "outputs": [
    {
     "name": "stdout",
     "output_type": "stream",
     "text": [
      "Name =  John age =  25\n",
      "Name =  40 age =  Sachin\n"
     ]
    }
   ],
   "source": [
    "# postional arugements:\n",
    "# in this mode we have more chance to errors.\n",
    "def Display(Name,age):\n",
    "    print(\"Name = \",Name, \"age = \",age)\n",
    "    \n",
    "Display(\"John\",25) \n",
    "Display(40,\"Sachin\") "
   ]
  },
  {
   "cell_type": "code",
   "execution_count": 19,
   "id": "2f8be3f7-e644-4be4-8451-4f068cb45027",
   "metadata": {},
   "outputs": [
    {
     "name": "stdout",
     "output_type": "stream",
     "text": [
      "Name =  John age =  25\n"
     ]
    }
   ],
   "source": [
    "# key aruguments:\n",
    "# This can be done by simply typing Parameter_name = value in the function call\n",
    "def Display(Name,age):\n",
    "    print(\"Name = \",Name,\"age = \",age)\n",
    "Display(age=25,Name=\"John\")"
   ]
  },
  {
   "cell_type": "code",
   "execution_count": 26,
   "id": "7b00a5cb-237e-45bd-8a00-981e1c90a29d",
   "metadata": {},
   "outputs": [
    {
     "name": "stdout",
     "output_type": "stream",
     "text": [
      "Hello Sachin Welcome to Python!!\n"
     ]
    }
   ],
   "source": [
    "# Parameters within a functions definition can have default values.\n",
    "# We can provide default value to a parameter by using the assignment (=) operator.\n",
    "def greet(name,msg=\"Welcome to Python!!\"):\n",
    " print(\"Hello\",name,msg)\n",
    "greet(\"Sachin\") "
   ]
  },
  {
   "cell_type": "code",
   "execution_count": 27,
   "id": "f072d9f5-85d7-4947-8025-d463d161c36e",
   "metadata": {},
   "outputs": [
    {
     "name": "stdout",
     "output_type": "stream",
     "text": [
      "Hello Mamatha Welcome to Python!!\n"
     ]
    }
   ],
   "source": [
    "def greet(name=\"Mamatha\",msg=\"Welcome to Python!!\"):\n",
    " print(\"Hello\",name,msg)\n",
    "greet() "
   ]
  },
  {
   "cell_type": "code",
   "execution_count": 28,
   "id": "4617e30c-3574-4e90-a8d0-e62bf32bd1b7",
   "metadata": {},
   "outputs": [
    {
     "name": "stdout",
     "output_type": "stream",
     "text": [
      "Hello Sachin Welcome to Python!!\n"
     ]
    }
   ],
   "source": [
    "def greet(name=\"Mamatha\",msg=\"Welcome to Python!!\"):\n",
    " print(\"Hello\",name,msg)\n",
    "greet(\"Sachin\")"
   ]
  },
  {
   "cell_type": "code",
   "execution_count": 30,
   "id": "53be8fdb-d5ca-439c-bb70-d91a2295c395",
   "metadata": {},
   "outputs": [
    {
     "name": "stdout",
     "output_type": "stream",
     "text": [
      "a =  15  b =  10 c=  20\n",
      "a =  50  b =  30 c=  20\n",
      "a =  25  b =  35 c=  80\n"
     ]
    }
   ],
   "source": [
    "def disp_values(a,b=10,c=20):\n",
    " print(\"a = \",a,\" b = \",b,\"c= \",c)\n",
    "disp_values(15)\n",
    "disp_values(50,b=30)\n",
    "disp_values(c=80,a=25,b=35)"
   ]
  },
  {
   "cell_type": "code",
   "execution_count": 33,
   "id": "2b8d5584-00db-49bf-aaa4-ba583771dadb",
   "metadata": {},
   "outputs": [
    {
     "name": "stdout",
     "output_type": "stream",
     "text": [
      "Welcome to the python\n"
     ]
    }
   ],
   "source": [
    "#the Local and global scope Of a Variable \n",
    "# global variables can be acessed in local too\n",
    "def Demo():\n",
    " print(s)\n",
    "    \n",
    "s=\"Welcome to the python\"\n",
    "Demo() "
   ]
  },
  {
   "cell_type": "code",
   "execution_count": 36,
   "id": "00d34026-38e3-4e2c-af6f-97ef92e19368",
   "metadata": {},
   "outputs": [
    {
     "ename": "NameError",
     "evalue": "name 'm' is not defined",
     "output_type": "error",
     "traceback": [
      "\u001b[1;31m---------------------------------------------------------------------------\u001b[0m",
      "\u001b[1;31mNameError\u001b[0m                                 Traceback (most recent call last)",
      "Cell \u001b[1;32mIn[36], line 5\u001b[0m\n\u001b[0;32m      2\u001b[0m \u001b[38;5;28;01mdef\u001b[39;00m \u001b[38;5;21mDemo\u001b[39m():\n\u001b[0;32m      3\u001b[0m     m\u001b[38;5;241m=\u001b[39m\u001b[38;5;124m\"\u001b[39m\u001b[38;5;124mWelcome to the python\u001b[39m\u001b[38;5;124m\"\u001b[39m\n\u001b[1;32m----> 5\u001b[0m \u001b[38;5;28mprint\u001b[39m(m) \n\u001b[0;32m      6\u001b[0m Demo()\n",
      "\u001b[1;31mNameError\u001b[0m: name 'm' is not defined"
     ]
    }
   ],
   "source": [
    "# local variables cannot be access at outside\n",
    "def Demo():\n",
    "    m=\"Welcome to the python\"\n",
    "    \n",
    "print(m) \n",
    "Demo() "
   ]
  },
  {
   "cell_type": "code",
   "execution_count": 37,
   "id": "d129ffee-111c-494f-83cc-dd89b745e665",
   "metadata": {},
   "outputs": [
    {
     "name": "stdout",
     "output_type": "stream",
     "text": [
      "The value of a in function: 30\n",
      "The value of an outside function: 20\n"
     ]
    }
   ],
   "source": [
    "a = 20 #global\n",
    "def Display():\n",
    "    a = 30 #local\n",
    "    print(\"The value of a in function:\",a)\n",
    "    \n",
    "Display()\n",
    "print(\"The value of an outside function:\",a)"
   ]
  },
  {
   "cell_type": "code",
   "execution_count": 38,
   "id": "b98fdb9b-1111-46c8-9ae7-2b7fcc343d64",
   "metadata": {},
   "outputs": [
    {
     "name": "stdout",
     "output_type": "stream",
     "text": [
      "85\n"
     ]
    }
   ],
   "source": [
    "#return statement\n",
    "def minimum(a,b):\n",
    "    if a<b:\n",
    "        return a\n",
    "    elif b<a:\n",
    "        return b\n",
    "    else:\n",
    "        return \"Both the numbers are equal\"\n",
    "print(minimum(100,85))"
   ]
  },
  {
   "cell_type": "code",
   "execution_count": 43,
   "id": "99691abf-92c9-4dfb-a4d3-04e6ff961717",
   "metadata": {},
   "outputs": [
    {
     "name": "stdout",
     "output_type": "stream",
     "text": [
      "addition and subtraction of numbers are : (30, -10)\n"
     ]
    }
   ],
   "source": [
    "def calc_arith_op(num1, num2):\n",
    "    return num1+num2, num1-num2 #Return multiple values\n",
    "    \n",
    "print(f\"addition and subtraction of numbers are : {calc_arith_op(10,20)}\")"
   ]
  },
  {
   "cell_type": "code",
   "execution_count": 53,
   "id": "7581d76b-325c-4636-bdd5-6cf6ae6377d6",
   "metadata": {},
   "outputs": [
    {
     "name": "stdout",
     "output_type": "stream",
     "text": [
      "apple\n",
      "banana\n",
      "cherry\n"
     ]
    }
   ],
   "source": [
    "def my_function(food):\n",
    "  for x in food:\n",
    "    print(x)\n",
    "\n",
    "fruits = [\"apple\", \"banana\", \"cherry\"]\n",
    "\n",
    "my_function(fruits)\n"
   ]
  },
  {
   "cell_type": "code",
   "execution_count": 54,
   "id": "9c5281c9-a8db-40d2-a2dd-39d4d98befe3",
   "metadata": {},
   "outputs": [
    {
     "name": "stdout",
     "output_type": "stream",
     "text": [
      "function is empty None\n"
     ]
    }
   ],
   "source": [
    "def myfunction():\n",
    "  pass\n",
    "    \n",
    "print(f\"function is empty {myfunction()}\")"
   ]
  },
  {
   "cell_type": "code",
   "execution_count": 44,
   "id": "b11815f1-2718-4454-ba0d-22c70d25cab3",
   "metadata": {},
   "outputs": [
    {
     "name": "stdout",
     "output_type": "stream",
     "text": [
      "Number =  4\n",
      "Square =  16 Cube =  64\n"
     ]
    }
   ],
   "source": [
    "def compute(num1):\n",
    "    print(\"Number = \",num1)\n",
    "    return num1*num1, num1*num1*num1 \n",
    "square,cube=compute(4)\n",
    "print(\"Square = \",square,\"Cube = \",cube)"
   ]
  },
  {
   "cell_type": "code",
   "execution_count": 45,
   "id": "d033ef66-2ffb-4432-94c6-938199ea250c",
   "metadata": {},
   "outputs": [
    {
     "name": "stdout",
     "output_type": "stream",
     "text": [
      "120\n"
     ]
    }
   ],
   "source": [
    "# recursion\n",
    "def factorial(n):\n",
    "    if n==0:\n",
    "        return 1\n",
    "    return n*factorial(n-1)\n",
    "print(factorial(5))"
   ]
  },
  {
   "cell_type": "code",
   "execution_count": 46,
   "id": "b71caf98-f127-4e1b-b572-2fbb760c3c30",
   "metadata": {},
   "outputs": [
    {
     "name": "stdout",
     "output_type": "stream",
     "text": [
      " The Value of 8th Fibonacci number =  34\n"
     ]
    }
   ],
   "source": [
    "#fabinoic series:\n",
    "def fib(n):\n",
    "    if n==0:\n",
    "        return 1\n",
    "    if n==1:\n",
    "        return 1\n",
    "    return fib(n-1)+fib(n-2)\n",
    "print(\" The Value of 8th Fibonacci number = \",fib(8))"
   ]
  },
  {
   "cell_type": "code",
   "execution_count": 31,
   "id": "352ebc04-0096-4404-aa7f-496335768dbb",
   "metadata": {},
   "outputs": [
    {
     "name": "stdout",
     "output_type": "stream",
     "text": [
      "radius= 1\n",
      "The area of Circle =  3.14\n",
      "radius= 5\n",
      "The area of Circle =  78.5\n"
     ]
    }
   ],
   "source": [
    "#area of the circle\n",
    "def area_circle(pi=3.14,radius=1):\n",
    "    area=pi*radius*radius\n",
    "    print(\"radius=\",radius)\n",
    "    print(\"The area of Circle = \",area) \n",
    "area_circle()\n",
    "area_circle(radius=5)"
   ]
  },
  {
   "cell_type": "code",
   "execution_count": 47,
   "id": "af168603-1911-4e1e-91b1-cbc36ea628de",
   "metadata": {},
   "outputs": [
    {
     "name": "stdin",
     "output_type": "stream",
     "text": [
      "enter the number of terms:  5\n"
     ]
    },
    {
     "name": "stdout",
     "output_type": "stream",
     "text": [
      "fibonacci( 0 )= 1\n",
      "fibonacci( 1 )= 1\n",
      "fibonacci( 2 )= 2\n",
      "fibonacci( 3 )= 3\n",
      "fibonacci( 4 )= 5\n"
     ]
    }
   ],
   "source": [
    "#print the fabinoic_series:\n",
    "def fib(n):\n",
    "    if(n<2):\n",
    "        return 1\n",
    "    return fib(n-1)+fib(n-2)\n",
    "\n",
    "n=int(input(\"enter the number of terms: \"))\n",
    "for i in range(n):\n",
    "    print(\"fibonacci(\",i,\")=\",fib(i))"
   ]
  },
  {
   "cell_type": "code",
   "execution_count": 49,
   "id": "dc693097-635f-4a75-8e92-10daee67a67f",
   "metadata": {},
   "outputs": [
    {
     "name": "stdin",
     "output_type": "stream",
     "text": [
      "enter the value of a:  6\n",
      "enter the value of b:  67\n"
     ]
    },
    {
     "name": "stdout",
     "output_type": "stream",
     "text": [
      "The sum of a+b is  73\n"
     ]
    }
   ],
   "source": [
    "#program to add two integers using funcions:\n",
    "def total(a,b):\n",
    "    result=a+b\n",
    "    print(\"The sum of a+b is \",result)\n",
    "a=int(input(\"enter the value of a: \"))\n",
    "b=int(input(\"enter the value of b: \"))\n",
    "total(a,b)"
   ]
  },
  {
   "cell_type": "code",
   "execution_count": 51,
   "id": "e7984df1-ec16-4d76-923b-e327d54d2c61",
   "metadata": {},
   "outputs": [
    {
     "name": "stdin",
     "output_type": "stream",
     "text": [
      "enter the value of number : 2\n",
      "enter the exponinent value: 3\n"
     ]
    },
    {
     "name": "stdout",
     "output_type": "stream",
     "text": [
      "the exp value is:  8\n"
     ]
    }
   ],
   "source": [
    "# write the python programm to find the exponiential of a given number using functions.\n",
    "def exp_cal(x,y):\n",
    "    if(y==0):\n",
    "        return 1\n",
    "    else:\n",
    "        return x*exp_cal(x,y-1) \n",
    "a=int(input(\"enter the value of number :\"))\n",
    "b=int(input(\"enter the exponinent value:\"))\n",
    "print(\"the exp value is: \",exp_cal(a,b))"
   ]
  },
  {
   "cell_type": "code",
   "execution_count": 52,
   "id": "ea107112-48d1-4e23-8d0a-0c210d6efc1f",
   "metadata": {},
   "outputs": [
    {
     "name": "stdout",
     "output_type": "stream",
     "text": [
      "The youngest child is Linus\n"
     ]
    }
   ],
   "source": [
    "def my_function(*kids):\n",
    "  print(\"The youngest child is \" + kids[2])\n",
    "\n",
    "my_function(\"Emil\", \"Tobias\", \"Linus\")"
   ]
  },
  {
   "cell_type": "code",
   "execution_count": null,
   "id": "de521285-5469-4978-bad3-203f247c4a28",
   "metadata": {},
   "outputs": [],
   "source": []
  }
 ],
 "metadata": {
  "kernelspec": {
   "display_name": "Python 3 (ipykernel)",
   "language": "python",
   "name": "python3"
  },
  "language_info": {
   "codemirror_mode": {
    "name": "ipython",
    "version": 3
   },
   "file_extension": ".py",
   "mimetype": "text/x-python",
   "name": "python",
   "nbconvert_exporter": "python",
   "pygments_lexer": "ipython3",
   "version": "3.11.7"
  }
 },
 "nbformat": 4,
 "nbformat_minor": 5
}
