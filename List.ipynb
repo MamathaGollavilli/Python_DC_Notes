{
 "cells": [
  {
   "cell_type": "code",
   "execution_count": null,
   "id": "9b0bf8e1-bf59-4169-9d6c-ac34a07f19b7",
   "metadata": {},
   "outputs": [],
   "source": [
    "#Lists:\n",
    "'''\n",
    "List items are ordered, changeable, and allow duplicate values.\n",
    "ordered means index based both positiv`e and negitive\n",
    "changeable means we can change, add, and remove items in a list after it has been created.\n",
    "duplicate means in the list same value can repeat n.no of times.\n",
    "'''"
   ]
  },
  {
   "cell_type": "code",
   "execution_count": 11,
   "id": "10c1edee-5f40-403f-9ffa-0a029adeb0ea",
   "metadata": {},
   "outputs": [
    {
     "name": "stdout",
     "output_type": "stream",
     "text": [
      "list :   ['python', 'system_verilog', 'verilog', 'UVM', 'perl'] \n",
      "\t [9, 2, 7, 8, 9, 3, 6] \n",
      "\t [True, False, True, True] \n",
      "\t ['python', 9, True] \n",
      "\t [100, 'python', 'day3', 'class', 99, True]\n"
     ]
    }
   ],
   "source": [
    "l1=[\"python\",\"system_verilog\",\"verilog\", \"UVM\",\"perl\"]\n",
    "l2=[9,2,7,8,9,3,6]\n",
    "l3=[True,False,True,True]\n",
    "l4=[\"python\",9,True]\n",
    "l5=list((100,\"python\",\"day3\",\"class\",99,True))\n",
    "print(f\"list :   {l1} \\n\\t {l2} \\n\\t {l3} \\n\\t {l4} \\n\\t {l5}\")"
   ]
  },
  {
   "cell_type": "code",
   "execution_count": 35,
   "id": "586bdc79-587f-4eb7-a5e0-c5d3f0a6edbc",
   "metadata": {},
   "outputs": [
    {
     "name": "stdout",
     "output_type": "stream",
     "text": [
      "After 1st change the elements are : ['python', 'System Verilog', 'verilog', 'UVM', 'OVM'] \n",
      "After 2nd change the elements are : ['python', 'AI', 'ML', 'UVM', 'OVM'] \n",
      "After 3rd change the elements are : ['python', 'Data_science', 'UVM', 'OVM'] \n",
      "After 3rd change the elements are : ['python', 'Data_science', 'ML', 'AI', 'OVM'] \n",
      "After 4rth change the elements are : ['python', 'Data_science', 'matlab', 'ML', 'AI', 'OVM'] \n",
      "After 5th change the elements are : ['python', 'Data_science', 'matlab', 'ML', 'AI', 'OVM', 'SQL'] \n",
      "After 6th change the elements are : ['python', 'Data_science', 'ML', 'AI', 'OVM', 'SQL'] \n",
      "After 6th change the elements are : ['python', 'Data_science', 'AI', 'OVM', 'SQL'] \n",
      "After 6th change the elements are : ['python', 'Data_science', 'AI', 'OVM'] \n",
      "After 7th change the elements are : [] \n",
      "After 8th change the elements are : ['python', 'system_verilog', 'verilog', 'UVM', 'perl'] \n",
      "After 9th change the elements are : ['python', 'system_verilog', 'UVM', 'perl'] \n"
     ]
    }
   ],
   "source": [
    "#Changable\n",
    "l1=[\"python\",\"system_verilog\",\"verilog\", \"UVM\",\"perl\"]\n",
    "l1[1]=\"System Verilog\"\n",
    "l1[-1]=\"OVM\"\n",
    "print(f\"After 1st change the elements are : {l1} \") # \n",
    "l1[1:3]=[\"AI\",\"ML\"]\n",
    "print(f\"After 2nd change the elements are : {l1} \")\n",
    "l1[1:3]=[\"Data_science\"]\n",
    "print(f\"After 3rd change the elements are : {l1} \") \n",
    "l1[1:3]=[\"Data_science\",\"ML\",\"AI\"]\n",
    "print(f\"After 3rd change the elements are : {l1} \")\n",
    "l1.insert(2,\"matlab\")\n",
    "print(f\"After 4rth change the elements are : {l1} \")\n",
    "l1.append(\"SQL\")\n",
    "print(f\"After 5th change the elements are : {l1} \")\n",
    "l1.remove(\"matlab\")\n",
    "print(f\"After 6th change the elements are : {l1} \")\n",
    "#l1.remove() it required exist arugument\n",
    "#print(f\"After 6th change the elements are : {l1} \")\n",
    "l1.pop(2)\n",
    "print(f\"After 6th change the elements are : {l1} \")\n",
    "l1.pop()\n",
    "print(f\"After 6th change the elements are : {l1} \")\n",
    "l1.clear() #here list will remain only elements in the list will clear\n",
    "print(f\"After 7th change the elements are : {l1} \")\n",
    "l1=[\"python\",\"system_verilog\",\"verilog\", \"UVM\",\"perl\"]\n",
    "print(f\"After 8th change the elements are : {l1} \")\n",
    "del l1[2]\n",
    "print(f\"After 9th change the elements are : {l1} \")\n",
    "del l1 #completely delete the list\n",
    "#print(f\"After 10th change the elements are : {l1} \") #if we try to access after delete it will through the error like \"l1 is not define\""
   ]
  },
  {
   "cell_type": "code",
   "execution_count": 1,
   "id": "00b5e369-fdd7-4cfc-9afe-ee076ab82d89",
   "metadata": {},
   "outputs": [
    {
     "name": "stdout",
     "output_type": "stream",
     "text": [
      "asscending order :  [2, 3, 6, 7, 8, 9, 9]\n",
      "reverse order :  [9, 9, 8, 7, 6, 3, 2]\n",
      "list l3:  [9, 9, 8, 7, 6, 3, 2]\n",
      "list l4 :  [9, 9, 8, 7, 6, 3, 2]\n",
      "list reverse :  [2, 3, 6, 7, 8, 9, 9]\n",
      "[9, 9, 8, 7, 6, 3, 2]\n"
     ]
    }
   ],
   "source": [
    "l2=[9,2,7,8,9,3,6]\n",
    "l2.sort()\n",
    "print(\"asscending order : \",l2)\n",
    "l2.sort(reverse=True)\n",
    "print(\"reverse order : \",l2)\n",
    "l3=l2.copy()\n",
    "print(\"list l3: \",l3)\n",
    "l4=list(l2)\n",
    "print(\"list l4 : \",l4)\n",
    "l4.reverse()\n",
    "print(\"list reverse : \",l4)\n",
    "print(l4[::-1])"
   ]
  },
  {
   "cell_type": "code",
   "execution_count": 1,
   "id": "5d6646fd-fd8b-4341-9f98-78067990c243",
   "metadata": {},
   "outputs": [
    {
     "name": "stdout",
     "output_type": "stream",
     "text": [
      "[1, 3, 5, 7, 9, 11, 13, 15, 17, 19, 21, 23, 25, 27, 29, 31, 33, 35, 37, 39, 41, 43, 45, 47, 49]\n"
     ]
    }
   ],
   "source": [
    "#odd numbers into the list\n",
    "list1=[]\n",
    "for i in range(0,51):\n",
    "    if(i%2!=0):\n",
    "        list1.append(i)\n",
    "print(list1)"
   ]
  },
  {
   "cell_type": "code",
   "execution_count": 2,
   "id": "334570ce-b158-4ca3-b081-ea3b2ba62cd7",
   "metadata": {},
   "outputs": [
    {
     "name": "stdin",
     "output_type": "stream",
     "text": [
      "enter the range:  6\n",
      "enter the number:  98\n",
      "enter the number:  89\n",
      "enter the number:  92\n",
      "enter the number:  95\n",
      "enter the number:  88\n",
      "enter the number:  90\n"
     ]
    },
    {
     "name": "stdout",
     "output_type": "stream",
     "text": [
      "[98, 89, 92, 95, 88, 90]\n",
      "average of numbers: 92.0\n"
     ]
    }
   ],
   "source": [
    "ls=[]\n",
    "n=int(input(\"enter the range: \"))\n",
    "sum1=0\n",
    "for i in range(0,n):\n",
    "    a=int(input(\"enter the number: \"))\n",
    "    ls.append(a)\n",
    "print(ls)\n",
    "for i in ls:\n",
    "    sum1=sum1+i\n",
    "avg=sum1/n\n",
    "print(\"average of numbers:\",avg)"
   ]
  },
  {
   "cell_type": "code",
   "execution_count": 5,
   "id": "ddcd3ce2-8de1-4084-81f9-b7382d284e26",
   "metadata": {},
   "outputs": [
    {
     "name": "stdin",
     "output_type": "stream",
     "text": [
      "enter the range: 7\n"
     ]
    },
    {
     "name": "stdout",
     "output_type": "stream",
     "text": [
      "[0, 10, 20, 30, 40, 50, 60]\n"
     ]
    }
   ],
   "source": [
    "# multiplication of 10\n",
    "ls=[]\n",
    "n=int(input(\"enter the range:\"))\n",
    "for i in range(0,n):\n",
    "    mul=i*10\n",
    "    ls.append(mul)\n",
    "print(ls)   "
   ]
  },
  {
   "cell_type": "code",
   "execution_count": 11,
   "id": "a4fe9325-d591-49a1-b69d-5c6eb3779b26",
   "metadata": {},
   "outputs": [
    {
     "name": "stdout",
     "output_type": "stream",
     "text": [
      "['a', 'b', 'c']\n"
     ]
    }
   ],
   "source": [
    "#remove the duplicates\n",
    "l1=[\"a\",\"b\",\"c\",\"a\",\"c\"]\n",
    "l2=[]\n",
    "for i in l1:\n",
    "    if i not in l2:\n",
    "        l2.append(i)\n",
    "print(l2)"
   ]
  },
  {
   "cell_type": "code",
   "execution_count": null,
   "id": "32185d45-3246-4a3c-a501-0724ab6bf19b",
   "metadata": {},
   "outputs": [],
   "source": [
    "#input is \"python is very easy\"\n",
    "# output = [\"easy\",\"very\",\"is\",\"python\"]\n",
    "#output = [\"nohtyp\" , \"si\",\"yrev\",\"ysae\"]"
   ]
  },
  {
   "cell_type": "code",
   "execution_count": 2,
   "id": "6b182954-8452-445f-82e1-fb8fde8a4529",
   "metadata": {},
   "outputs": [
    {
     "name": "stdin",
     "output_type": "stream",
     "text": [
      "  python is very easy\n"
     ]
    },
    {
     "name": "stdout",
     "output_type": "stream",
     "text": [
      "['easy', 'very', 'is', 'python']\n",
      "easy very is python\n"
     ]
    }
   ],
   "source": [
    "s=input(\" \")\n",
    "s1=s.split()\n",
    "#print(s1)\n",
    "l1=[]\n",
    "l=len(s1)-1\n",
    "#print(\"length :\", l)\n",
    "while(l>=0):\n",
    "    l1.append(s1[l])\n",
    "    l=l-1\n",
    "    output=\" \".join(l1)\n",
    "print(l1)\n",
    "print(output)"
   ]
  },
  {
   "cell_type": "code",
   "execution_count": 22,
   "id": "95ee052c-47a9-4eba-9d22-b5573ffa21fd",
   "metadata": {},
   "outputs": [
    {
     "name": "stdin",
     "output_type": "stream",
     "text": [
      "  Python is very easy\n"
     ]
    },
    {
     "name": "stdout",
     "output_type": "stream",
     "text": [
      "['nohtyP', 'si', 'yrev', 'ysae']\n",
      "nohtyP si yrev ysae\n"
     ]
    }
   ],
   "source": [
    "s=input(\" \")\n",
    "s1=s.split()\n",
    "#print(s1)\n",
    "l1=[]\n",
    "i=0\n",
    "l=len(s1)-1\n",
    "while(i<=l):\n",
    "    l1.append(s1[i][::-1])\n",
    "    i=i+1\n",
    "    output=\" \".join(l1)\n",
    "print(l1)\n",
    "print(output)\n",
    " "
   ]
  },
  {
   "cell_type": "code",
   "execution_count": 12,
   "id": "40d92c6c-48c2-4b71-891b-fd09ef9f53da",
   "metadata": {},
   "outputs": [
    {
     "name": "stdin",
     "output_type": "stream",
     "text": [
      "enter a range:  10\n"
     ]
    },
    {
     "name": "stdout",
     "output_type": "stream",
     "text": [
      "Even numbers list:  [0, 2, 4, 6, 8]\n",
      "Odd numbers list:  [1, 3, 5, 7, 9]\n",
      "20\n",
      "25\n"
     ]
    }
   ],
   "source": [
    "evensum=0\n",
    "oddsum=0\n",
    "el=[]\n",
    "ol=[]\n",
    "n=int(input(\"enter a range: \"))\n",
    "for i in range(0,n):\n",
    "    if(i%2==0):\n",
    "        el.append(i)\n",
    "    else:\n",
    "        ol.append(i)\n",
    "print(\"Even numbers list: \",el)\n",
    "print(\"Odd numbers list: \",ol)\n",
    "for m in el:\n",
    "    evensum=evensum+m\n",
    "for n in ol:\n",
    "    oddsum=oddsum+n\n",
    "print(evensum)\n",
    "print(oddsum)"
   ]
  },
  {
   "cell_type": "code",
   "execution_count": 13,
   "id": "dc6e0bc7-2604-420f-a020-a508e08a99a2",
   "metadata": {},
   "outputs": [
    {
     "name": "stdout",
     "output_type": "stream",
     "text": [
      "[50, 20, 30, 40, 10]\n"
     ]
    }
   ],
   "source": [
    "#swapping first and last elements\n",
    "ls=[10,20,30,40,50]\n",
    "temp=ls[0]\n",
    "ls[0]=ls[len(ls)-1]\n",
    "ls[len(ls)-1]= temp\n",
    "print(ls)"
   ]
  },
  {
   "cell_type": "code",
   "execution_count": 14,
   "id": "0b74bae2-8183-4749-a376-cb9fa9d722b1",
   "metadata": {},
   "outputs": [
    {
     "name": "stdout",
     "output_type": "stream",
     "text": [
      "9\n"
     ]
    }
   ],
   "source": [
    "#find the max number in list(m-1)\n",
    "l=[6,4,7,3,9,0]\n",
    "greater=max(l)\n",
    "print(greater)"
   ]
  },
  {
   "cell_type": "code",
   "execution_count": 15,
   "id": "2d302883-279d-4a9f-8282-2ae3ecad11d7",
   "metadata": {},
   "outputs": [
    {
     "name": "stdout",
     "output_type": "stream",
     "text": [
      "[0, 3, 4, 6, 7, 9]\n",
      "9\n",
      "9\n"
     ]
    }
   ],
   "source": [
    "l=[6,4,7,3,9,0]\n",
    "l.sort()\n",
    "print(l)\n",
    "print(l[-1])\n",
    "#or\n",
    "print(l[len(l)-1])"
   ]
  },
  {
   "cell_type": "code",
   "execution_count": 16,
   "id": "0f67b734-2c6a-4162-a4d7-01356c67a935",
   "metadata": {},
   "outputs": [
    {
     "name": "stdout",
     "output_type": "stream",
     "text": [
      "[0, 3, 4, 6, 7, 9, 64, 97, 111]\n",
      "97\n",
      "97\n"
     ]
    }
   ],
   "source": [
    "# find second largest number in the list\n",
    "l=[6,4,7,3,9,0,64,97,111]\n",
    "l.sort()\n",
    "print(l)\n",
    "print(l[-2])\n",
    "#or\n",
    "print(l[len(l)-2])"
   ]
  },
  {
   "cell_type": "code",
   "execution_count": 17,
   "id": "a1d103bd-338e-46df-aacc-fd660529d1c7",
   "metadata": {},
   "outputs": [
    {
     "name": "stdout",
     "output_type": "stream",
     "text": [
      "[6, 4, 0, 64, 76, 10]\n",
      "[7, 3, 9, 97, 111]\n",
      "76\n",
      "111\n"
     ]
    }
   ],
   "source": [
    "#python program to print largest even and largest odd number in list:\n",
    "l=[6,4,7,3,9,0,64,76,10,97,111]\n",
    "even_list=[]\n",
    "odd_list=[]\n",
    "for i in l:\n",
    "    if(i%2==0):\n",
    "        even_list.append(i)\n",
    "    else:\n",
    "        odd_list.append(i)\n",
    "print(even_list)\n",
    "print(odd_list)\n",
    "print(max(even_list))\n",
    "print(max(odd_list))"
   ]
  },
  {
   "cell_type": "code",
   "execution_count": 18,
   "id": "4a250b80-4d10-4341-b77f-b9c6a1e4b188",
   "metadata": {},
   "outputs": [
    {
     "name": "stdout",
     "output_type": "stream",
     "text": [
      "p_l [7, 8, 6, 0, 2, 9, 8]\n",
      "n_l [-2, -9, -4, -6]\n",
      "negative sum -21\n",
      "[8, 6, 0, 2, 8]\n",
      "[7, 9]\n",
      "even sum 24\n",
      "odd sum 16\n"
     ]
    }
   ],
   "source": [
    "#sum of the negative numbers, sum of postive even_numbers and sum of positive odd_numbers in given list.\n",
    "l=[-2,-9,-4,7,8,6,0,2,-6,9,8]\n",
    "positive_list=[]\n",
    "negative_list=[]\n",
    "n_sum=0\n",
    "el=[]\n",
    "ol=[]\n",
    "for i in l:\n",
    "    if(i>=0):\n",
    "        positive_list.append(i)\n",
    "    else:\n",
    "        negative_list.append(i)\n",
    "print(\"p_l\",positive_list)\n",
    "print(\"n_l\",negative_list)\n",
    "for i in negative_list:\n",
    "    n_sum=n_sum+i\n",
    "print(\"negative sum\",n_sum)\n",
    "for i in positive_list:\n",
    "    if(i%2==0):\n",
    "        el.append(i)\n",
    "    else:\n",
    "        ol.append(i)\n",
    "print(el)\n",
    "print(ol)\n",
    "es=0\n",
    "os=0\n",
    "for i in el:\n",
    "    es=es+i\n",
    "print(\"even sum\",es)\n",
    "for i in ol:\n",
    "    os=os+i\n",
    "print(\"odd sum\",os)"
   ]
  },
  {
   "cell_type": "code",
   "execution_count": 19,
   "id": "c39fefb5-c270-444f-bdcc-fa4d0f53b4b9",
   "metadata": {},
   "outputs": [
    {
     "name": "stdin",
     "output_type": "stream",
     "text": [
      "enter a count number: 9\n"
     ]
    },
    {
     "name": "stdout",
     "output_type": "stream",
     "text": [
      "1\n"
     ]
    }
   ],
   "source": [
    "#WAP to count occurence of an element in a list.\n",
    "l=[9,0,1,0,1,7,1,5,1,3]\n",
    "count=0\n",
    "n=int(input(\"enter a count number:\"))\n",
    "for i in l:\n",
    "    if(i==n):\n",
    "        count=count+1\n",
    "    else:\n",
    "        pass\n",
    "print(count)"
   ]
  },
  {
   "cell_type": "code",
   "execution_count": 25,
   "id": "4ae40ab2-ac77-4f03-9210-73503124b2e2",
   "metadata": {},
   "outputs": [
    {
     "name": "stdout",
     "output_type": "stream",
     "text": [
      "[1, 2, 3, 4, 5, 6, 2, 4, 6, 8, 7, 9]\n",
      "[1, 2, 3, 4, 5, 6, 2, 4, 6, 8, 7, 9]\n"
     ]
    }
   ],
   "source": [
    "l1=[1,2,3,4,5,6]\n",
    "l2=[2,4,6,8,7,9]\n",
    "l=l1+l2 #method-1\n",
    "print(l) \n",
    "#or\n",
    "l1.extend(l2) #method-2\n",
    "print(l1)"
   ]
  },
  {
   "cell_type": "code",
   "execution_count": 3,
   "id": "170eb0f3-8d48-4e54-949a-e58a685aeb8d",
   "metadata": {},
   "outputs": [
    {
     "name": "stdout",
     "output_type": "stream",
     "text": [
      "['Pthon', 'day', 3, 'class']\n",
      "['Pthon', 'day', 3, 'class', 'C', 'l', 'a', 's', 's']\n"
     ]
    }
   ],
   "source": [
    "Mylist=[\"Pthon\", \"day\",3]\n",
    "my1=[\"class\"]\n",
    "Mylist.extend(my1)\n",
    "print(Mylist)\n",
    "Mylist.extend('Class')\n",
    "print(Mylist)"
   ]
  },
  {
   "cell_type": "code",
   "execution_count": 28,
   "id": "bafa97be-0d39-47bb-9c7b-4673dae3409f",
   "metadata": {},
   "outputs": [
    {
     "name": "stdout",
     "output_type": "stream",
     "text": [
      "[92, 41, 19, 44, 63, 39, 4, 9, 24, 35, 44, 91, 64, 30, 78, 20, 39, 69, 62, 68]\n"
     ]
    }
   ],
   "source": [
    "# python program to generate random numbers from 1 to 20 and append them to the list.\n",
    "import random\n",
    "l=[]\n",
    "for i in range(0,20):\n",
    "    #l.append(random.randint(0,90))\n",
    "    l.append(random.randrange(1,100))\n",
    "print(l)"
   ]
  },
  {
   "cell_type": "code",
   "execution_count": 39,
   "id": "30fa921a-361f-4afe-af34-f5fce2e94508",
   "metadata": {},
   "outputs": [
    {
     "name": "stdout",
     "output_type": "stream",
     "text": [
      "[1, 4, 9, 0, 4]\n",
      "['x', 'z', 'a']\n"
     ]
    }
   ],
   "source": [
    "#create a list with mixed type of elements.\n",
    "l=[1,\"x\",4,5.6,\"z\",9,\"a\",0,4]\n",
    "intlist=[]\n",
    "strlist=[]\n",
    "for i in l:\n",
    "    if(type(i)==int):\n",
    "        intlist.append(i)\n",
    "    if(type(i)==str):\n",
    "        strlist.append(i)\n",
    "print(intlist)\n",
    "print(strlist)"
   ]
  },
  {
   "cell_type": "code",
   "execution_count": 17,
   "id": "ce3dcb2d-a84f-4fac-93a1-f10a1e48d27e",
   "metadata": {},
   "outputs": [
    {
     "name": "stdin",
     "output_type": "stream",
     "text": [
      "enter a string:  hjdj78!@?\n"
     ]
    },
    {
     "name": "stdout",
     "output_type": "stream",
     "text": [
      "hjdj78\n"
     ]
    }
   ],
   "source": [
    "#WAP to remove punctuations from a string\n",
    "punctuations='''!()-{}[];:'\"\\,<>./?@#$%^&*_~'''\n",
    "string_1 =input(\"enter a string: \")\n",
    "no_punct =\"\"\n",
    "for char in string_1:\n",
    "    if char not in punctuations:\n",
    "        no_punct=no_punct+char\n",
    "print(no_punct)"
   ]
  },
  {
   "cell_type": "code",
   "execution_count": null,
   "id": "9fb80ffc-b056-47f7-ab7c-d5d28edc853a",
   "metadata": {},
   "outputs": [],
   "source": [
    "#check list is empty or not\n",
    "#create a new list with the sequare of each element in the original list\n",
    "#remove all occurrences of a specific elemnts from the list\n",
    "#check list is pallindrom or not #[::-1]\n",
    "#calculate the product of elements in the list\n",
    "\n",
    "#WAP to check leap year\n",
    "#wap to find to find the factorial of a number\n",
    "#WAP to check amstrong number  (1^3+5^3+3^3=153)\n"
   ]
  },
  {
   "cell_type": "code",
   "execution_count": 1,
   "id": "281e8d46-8b83-4b31-95cd-1d1aa72f19eb",
   "metadata": {},
   "outputs": [
    {
     "name": "stdout",
     "output_type": "stream",
     "text": [
      "<class 'list'>\n",
      "1 Amit\n",
      "2 Divya\n",
      "3 Sameer\n"
     ]
    }
   ],
   "source": [
    "#access the two elements using single for loop\n",
    "t=[(1, \"Amit\"),(2, \"Divya\"),(3, \"Sameer\")]\n",
    "print(type(t))\n",
    "for i,j in t: \n",
    "    print(i,j)"
   ]
  },
  {
   "cell_type": "code",
   "execution_count": 4,
   "id": "85b01fee-6f98-4ed7-9479-c44abae7dfb9",
   "metadata": {},
   "outputs": [
    {
     "name": "stdout",
     "output_type": "stream",
     "text": [
      "matrix\n",
      "[1, 5, 2]\n",
      "[2, 5, 1]\n",
      "[5, 2, 1]\n",
      "Transpose of matrix is :\n",
      "[1, 2, 5]\n",
      "[5, 5, 2]\n",
      "[2, 1, 1]\n"
     ]
    }
   ],
   "source": [
    "#write a python program to compute transpose of matrix\n",
    "x=[[1,5,2],[2,5,1],[5,2,1]]\n",
    "print(\"matrix\")\n",
    "for m in x:\n",
    "    print(m)\n",
    "result=[[0,0,0],[0,0,0],[0,0,0]]\n",
    "for i in range(len(x)):\n",
    "    for j in range(len(x[0])):\n",
    "        result[j][i]=x[i][j]   #[1][0]=[0][1] when j=1,i=0 [2][0]=[0][2] when j=2,i=0.....\n",
    "print(\"Transpose of matrix is :\")\n",
    "for r in result:\n",
    "    print(r)"
   ]
  },
  {
   "cell_type": "code",
   "execution_count": 7,
   "id": "370f1312-e0c5-4155-84b4-5cc4c3b29fcf",
   "metadata": {},
   "outputs": [
    {
     "name": "stdout",
     "output_type": "stream",
     "text": [
      "first matrix :\n",
      "[1, 5, 2]\n",
      "[2, 5, 1]\n",
      "[5, 2, 1]\n",
      "second matrix: \n",
      "[1, 2, 2]\n",
      "[2, 3, 1]\n",
      "[3, 2, 1]\n",
      "Matrix addition is :\n",
      "[2, 7, 4]\n",
      "[4, 8, 2]\n",
      "[8, 4, 2]\n"
     ]
    }
   ],
   "source": [
    "#addition\n",
    "x=[[1,5,2],[2,5,1],[5,2,1]]\n",
    "y=[[1,2,2],[2,3,1],[3,2,1]]\n",
    "print(\"first matrix :\")\n",
    "for m in x:\n",
    "    print(m)\n",
    "print(\"second matrix: \")\n",
    "for n in y:\n",
    "    print(n)\n",
    "result=[[0,0,0],[0,0,0],[0,0,0]]\n",
    "for i in range(len(x)):\n",
    "    for j in range(len(x[0])):\n",
    "        result[i][j]=x[i][j]+y[i][j]\n",
    "print(\"Matrix addition is :\")\n",
    "for k in result:\n",
    "    print(k)"
   ]
  },
  {
   "cell_type": "code",
   "execution_count": 9,
   "id": "6f884ce6-2621-40a2-b600-ab066fdfe03c",
   "metadata": {},
   "outputs": [
    {
     "name": "stdout",
     "output_type": "stream",
     "text": [
      "first matrix :\n",
      "[1, 5, 2]\n",
      "[2, 5, 1]\n",
      "[5, 2, 1]\n",
      "second matrix: \n",
      "[1, 2, 2]\n",
      "[2, 3, 1]\n",
      "[3, 2, 1]\n",
      "matrix multiplication:\n",
      "[17, 21, 9]\n",
      "[15, 21, 10]\n",
      "[12, 18, 13]\n"
     ]
    }
   ],
   "source": [
    "# multiplication:\n",
    "x=[[1,5,2],[2,5,1],[5,2,1]]\n",
    "y=[[1,2,2],[2,3,1],[3,2,1]]\n",
    "print(\"first matrix :\")\n",
    "for m in x:\n",
    "    print(m)\n",
    "print(\"second matrix: \")\n",
    "for n in y:\n",
    "    print(n)\n",
    "result=[[0,0,0],[0,0,0],[0,0,0]]\n",
    "for i in range(len(x)):\n",
    "    for j in range(len(y[0])):\n",
    "        for k in range(len(y)):\n",
    "            result[i][j]+=x[i][k]*y[k][j]\n",
    "print(\"matrix multiplication:\")\n",
    "for k in result:\n",
    "    print(k)"
   ]
  },
  {
   "cell_type": "code",
   "execution_count": 13,
   "id": "5c3eba7b-2d82-4269-8317-76d17cf6c072",
   "metadata": {},
   "outputs": [
    {
     "name": "stdout",
     "output_type": "stream",
     "text": [
      "lmn\n",
      "def\n",
      "ijk\n",
      "lmn\n",
      "lmn\n"
     ]
    }
   ],
   "source": [
    "import random\n",
    "a=[\"abc\",\"def\",\"ijk\",\"lmn\",\"opq\"]\n",
    "for i in range(0,len(a)):\n",
    "    print(random.choice(a))"
   ]
  },
  {
   "cell_type": "code",
   "execution_count": 19,
   "id": "4b7060f4-b836-49c1-a595-897e1c82e670",
   "metadata": {},
   "outputs": [
    {
     "name": "stdout",
     "output_type": "stream",
     "text": [
      "[1, 2, 3]\n"
     ]
    }
   ],
   "source": [
    "#remove the duplicants\n",
    "a=[1,2,3,2,1]\n",
    "b=set(a)\n",
    "#print(b)\n",
    "a=list(b)\n",
    "print(a)"
   ]
  },
  {
   "cell_type": "code",
   "execution_count": 20,
   "id": "ae2008eb-eb6f-46a2-a134-287f69c8a46e",
   "metadata": {},
   "outputs": [
    {
     "name": "stdout",
     "output_type": "stream",
     "text": [
      "{1, 2, 3}\n"
     ]
    }
   ],
   "source": [
    "#common elements in the lists\n",
    "a=[1,2,3,2,1,7,8]\n",
    "b=[2,3,4,5,1,6]\n",
    "print(set(a)&set(b))"
   ]
  },
  {
   "cell_type": "code",
   "execution_count": 21,
   "id": "dda05076-c86b-4d75-9fe1-d728da066c9d",
   "metadata": {},
   "outputs": [
    {
     "name": "stdout",
     "output_type": "stream",
     "text": [
      "1122445511\n"
     ]
    }
   ],
   "source": [
    "#Write a Python program to convert a list of multiple integers into a single integer.\n",
    "a=[11,22,44,55,11]\n",
    "b=\"\"\n",
    "for i in a:\n",
    "    b+=str(i)\n",
    "print(b)"
   ]
  },
  {
   "cell_type": "code",
   "execution_count": 28,
   "id": "a4a266ca-48e0-4183-baf1-f2a36b5861ba",
   "metadata": {},
   "outputs": [
    {
     "name": "stdout",
     "output_type": "stream",
     "text": [
      "[['a', 'd', 'g', 'j', 'm'], ['b', 'e', 'h', 'k', 'n'], ['c', 'f', 'i', 'l']]\n"
     ]
    }
   ],
   "source": [
    "#Write a Python program to split a list every Nth element.\n",
    "#Sample list: ['a', 'b', 'c', 'd', 'e', 'f', 'g', 'h', 'i', 'j', 'k', 'l', 'm', 'n']\n",
    "#Expected Output: [['a', 'd', 'g', 'j', 'm'], ['b', 'e', 'h', 'k', 'n'], ['c', 'f', 'i', 'l']]\n",
    "list1=['a', 'b', 'c', 'd', 'e', 'f', 'g', 'h', 'i', 'j', 'k', 'l', 'm', 'n']\n",
    "m=[]\n",
    "#for i in range(0,len(list1)):\n",
    "for i in range(3):\n",
    "    m.append(list1[i::3])\n",
    "print(m)"
   ]
  },
  {
   "cell_type": "code",
   "execution_count": null,
   "id": "be3ab84a-e23d-4eaf-ade9-7dce7239f92f",
   "metadata": {},
   "outputs": [],
   "source": []
  }
 ],
 "metadata": {
  "kernelspec": {
   "display_name": "Python 3 (ipykernel)",
   "language": "python",
   "name": "python3"
  },
  "language_info": {
   "codemirror_mode": {
    "name": "ipython",
    "version": 3
   },
   "file_extension": ".py",
   "mimetype": "text/x-python",
   "name": "python",
   "nbconvert_exporter": "python",
   "pygments_lexer": "ipython3",
   "version": "3.11.7"
  }
 },
 "nbformat": 4,
 "nbformat_minor": 5
}
