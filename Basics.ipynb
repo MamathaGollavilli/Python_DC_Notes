{
 "cells": [
  {
   "cell_type": "markdown",
   "id": "4fa90c2a-bd10-4bd8-b9da-8ffc8dcd33e4",
   "metadata": {},
   "source": [
    "### Day1"
   ]
  },
  {
   "cell_type": "markdown",
   "id": "ec2073d7-1bfc-4896-a45d-c92a9945790c",
   "metadata": {},
   "source": [
    "##### 1) print statements"
   ]
  },
  {
   "cell_type": "code",
   "execution_count": 74,
   "id": "9897e81a-0754-46ce-9c39-30300cbe4adf",
   "metadata": {},
   "outputs": [
    {
     "name": "stdout",
     "output_type": "stream",
     "text": [
      "a+b\n",
      "a b\n",
      "ab\n",
      "a b\n",
      "25\n",
      "Addition of numbers 25\n",
      "Addition of 10 and 15 is 25\n",
      "Addition of 10 and 15 is 25\n",
      "Addtion of 10 and 15 is 25\n",
      "Addition : 10 + 15=25\n",
      "Addition of two numbers are :  25\n",
      "hello hello hello hello hello \n",
      "Addition of two numbers are:\t25\n",
      "1'st class\n",
      "mamathagollavilli\n",
      "mamatha  gollavilli\n"
     ]
    }
   ],
   "source": [
    " \n",
    "a=10\n",
    "b=15\n",
    "c=a+b\n",
    "d=\"Mamatha Gollavilli\"\n",
    "\n",
    "\n",
    "print(\"a+b\") # a+b\n",
    "print(\"a\",\"b\") #a b\n",
    "print(\"a\" + \"b\")#ab\n",
    "print(\"a\" + \" \" + \"b\") #a b\n",
    "print(a+b) #25\n",
    "print(\"Addition of numbers\", c) \n",
    "print(\"Addition of 10 and 15 is\", c)\n",
    "print(\"Addition of\",a,\"and\",b,\"is\",c)\n",
    "print(\"Addtion of {} and {} is {}\".format(a,b,c))\n",
    "print(f\"Addition : {a} + {b}={c}\") #format\n",
    "print(\"Addition of two numbers are : \",end=\" \") \n",
    "print(f\"{c}\")\n",
    "print(\"hello \"*5) \n",
    "print(f\"Addition of two numbers are:\\t{c}\") #tab\n",
    "#print('1'st class') \n",
    "print('1\\'st class') #single quote\n",
    "print(\"mamatha \\bgollavilli\") #backslash\n",
    "print(\"mamatha   \\bgollavilli\") #it remove one space/charater before backslash\n",
    "\n",
    "\n"
   ]
  },
  {
   "cell_type": "code",
   "execution_count": 29,
   "id": "b27ed249-508d-472f-9946-6586190eeb18",
   "metadata": {},
   "outputs": [
    {
     "name": "stdout",
     "output_type": "stream",
     "text": [
      "<class 'int'>\n",
      "<class 'float'>\n",
      "<class 'float'>\n",
      "<class 'str'>\n",
      "<class 'complex'>\n",
      "<class 'bool'>\n"
     ]
    }
   ],
   "source": [
    "a=10 #integer \n",
    "c=a+5.0 \n",
    "d=2.5 #float\n",
    "e=\"Mammu\" #string\n",
    "z=3+2j  #complex\n",
    "f=True  # bool\n",
    "\n",
    "print(type(a))\n",
    "print(type(c))\n",
    "print(type(d))\n",
    "print(type(e))\n",
    "print(type(z))\n",
    "print(type(f))"
   ]
  },
  {
   "cell_type": "markdown",
   "id": "fb2cede2-7256-410a-aea1-91c32d0de332",
   "metadata": {},
   "source": [
    "##### Take 3 inputs from the user and find min and max values among three numbers"
   ]
  },
  {
   "cell_type": "code",
   "execution_count": 55,
   "id": "e64c1f84-72d4-4e8a-a76e-54d7f38008e8",
   "metadata": {},
   "outputs": [
    {
     "name": "stdin",
     "output_type": "stream",
     "text": [
      "Enter the interger number of a: 12\n",
      "Enter the interger number of b: 43\n",
      "Enter the interger number of c: 46\n"
     ]
    },
    {
     "name": "stdout",
     "output_type": "stream",
     "text": [
      "Print the lowest number 12\n",
      "Print the biggest number 46\n"
     ]
    }
   ],
   "source": [
    "\n",
    "a=int(input(\"Enter the interger number of a:\"))\n",
    "b=int(input(\"Enter the interger number of b:\"))\n",
    "c=int(input(\"Enter the interger number of c:\"))\n",
    "d=min(a,b,c)\n",
    "e=max(a,b,c)\n",
    "print(\"Print the lowest number\",d)\n",
    "print(\"Print the biggest number\", e)\n"
   ]
  },
  {
   "cell_type": "code",
   "execution_count": 58,
   "id": "ca10d3df-d932-4313-b8c7-a70240503d36",
   "metadata": {},
   "outputs": [
    {
     "name": "stdout",
     "output_type": "stream",
     "text": [
      "2\n"
     ]
    }
   ],
   "source": [
    "import random\n",
    "print(random.randrange(1,10))"
   ]
  },
  {
   "cell_type": "code",
   "execution_count": 59,
   "id": "9d96c6e5-d6d8-479d-981e-e7cf24c78b3f",
   "metadata": {},
   "outputs": [
    {
     "name": "stdout",
     "output_type": "stream",
     "text": [
      "Random Number is : 5\n"
     ]
    }
   ],
   "source": [
    "import random\n",
    "print(f\"Random Number is : {random.randrange(1,10)}\")"
   ]
  },
  {
   "cell_type": "markdown",
   "id": "9244ef4c-70b7-4330-a7f3-c8755af749f9",
   "metadata": {},
   "source": [
    "##### 2)Identifir/ Variables"
   ]
  },
  {
   "cell_type": "code",
   "execution_count": 60,
   "id": "69b6ccf7-0fd2-41d4-8921-e279c6db3862",
   "metadata": {},
   "outputs": [
    {
     "name": "stdout",
     "output_type": "stream",
     "text": [
      "values:  5 5 89 123 123 123\n"
     ]
    }
   ],
   "source": [
    "''' multi-line comments\n",
    "These are the different types of representing the variables\n",
    "'''\n",
    "\n",
    "first_var1= 5\n",
    "#1st_var1 =10 #invalid decimal literal\n",
    "_1st_var =10\n",
    "_firstvar1=89\n",
    "FirstSecondThird=123 #camel case\n",
    "First_Second_Third=123\n",
    "First2nd3rd=123\n",
    "print(\"values: \", first_var1,first_var1,_firstvar1,FirstSecondThird,First_Second_Third,First2nd3rd)\n",
    "\n"
   ]
  },
  {
   "cell_type": "code",
   "execution_count": 64,
   "id": "1b0c0d85-04f2-4a4f-bff2-eec564e6309e",
   "metadata": {},
   "outputs": [
    {
     "name": "stdout",
     "output_type": "stream",
     "text": [
      "5.333333333333333\n",
      "5.33\n",
      "5\n",
      "1\n",
      "6\n",
      "8\n"
     ]
    }
   ],
   "source": [
    "d=16/3 \n",
    "print(d)\n",
    "c=format((16/3),'.2f')\n",
    "print(c)\n",
    "d=16//3\n",
    "print(d)\n",
    "d=16%3\n",
    "print(d)\n",
    "d=2*3\n",
    "print(d)\n",
    "d=2**3\n",
    "print(d)"
   ]
  },
  {
   "cell_type": "markdown",
   "id": "2a6f15ae-47c9-4690-bdc4-a6951e290fef",
   "metadata": {},
   "source": [
    "##### 3) #WAP to determine whether a person is eigible to vote or not , if not find remaining years to be eligible"
   ]
  },
  {
   "cell_type": "code",
   "execution_count": 81,
   "id": "51054fdf-1114-4a44-82db-56488814b0e4",
   "metadata": {},
   "outputs": [
    {
     "name": "stdin",
     "output_type": "stream",
     "text": [
      "Enter the person age:  12\n"
     ]
    },
    {
     "name": "stdout",
     "output_type": "stream",
     "text": [
      "6 yrs required to cast the vote\n"
     ]
    }
   ],
   "source": [
    "PersonAge=int(input(\"Enter the person age: \"))\n",
    "if(PersonAge>0):\n",
    "    if(PersonAge<18):\n",
    "        required_age=18-PersonAge;\n",
    "        print(f\"{required_age} yrs required to cast the vote\")\n",
    "    else:\n",
    "        print(\"Eligible to vote\")\n",
    "else:\n",
    "    print(\"Invalid plese enter valid data\")"
   ]
  },
  {
   "cell_type": "markdown",
   "id": "aad4ed0a-f1de-42d2-8ef4-b258539c8127",
   "metadata": {},
   "source": [
    "##### 4) WAP for even sum and odd sum between two intervals"
   ]
  },
  {
   "cell_type": "code",
   "execution_count": 84,
   "id": "d219d84c-fe4c-488d-81a4-f94d8939a54a",
   "metadata": {},
   "outputs": [
    {
     "name": "stdin",
     "output_type": "stream",
     "text": [
      "Enter the starting range:  2\n",
      "Enter the ending range:  10\n"
     ]
    },
    {
     "name": "stdout",
     "output_type": "stream",
     "text": [
      "even_sum is 20 and odd_sum is 24\n"
     ]
    }
   ],
   "source": [
    "num1=int(input(\"Enter the starting range: \"))\n",
    "num2=int(input(\"Enter the ending range: \"))\n",
    "even_sum=0\n",
    "odd_sum=0\n",
    "for i in range(num1,num2):\n",
    "    if(i%2==0):\n",
    "        even_sum=even_sum+i\n",
    "    else:\n",
    "        odd_sum=odd_sum+i\n",
    "        \n",
    "print(f\"even_sum is {even_sum} and odd_sum is {odd_sum}\")"
   ]
  },
  {
   "cell_type": "markdown",
   "id": "c437f457-fc27-4894-9ca1-a83d891d6a54",
   "metadata": {},
   "source": [
    "##### 5) WAP to get numbers which are divisble by 4 and 6 only between two intervals"
   ]
  },
  {
   "cell_type": "code",
   "execution_count": 92,
   "id": "1eb1cf2e-cae1-412b-aff8-bd0deccfe914",
   "metadata": {},
   "outputs": [
    {
     "name": "stdin",
     "output_type": "stream",
     "text": [
      "Enter the starting range:  10\n",
      "Enter the ending range:  100\n"
     ]
    },
    {
     "name": "stdout",
     "output_type": "stream",
     "text": [
      "Numbers are :  12 24 36 48 60 72 84 96 "
     ]
    }
   ],
   "source": [
    "num1=int(input(\"Enter the starting range: \"))\n",
    "num2=int(input(\"Enter the ending range: \"))\n",
    "print(\"Numbers are : \",end=\" \")\n",
    "for i in range(num1,num2+1):\n",
    "    if(i%4==0 and i%6==0):\n",
    "        print(i,end=\" \") "
   ]
  },
  {
   "cell_type": "markdown",
   "id": "6589c29c-87e6-4c55-96a5-30d96242608f",
   "metadata": {},
   "source": [
    "##### 6) WAP to get a pattern like  n+nn+nnn+nnnn.........\n",
    "         Ex: 5+55+555= 615"
   ]
  },
  {
   "cell_type": "code",
   "execution_count": 114,
   "id": "3aee446b-7b8e-4ea8-9bdb-d40126a3c79f",
   "metadata": {},
   "outputs": [
    {
     "name": "stdin",
     "output_type": "stream",
     "text": [
      "Enter the number: 5\n",
      "Enter the repetation number:  5\n"
     ]
    },
    {
     "name": "stdout",
     "output_type": "stream",
     "text": [
      "5+55+555+5555+55555=61725\n"
     ]
    }
   ],
   "source": [
    "n=int(input(\"Enter the number:\"))\n",
    "r=int(input(\"Enter the repetation number: \"))\n",
    "sum=0\n",
    "for i in range(1,r+1):\n",
    "    num=str(n)*i  #casting and repeatation \n",
    "    #num=i*f\"{n}\"\n",
    "    sum=sum+int(num)\n",
    "    if(i==r):\n",
    "        print(num,end=\"=\")\n",
    "    else:\n",
    "        print(num,end=\"+\")\n",
    "    \n",
    "print(sum)\n",
    "    \n",
    "    "
   ]
  },
  {
   "cell_type": "markdown",
   "id": "2dd457e8-fa0f-49ac-863d-25776af0014c",
   "metadata": {},
   "source": [
    "##### 7) Prime number "
   ]
  },
  {
   "cell_type": "code",
   "execution_count": 117,
   "id": "830c1ac4-421c-41c3-a8aa-08df71470410",
   "metadata": {},
   "outputs": [
    {
     "name": "stdout",
     "output_type": "stream",
     "text": [
      "Prime Numbers are: \n",
      "2 3 5 7 11 13 17 19 23 29 31 37 41 43 47 53 59 61 67 71 73 79 83 89 97 "
     ]
    }
   ],
   "source": [
    "print(\"Prime Numbers are: \")\n",
    "for i in range(0,101):\n",
    "    count=0\n",
    "    for m in range(1,i+1):\n",
    "        if(i%m==0):\n",
    "            count=count+1\n",
    "    if(count==2):\n",
    "        print(i,end=\" \")"
   ]
  },
  {
   "cell_type": "markdown",
   "id": "ef15d12b-8e2d-4c90-b4d9-5469cc4bc4f9",
   "metadata": {},
   "source": [
    "##### 8) Reverse a given number using while loop"
   ]
  },
  {
   "cell_type": "code",
   "execution_count": 121,
   "id": "1ff0ed1b-d2fe-4498-b05b-6ea96b13e7d3",
   "metadata": {},
   "outputs": [
    {
     "name": "stdout",
     "output_type": "stream",
     "text": [
      "reverse of a : 321\n"
     ]
    }
   ],
   "source": [
    "a=123\n",
    "rev=0\n",
    "while(a>0): \n",
    "    dig=a%10\n",
    "    rev=rev*10+dig\n",
    "    a=a//10\n",
    "print(\"reverse of a :\",rev)"
   ]
  },
  {
   "cell_type": "markdown",
   "id": "e6fe53c8-a90e-4d43-983f-e5d52e5739f3",
   "metadata": {},
   "source": [
    "##### 9)multiples of individual digits of a number"
   ]
  },
  {
   "cell_type": "code",
   "execution_count": 120,
   "id": "5c96511f-08f6-463a-906e-f6d59626c799",
   "metadata": {},
   "outputs": [
    {
     "name": "stdout",
     "output_type": "stream",
     "text": [
      "reverse of a : 120\n"
     ]
    }
   ],
   "source": [
    "a=456\n",
    "mul=1\n",
    "while(a>0): \n",
    "    dig=a%10\n",
    "    mul=mul*dig\n",
    "    a=a//10\n",
    "print(\"reverse of a :\",mul)"
   ]
  },
  {
   "cell_type": "code",
   "execution_count": 66,
   "id": "01ac0096-59d5-4c1f-a4bf-5ed86e0a2491",
   "metadata": {},
   "outputs": [
    {
     "name": "stdin",
     "output_type": "stream",
     "text": [
      "enter mrks of A: 89\n",
      "enter mrks of B: 98\n",
      "enter mrks of C: 87\n",
      "enter mrks of D: 92\n",
      "enter mrks of E: 93\n"
     ]
    },
    {
     "name": "stdout",
     "output_type": "stream",
     "text": [
      "total marks obtained: 459.0\n",
      "percentage secured: 91.8\n",
      "distinction\n"
     ]
    }
   ],
   "source": [
    "#10) Grading\n",
    "sub1=float(input(\"enter mrks of A:\"))\n",
    "sub2=float(input(\"enter mrks of B:\"))\n",
    "sub3=float(input(\"enter mrks of C:\"))\n",
    "sub4=float(input(\"enter mrks of D:\"))\n",
    "sub5=float(input(\"enter mrks of E:\"))\n",
    "total=sub1+sub2+sub3+sub4+sub5\n",
    "print(\"total marks obtained:\",total)\n",
    "per=total/5\n",
    "print(\"percentage secured:\",per)\n",
    "if(per>=90):\n",
    "    print(\"distinction\")\n",
    "elif(per>=80 and per<90):\n",
    "    print(\"frst class\")\n",
    "elif(per>=70 and per<80):\n",
    "    print(\"sec class\")\n",
    "elif(per>=60 and per<70):\n",
    "    print(\"third class\")\n",
    "else:\n",
    "    print(\"fail\")"
   ]
  },
  {
   "cell_type": "code",
   "execution_count": 79,
   "id": "54b50970-bf63-4172-8f6c-0607cb1a7df7",
   "metadata": {},
   "outputs": [
    {
     "name": "stdout",
     "output_type": "stream",
     "text": [
      "6 * 0 = 0\n",
      "6 * 1 = 6\n",
      "6 * 2 = 12\n",
      "6 * 3 = 18\n",
      "6 * 4 = 24\n",
      "6 * 5 = 30\n",
      "6 * 6 = 36\n",
      "6 * 7 = 42\n",
      "6 * 8 = 48\n",
      "6 * 9 = 54\n",
      "6 * 10 = 60\n",
      "6 * 11 = 66\n",
      "6 * 12 = 72\n",
      "6 * 13 = 78\n",
      "6 * 14 = 84\n",
      "6 * 15 = 90\n",
      "6 * 16 = 96\n",
      "6 * 17 = 102\n",
      "6 * 18 = 108\n",
      "6 * 19 = 114\n",
      "6 * 20 = 120\n"
     ]
    }
   ],
   "source": [
    "#11) WAP to print 6 table\n",
    "for i in range(21):\n",
    "   # r=6*i\n",
    "    #print(str(6)+\"*\"+str(i)+\"=\"+str(r))\n",
    "    #print(f\"6 * {i} = {r}\")\n",
    "    print(f\"6 * {i} = {i*6}\")"
   ]
  },
  {
   "cell_type": "code",
   "execution_count": null,
   "id": "cd1dc99e-539a-43af-8135-9149470ccf0b",
   "metadata": {},
   "outputs": [],
   "source": []
  }
 ],
 "metadata": {
  "kernelspec": {
   "display_name": "Python 3 (ipykernel)",
   "language": "python",
   "name": "python3"
  },
  "language_info": {
   "codemirror_mode": {
    "name": "ipython",
    "version": 3
   },
   "file_extension": ".py",
   "mimetype": "text/x-python",
   "name": "python",
   "nbconvert_exporter": "python",
   "pygments_lexer": "ipython3",
   "version": "3.11.7"
  }
 },
 "nbformat": 4,
 "nbformat_minor": 5
}
