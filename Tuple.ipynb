{
 "cells": [
  {
   "cell_type": "markdown",
   "id": "c46b2f65-50f0-498b-84bd-ad99a3a1663e",
   "metadata": {},
   "source": [
    "##### Tuple items are ordered, unchangeable, and allow duplicate values."
   ]
  },
  {
   "cell_type": "code",
   "execution_count": 83,
   "id": "464b1bbf-bdc2-4c79-8714-8d6e27415705",
   "metadata": {},
   "outputs": [
    {
     "name": "stdout",
     "output_type": "stream",
     "text": [
      "<class 'tuple'>\n"
     ]
    }
   ],
   "source": [
    "a=(\"Digicomm\",\"Semiconductor\")\n",
    "print(type(a))"
   ]
  },
  {
   "cell_type": "code",
   "execution_count": 46,
   "id": "07ae7517-b6c5-4e6d-9a84-f7db10d1c1b9",
   "metadata": {},
   "outputs": [
    {
     "name": "stdout",
     "output_type": "stream",
     "text": [
      "<class 'str'>\n"
     ]
    }
   ],
   "source": [
    "a=(\"digicomm\")\n",
    "print(type(a))"
   ]
  },
  {
   "cell_type": "code",
   "execution_count": 48,
   "id": "4890c63f-0dca-4f7f-b485-be5d75ea0eb9",
   "metadata": {},
   "outputs": [
    {
     "name": "stdout",
     "output_type": "stream",
     "text": [
      "<class 'tuple'>\n"
     ]
    }
   ],
   "source": [
    "a=(\"digicomm\",)\n",
    "print(type(a))"
   ]
  },
  {
   "cell_type": "code",
   "execution_count": 63,
   "id": "5c5557d9-e73a-4be9-aa91-3854d35f6e90",
   "metadata": {},
   "outputs": [
    {
     "name": "stdout",
     "output_type": "stream",
     "text": [
      "('dv', 'pd', 'psv', 'dv', 'pd', 'psv')\n"
     ]
    }
   ],
   "source": [
    "dept = (\"dv\", \"pd\", \"psv\")\n",
    "mytuple = dept * 2\n",
    "print(mytuple)"
   ]
  },
  {
   "cell_type": "code",
   "execution_count": 6,
   "id": "634aaeab-a272-4dd4-af5c-50d451fb0932",
   "metadata": {},
   "outputs": [
    {
     "name": "stdout",
     "output_type": "stream",
     "text": [
      "<class 'tuple'>\n"
     ]
    }
   ],
   "source": [
    "a=tuple((1,2,3)) # we have to use two brackets while declaration\n",
    "print(type(a))"
   ]
  },
  {
   "cell_type": "code",
   "execution_count": 7,
   "id": "f8e1805f-65b6-4163-b43c-5d8e72c145e8",
   "metadata": {},
   "outputs": [
    {
     "ename": "TypeError",
     "evalue": "tuple expected at most 1 argument, got 3",
     "output_type": "error",
     "traceback": [
      "\u001b[1;31m---------------------------------------------------------------------------\u001b[0m",
      "\u001b[1;31mTypeError\u001b[0m                                 Traceback (most recent call last)",
      "Cell \u001b[1;32mIn[7], line 3\u001b[0m\n\u001b[0;32m      1\u001b[0m \u001b[38;5;66;03m# note the double round-brackets\u001b[39;00m\n\u001b[0;32m      2\u001b[0m \u001b[38;5;66;03m#otherwise it shows error\u001b[39;00m\n\u001b[1;32m----> 3\u001b[0m a\u001b[38;5;241m=\u001b[39m\u001b[38;5;28mtuple\u001b[39m(\u001b[38;5;241m1\u001b[39m,\u001b[38;5;241m2\u001b[39m,\u001b[38;5;241m3\u001b[39m)\n\u001b[0;32m      4\u001b[0m \u001b[38;5;28mprint\u001b[39m(\u001b[38;5;28mtype\u001b[39m(a))\n",
      "\u001b[1;31mTypeError\u001b[0m: tuple expected at most 1 argument, got 3"
     ]
    }
   ],
   "source": [
    "# note the double round-brackets\n",
    "#otherwise it shows error\n",
    "a=tuple(1,2,3)\n",
    "print(type(a))"
   ]
  },
  {
   "cell_type": "code",
   "execution_count": 85,
   "id": "bdd3c17d-ec2f-43c0-9f14-395738e464c6",
   "metadata": {},
   "outputs": [
    {
     "name": "stdout",
     "output_type": "stream",
     "text": [
      "<class 'tuple'>\n"
     ]
    }
   ],
   "source": [
    "a=tuple((1,))\n",
    "print(type(a))"
   ]
  },
  {
   "cell_type": "markdown",
   "id": "203b055d-0bfc-415b-a9d5-06cd7394e5b8",
   "metadata": {},
   "source": [
    " ##### In-built Functions Meaning\n",
    "       len() Returns the number of elements in the tuple\n",
    "       max() Returns the element with the greatest value\n",
    "       min() Returns the element with the minimum value\n",
    "       sum() Returns the sum of all the elements of tuple\n",
    "       index(x) Returns the index of element x\n",
    "       count(x) Returns the number of occurrence of element x\n"
   ]
  },
  {
   "cell_type": "code",
   "execution_count": 50,
   "id": "0de5ac20-b020-4141-bbdf-d4baf0cee585",
   "metadata": {},
   "outputs": [
    {
     "name": "stdout",
     "output_type": "stream",
     "text": [
      "3\n"
     ]
    }
   ],
   "source": [
    "thistuple = (\"dv\", \"pd\", \"psv\")\n",
    "print(len(thistuple))"
   ]
  },
  {
   "cell_type": "code",
   "execution_count": 11,
   "id": "da8877a7-f482-4e77-a650-20d7b774c22d",
   "metadata": {},
   "outputs": [
    {
     "name": "stdout",
     "output_type": "stream",
     "text": [
      "max value:  8\n",
      "min value:  1\n"
     ]
    }
   ],
   "source": [
    "l=(1,3,6,3,8)\n",
    "print(\"max value: \",max(l))\n",
    "print(\"min value: \",min(l))"
   ]
  },
  {
   "cell_type": "code",
   "execution_count": 51,
   "id": "0d2192c0-06b3-41ed-9e82-0607210806de",
   "metadata": {},
   "outputs": [
    {
     "name": "stdout",
     "output_type": "stream",
     "text": [
      "pd\n",
      "psv\n"
     ]
    }
   ],
   "source": [
    "# indexing for accessig the tuple\n",
    "thistuple = (\"dv\", \"pd\", \"psv\")\n",
    "print(thistuple[1])\n",
    "print(thistuple[-1])"
   ]
  },
  {
   "cell_type": "code",
   "execution_count": 65,
   "id": "cfe677b2-1e62-43e2-b219-f71a48a486c3",
   "metadata": {},
   "outputs": [
    {
     "name": "stdout",
     "output_type": "stream",
     "text": [
      "2\n"
     ]
    }
   ],
   "source": [
    "#The index() method finds the first occurrence of the specified value.\n",
    "thistuple = (1, 3, 7, 8, 7, 5, 4, 6, 8, 5)\n",
    "\n",
    "x = thistuple.index(7)\n",
    "\n",
    "print(x)"
   ]
  },
  {
   "cell_type": "code",
   "execution_count": 66,
   "id": "4ba2633b-5fa0-4d95-adad-a543bec14576",
   "metadata": {},
   "outputs": [
    {
     "name": "stdout",
     "output_type": "stream",
     "text": [
      "('psv', 'analog', 'dft')\n",
      "('dv', 'pd', 'psv', 'analog')\n",
      "('psv', 'analog', 'dft', 'msd', 'pv')\n",
      "('analog', 'dft', 'msd')\n"
     ]
    }
   ],
   "source": [
    "# ranging\n",
    "thistuple = (\"dv\", \"pd\", \"psv\", \"analog\", \"dft\", \"msd\", \"pv\")\n",
    "print(thistuple[2:5])\n",
    "print(thistuple[:4])\n",
    "print(thistuple[2:])\n",
    "print(thistuple[-4:-1])"
   ]
  },
  {
   "cell_type": "code",
   "execution_count": 78,
   "id": "3ed84c80-5e03-437b-829c-77a8aed67839",
   "metadata": {},
   "outputs": [
    {
     "ename": "TypeError",
     "evalue": "'tuple' object does not support item assignment",
     "output_type": "error",
     "traceback": [
      "\u001b[1;31m---------------------------------------------------------------------------\u001b[0m",
      "\u001b[1;31mTypeError\u001b[0m                                 Traceback (most recent call last)",
      "Cell \u001b[1;32mIn[78], line 2\u001b[0m\n\u001b[0;32m      1\u001b[0m thistuple \u001b[38;5;241m=\u001b[39m (\u001b[38;5;124m\"\u001b[39m\u001b[38;5;124mdv\u001b[39m\u001b[38;5;124m\"\u001b[39m, \u001b[38;5;124m\"\u001b[39m\u001b[38;5;124mpd\u001b[39m\u001b[38;5;124m\"\u001b[39m, \u001b[38;5;124m\"\u001b[39m\u001b[38;5;124mpsv\u001b[39m\u001b[38;5;124m\"\u001b[39m, \u001b[38;5;124m\"\u001b[39m\u001b[38;5;124manalog\u001b[39m\u001b[38;5;124m\"\u001b[39m, \u001b[38;5;124m\"\u001b[39m\u001b[38;5;124mdft\u001b[39m\u001b[38;5;124m\"\u001b[39m, \u001b[38;5;124m\"\u001b[39m\u001b[38;5;124mmsd\u001b[39m\u001b[38;5;124m\"\u001b[39m, \u001b[38;5;124m\"\u001b[39m\u001b[38;5;124mpv\u001b[39m\u001b[38;5;124m\"\u001b[39m)\n\u001b[1;32m----> 2\u001b[0m thistuple[\u001b[38;5;241m1\u001b[39m]\u001b[38;5;241m=\u001b[39m\u001b[38;5;124m\"\u001b[39m\u001b[38;5;124mdesign\u001b[39m\u001b[38;5;124m\"\u001b[39m\n\u001b[0;32m      3\u001b[0m \u001b[38;5;28mprint\u001b[39m(thistuple)\n",
      "\u001b[1;31mTypeError\u001b[0m: 'tuple' object does not support item assignment"
     ]
    }
   ],
   "source": [
    "thistuple = (\"dv\", \"pd\", \"psv\", \"analog\", \"dft\", \"msd\", \"pv\")\n",
    "thistuple[1]=\"design\"\n",
    "print(thistuple)"
   ]
  },
  {
   "cell_type": "code",
   "execution_count": 67,
   "id": "5646a1f7-83b6-4f95-8c90-a2e0ad9bba9d",
   "metadata": {},
   "outputs": [
    {
     "name": "stdout",
     "output_type": "stream",
     "text": [
      "('dv', 'pd', 'psv', 'dft')\n"
     ]
    }
   ],
   "source": [
    "# for adding the elements, we have to convert the tuple into list \n",
    "thistuple = (\"dv\", \"pd\", \"psv\")\n",
    "y = list(thistuple)\n",
    "y.append(\"dft\")\n",
    "thistuple = tuple(y)\n",
    "print(thistuple)"
   ]
  },
  {
   "cell_type": "code",
   "execution_count": 58,
   "id": "23258f81-5530-438e-9d98-a2b138c17fcc",
   "metadata": {},
   "outputs": [
    {
     "name": "stdout",
     "output_type": "stream",
     "text": [
      "('dv', 'pd', 'psv', 'dft')\n"
     ]
    }
   ],
   "source": [
    "#add two tuples\n",
    "thistuple = (\"dv\", \"pd\", \"psv\")\n",
    "y = (\"dft\",)\n",
    "thistuple += y\n",
    "print(thistuple)"
   ]
  },
  {
   "cell_type": "code",
   "execution_count": 57,
   "id": "5d28682c-d94a-4cfb-a715-f771888571ea",
   "metadata": {},
   "outputs": [
    {
     "name": "stdout",
     "output_type": "stream",
     "text": [
      "('pd', 'psv')\n"
     ]
    }
   ],
   "source": [
    "# remove\n",
    "thistuple = (\"dv\", \"pd\", \"psv\")\n",
    "y = list(thistuple)\n",
    "y.remove(\"psv\")\n",
    "thistuple = tuple(y)\n",
    "print(thistuple)"
   ]
  },
  {
   "cell_type": "code",
   "execution_count": 59,
   "id": "7c189658-4f7f-4700-93a0-76000d57c4fb",
   "metadata": {},
   "outputs": [
    {
     "ename": "NameError",
     "evalue": "name 'thistuple' is not defined",
     "output_type": "error",
     "traceback": [
      "\u001b[1;31m---------------------------------------------------------------------------\u001b[0m",
      "\u001b[1;31mNameError\u001b[0m                                 Traceback (most recent call last)",
      "Cell \u001b[1;32mIn[59], line 3\u001b[0m\n\u001b[0;32m      1\u001b[0m thistuple \u001b[38;5;241m=\u001b[39m (\u001b[38;5;124m\"\u001b[39m\u001b[38;5;124mdv\u001b[39m\u001b[38;5;124m\"\u001b[39m, \u001b[38;5;124m\"\u001b[39m\u001b[38;5;124mpd\u001b[39m\u001b[38;5;124m\"\u001b[39m, \u001b[38;5;124m\"\u001b[39m\u001b[38;5;124mpsv\u001b[39m\u001b[38;5;124m\"\u001b[39m)\n\u001b[0;32m      2\u001b[0m \u001b[38;5;28;01mdel\u001b[39;00m thistuple\n\u001b[1;32m----> 3\u001b[0m \u001b[38;5;28mprint\u001b[39m(thistuple)\n",
      "\u001b[1;31mNameError\u001b[0m: name 'thistuple' is not defined"
     ]
    }
   ],
   "source": [
    "thistuple = (\"dv\", \"pd\", \"psv\")\n",
    "del thistuple\n",
    "print(thistuple) #this will raise an error because the tuple no longer exists"
   ]
  },
  {
   "cell_type": "markdown",
   "id": "2bd6d08c-a5d1-4f25-bb86-4bd87def35ef",
   "metadata": {},
   "source": [
    "###### When we create a tuple, we normally assign values to it. This is called \"packing\" a tuple.But, in Python, we are also allowed to extract the values back into variables. This is called \"unpacking\""
   ]
  },
  {
   "cell_type": "code",
   "execution_count": 60,
   "id": "fbe4072b-310c-4f2e-adc0-ea75fb17903f",
   "metadata": {},
   "outputs": [
    {
     "name": "stdout",
     "output_type": "stream",
     "text": [
      "('dv', 'pd', 'psv')\n"
     ]
    }
   ],
   "source": [
    "#packed\n",
    "dept = (\"dv\", \"pd\", \"psv\")\n",
    "print(dept)"
   ]
  },
  {
   "cell_type": "code",
   "execution_count": 87,
   "id": "0599e098-9c66-48d4-af99-0664cd780671",
   "metadata": {},
   "outputs": [
    {
     "name": "stdout",
     "output_type": "stream",
     "text": [
      "dv\n",
      "pd\n",
      "psv\n"
     ]
    }
   ],
   "source": [
    "# un-packed \n",
    "dept = (\"dv\", \"pd\", \"psv\")\n",
    "\n",
    "(verfication, pysical_design, validation) = dept  \n",
    "#(verfication, pysical_design, validation) = (\"dv\", \"pd\", \"psv\")\n",
    "print(verfication)\n",
    "print(pysical_design)\n",
    "print(validation)"
   ]
  },
  {
   "cell_type": "code",
   "execution_count": 86,
   "id": "59757ec3-5419-4689-a98a-50ef383c6eec",
   "metadata": {},
   "outputs": [
    {
     "name": "stdout",
     "output_type": "stream",
     "text": [
      "dv\n",
      "pd\n",
      "psv\n"
     ]
    }
   ],
   "source": [
    "# un-packed \n",
    "dept = (\"dv\", \"pd\", \"psv\")\n",
    "\n",
    "verfication, pysical_design, validation = dept \n",
    "\n",
    "print(verfication)\n",
    "print(pysical_design)\n",
    "print(validation)"
   ]
  },
  {
   "cell_type": "code",
   "execution_count": 90,
   "id": "5fb0f007-6b83-4cc5-b4ae-0fc175dbcb9c",
   "metadata": {},
   "outputs": [],
   "source": [
    "#Using Asterisk*\n",
    "'''If the number of variables is less than the number of values, you can add an * to the variable name\n",
    "and the values will be assigned to the variable as a list:'''\n",
    "\n",
    "fruits = (\"apple\", \"banana\", \"cherry\", \"strawberry\", \"raspberry\")\n",
    "\n",
    "(green, yellow, *red) = fruits\n",
    "#(green, yellow, red) = fruits #too many values to unpack (expected 3)\n"
   ]
  },
  {
   "cell_type": "code",
   "execution_count": 26,
   "id": "d9a14a0d-2102-4c57-b4c6-fcfdc7d80548",
   "metadata": {},
   "outputs": [
    {
     "name": "stdout",
     "output_type": "stream",
     "text": [
      "apple\n",
      "['mango', 'papaya', 'pineapple']\n",
      "cherry\n"
     ]
    }
   ],
   "source": [
    "fruits = (\"apple\", \"mango\", \"papaya\", \"pineapple\", \"cherry\")\n",
    "\n",
    "(green, *tropic, red) = fruits\n",
    "\n",
    "print(green)\n",
    "print(tropic)\n",
    "print(red)"
   ]
  },
  {
   "cell_type": "code",
   "execution_count": 27,
   "id": "d31b746f-8e48-4253-ab0f-f015081c6a3b",
   "metadata": {},
   "outputs": [
    {
     "name": "stdout",
     "output_type": "stream",
     "text": [
      "('a', 'b', 'c', 1, 2, 3)\n"
     ]
    }
   ],
   "source": [
    "#join to tuples\n",
    "tuple1 = (\"a\", \"b\" , \"c\")\n",
    "tuple2 = (1, 2, 3)\n",
    "\n",
    "tuple3 = tuple1 + tuple2\n",
    "print(tuple3)"
   ]
  },
  {
   "cell_type": "code",
   "execution_count": 33,
   "id": "260d555c-b428-44ff-91b2-c05cdf569b5f",
   "metadata": {},
   "outputs": [
    {
     "name": "stdout",
     "output_type": "stream",
     "text": [
      "(1, 'Amit')\n",
      "<class 'tuple'>\n",
      "(2, 'Divya')\n",
      "<class 'tuple'>\n",
      "(3, 'Sameer')\n",
      "<class 'tuple'>\n"
     ]
    }
   ],
   "source": [
    "t=[(1, \"Amit\"),(2, \"Divya\"),(3, \"Sameer\")]\n",
    "for i in t: \n",
    "    print(i)\n",
    "    print(type(i))"
   ]
  },
  {
   "cell_type": "code",
   "execution_count": 93,
   "id": "2cd8fa36-a4e6-4851-bf82-7cdf4d93a568",
   "metadata": {},
   "outputs": [
    {
     "name": "stdout",
     "output_type": "stream",
     "text": [
      "string [('X', 'm'), ('Y', 'n'), ('Z', 'o')]\n",
      "tuples [(1, 4), (3, 6), (5, 8)]\n",
      "[(1, 'X'), (2, 'Y'), (3, 'Z')]\n",
      "[(1, 3), (2, 4), (3, 5)]\n"
     ]
    }
   ],
   "source": [
    "# ZIP function:\n",
    "''' It takes items in sequence from a number of collections \n",
    "to make a list of tuples, where each tuple contains one item from each of the collections. The \n",
    "function is often used to group items from a list which has the same index.'''\n",
    "A1=[1,2,3]\n",
    "A2=\"XYZ\"\n",
    "A21=\"mno\"\n",
    "A3=[3,4,5]\n",
    "A6=(1,3,5)\n",
    "A7=(4,6,8)\n",
    "A8=list(zip(A6,A7))\n",
    "A9=list(zip(A2,A21))\n",
    "print(\"string\",A9)\n",
    "print(\"tuples\",A8)\n",
    "A4=list(zip(A1,A2))\n",
    "print(A4)\n",
    "A5=list(zip(A1,A3))\n",
    "print(A5)"
   ]
  },
  {
   "cell_type": "code",
   "execution_count": 37,
   "id": "ef66645d-ab3e-44a3-8003-d138843ce474",
   "metadata": {},
   "outputs": [
    {
     "name": "stdout",
     "output_type": "stream",
     "text": [
      "(('Laptop', 40000), ('Desktop', 30000), ('Mobile', 15000))\n"
     ]
    }
   ],
   "source": [
    "L1=['Laptop', 'Desktop', 'Mobile'] #Create List1\n",
    "L2=[40000, 30000, 15000] #Create List2\n",
    "L3=tuple((list(zip(L1,L2)))) #Group item from Lists 1 and 2\n",
    "print(L3)"
   ]
  },
  {
   "cell_type": "code",
   "execution_count": 68,
   "id": "5621c5b6-b75b-4339-a8fb-1b83b05bb0b1",
   "metadata": {},
   "outputs": [
    {
     "name": "stdout",
     "output_type": "stream",
     "text": [
      "('Black', 255)\n",
      "('White', 0)\n",
      "('Grey', 100)\n"
     ]
    }
   ],
   "source": [
    "L1=['Black','White','Grey'] #Create List L1\n",
    "L2=[255,0,100] #Create List L2\n",
    "for Colour, Code in zip(L1,L2): #Use of zip in for loop\n",
    "    print((Colour,Code))"
   ]
  },
  {
   "cell_type": "code",
   "execution_count": 97,
   "id": "c37304a8-1f43-474f-bf6f-9ce8e9c847f9",
   "metadata": {},
   "outputs": [
    {
     "name": "stdout",
     "output_type": "stream",
     "text": [
      "('APPLE', 'DELL')\n",
      "(50000, 30000)\n"
     ]
    }
   ],
   "source": [
    "X=[('APPLE',50000),('DELL',30000)] #List of tuples\n",
    "Laptop,Prize=zip(*X) #Unpacking Values\n",
    "#x=zip(*X)\n",
    "print(Laptop)\n",
    "print(Prize)\n",
    "#print(tuple(x))"
   ]
  },
  {
   "cell_type": "markdown",
   "id": "4f616228-b6b7-46c1-aa9b-54e29cb34dc2",
   "metadata": {},
   "source": [
    "##### The function zip(*) also performs the same operation, i.e. unpacks a sequence into positional arguments.\n"
   ]
  },
  {
   "cell_type": "code",
   "execution_count": 94,
   "id": "02feb488-1def-47a0-9e8a-4031cef4a8ef",
   "metadata": {},
   "outputs": [
    {
     "name": "stdout",
     "output_type": "stream",
     "text": [
      "((1, 3, 5, 7), (2, 4, 6, 0))\n"
     ]
    }
   ],
   "source": [
    "#Transpose of a matrix\n",
    "Matrix=[(1,2),(3,4),(5,6),(7,0)]\n",
    "x=zip(*Matrix)\n",
    "print(tuple(x))"
   ]
  },
  {
   "cell_type": "code",
   "execution_count": 42,
   "id": "1b864b2c-fa49-48ca-9d89-db16c84772c0",
   "metadata": {},
   "outputs": [
    {
     "name": "stdout",
     "output_type": "stream",
     "text": [
      "(30, 10, 200, 2.0)\n",
      "<class 'tuple'>\n"
     ]
    }
   ],
   "source": [
    "# Write a program to demonstrate the return multiple values to the caller. \n",
    "def Return_Multiple_Values(a,b):\n",
    "    sum1 = a + b\n",
    "    diff = a - b\n",
    "    mul = a * b\n",
    "    div = a / b\n",
    "    return sum1,diff,mul,div\n",
    "    \n",
    "ans = Return_Multiple_Values(20,10)\n",
    "print(ans)\n",
    "print(type(ans))"
   ]
  },
  {
   "cell_type": "code",
   "execution_count": 44,
   "id": "45315d6e-a710-4dce-9b68-42442ffc53c5",
   "metadata": {},
   "outputs": [
    {
     "name": "stdout",
     "output_type": "stream",
     "text": [
      "((1, 2), (1, 2), (1, 2), (1, 2), (1, 2), (1, 2), (1, 2))\n"
     ]
    }
   ],
   "source": [
    "a = ((1,2),)*7\n",
    "print(a)\n"
   ]
  },
  {
   "cell_type": "code",
   "execution_count": 69,
   "id": "831424dc-d5d3-433c-b52f-62512099a115",
   "metadata": {},
   "outputs": [
    {
     "name": "stdout",
     "output_type": "stream",
     "text": [
      "Tuple1 and Tuple2 are same\n"
     ]
    }
   ],
   "source": [
    "# Tuple Comparison\n",
    "\n",
    "tuple1 = (1,2,3,4,5)\n",
    "tuple2 = (1,2,3,4,5)\n",
    "tuple3 = (\"A\", \"AB\", \"a\", \"ab\")\n",
    "tuple4 = (\"a\", \"AAB\")\n",
    "\n",
    "\n",
    "# Integer Equality Operator(== & !=)\n",
    "if tuple1 == tuple2:\n",
    "    print(\"Tuple1 and Tuple2 are same\")\n",
    "elif tuple1 != tuple2:\n",
    "    print(\"Tuple1 and Tuple2 are different\")\n",
    "else:\n",
    "    print(\"ERROR\")"
   ]
  },
  {
   "cell_type": "code",
   "execution_count": 70,
   "id": "10bd58c8-f0f9-42c0-8a77-319ac8e8f513",
   "metadata": {},
   "outputs": [
    {
     "name": "stdout",
     "output_type": "stream",
     "text": [
      "Tuple1 is greater than equal to Tuple2\n"
     ]
    }
   ],
   "source": [
    "if tuple1 > tuple2:\n",
    "    print(\"Tuple1 is greater than Tuple2\")\n",
    "elif tuple1 < tuple2:\n",
    "    print(\"Tuple2 is greater than Tuple1\")\n",
    "elif tuple1 >= tuple2:\n",
    "    print(\"Tuple1 is greater than equal to Tuple2\")\n",
    "elif tuple1 <= tuple2:\n",
    "    print(\"Tuple1 is less than equal to Tuple2\")\n",
    "else:\n",
    "    print(\"ERROR\")"
   ]
  },
  {
   "cell_type": "code",
   "execution_count": 71,
   "id": "da7eabe2-1efa-4c32-a771-23d3388fb520",
   "metadata": {},
   "outputs": [
    {
     "name": "stdout",
     "output_type": "stream",
     "text": [
      "Tuple3 and Tuple4 are different\n"
     ]
    }
   ],
   "source": [
    "if tuple3 == tuple4:\n",
    "    print(\"Tuple3 and Tuple4 are same\")\n",
    "elif tuple3 != tuple4:\n",
    "    print(\"Tuple3 and Tuple4 are different\")\n",
    "else:\n",
    "    print(\"ERROR\")"
   ]
  },
  {
   "cell_type": "code",
   "execution_count": 72,
   "id": "ab1e86d6-348c-4e5a-935c-fc17072dd7ed",
   "metadata": {},
   "outputs": [
    {
     "name": "stdout",
     "output_type": "stream",
     "text": [
      "Tuple3 is greater than Tuple4\n"
     ]
    }
   ],
   "source": [
    "# String Greater than and Less than\n",
    "if tuple3 > tuple4:\n",
    "    print(\"Tuple3 is greater than Tuple4\")\n",
    "elif tuple3 < tuple4:\n",
    "    print(\"Tuple3 is greater than Tuple4\")\n",
    "elif tuple3 >= tuple4:\n",
    "    print(\"Tuple3 is greater than equal to Tuple4\")\n",
    "elif tuple3 <= tuple4:\n",
    "    print(\"Tuple3 is less than equal to Tuple4\")\n",
    "else:\n",
    "    print(\"ERROR\")"
   ]
  },
  {
   "cell_type": "code",
   "execution_count": 73,
   "id": "1a147c0a-dd5f-44fd-913e-e44650898c84",
   "metadata": {},
   "outputs": [
    {
     "name": "stdout",
     "output_type": "stream",
     "text": [
      "Index:  3\n",
      "Count:  2\n",
      "Length:  8\n",
      "Max Value:  13\n",
      "Min Value:  1\n",
      "Sum of element:  46\n"
     ]
    }
   ],
   "source": [
    "# Tuple Functions\n",
    "\n",
    "inp_tuple = (12,4,2,5,13,2,7,1)\n",
    "\n",
    "# index(Number whose index we want)\n",
    "print(\"Index: \", inp_tuple.index(5))\n",
    "\n",
    "# count(The number we want to count)\n",
    "print(\"Count: \", inp_tuple.count(2))\n",
    "\n",
    "# len(tuple)\n",
    "print(\"Length: \", len(inp_tuple))\n",
    "\n",
    "# max(tuple)\n",
    "print(\"Max Value: \", max(inp_tuple))\n",
    "\n",
    "# min(tuple)\n",
    "print(\"Min Value: \", min(inp_tuple))\n",
    "\n",
    "# sum(tuple)\n",
    "print(\"Sum of element: \", sum(inp_tuple))"
   ]
  },
  {
   "cell_type": "code",
   "execution_count": 80,
   "id": "90c766f4-f126-433e-aeb2-50549f422e79",
   "metadata": {},
   "outputs": [
    {
     "name": "stdin",
     "output_type": "stream",
     "text": [
      "Enter the size of the tuple:  4\n"
     ]
    },
    {
     "name": "stdout",
     "output_type": "stream",
     "text": [
      "(0, 1, 2, 3)\n"
     ]
    }
   ],
   "source": [
    "# Generating a tuple using for-loop\n",
    "\n",
    "tuple_size = int(input(\"Enter the size of the tuple: \"))\n",
    "\n",
    "inp_tuple = ()\n",
    "for i in range(tuple_size):\n",
    "    inp_tuple = inp_tuple + (i,)\n",
    "\n",
    "print(inp_tuple)# Generating a tuple using for-loop\n",
    "\n"
   ]
  },
  {
   "cell_type": "code",
   "execution_count": 81,
   "id": "a7899eea-c1ba-45dd-9461-593c9ace72a3",
   "metadata": {},
   "outputs": [
    {
     "name": "stdin",
     "output_type": "stream",
     "text": [
      "Enter the size of the tuple:  4\n"
     ]
    },
    {
     "name": "stdout",
     "output_type": "stream",
     "text": [
      "(2, 45, 82, 44)\n"
     ]
    }
   ],
   "source": [
    "import random\n",
    "tuple_size = int(input(\"Enter the size of the tuple: \"))\n",
    "\n",
    "inp_tuple = ()\n",
    "for i in range(tuple_size):\n",
    "    inp_tuple = inp_tuple + (random.randrange(1,100),)\n",
    "print(inp_tuple)"
   ]
  },
  {
   "cell_type": "code",
   "execution_count": 82,
   "id": "936ce657-fcd2-4481-9b97-c4afec6b3fe6",
   "metadata": {},
   "outputs": [
    {
     "name": "stdin",
     "output_type": "stream",
     "text": [
      "Enter the size of the tuple:  5\n",
      "enter the tuple element :  1\n",
      "enter the tuple element :  4\n",
      "enter the tuple element :  5\n",
      "enter the tuple element :  8\n",
      "enter the tuple element :  9\n"
     ]
    },
    {
     "name": "stdout",
     "output_type": "stream",
     "text": [
      "('1', '4', '5', '8', '9')\n"
     ]
    }
   ],
   "source": [
    "tuple_size = int(input(\"Enter the size of the tuple: \"))\n",
    "\n",
    "inp_tuple = ()\n",
    "for i in range(tuple_size):\n",
    "    element=input(\"enter the tuple element : \")\n",
    "    inp_tuple =inp_tuple + (element,)\n",
    "print(inp_tuple)\n"
   ]
  },
  {
   "cell_type": "code",
   "execution_count": null,
   "id": "92fd6097-f609-45f7-ac93-59c04af3d27d",
   "metadata": {},
   "outputs": [],
   "source": []
  }
 ],
 "metadata": {
  "kernelspec": {
   "display_name": "Python 3 (ipykernel)",
   "language": "python",
   "name": "python3"
  },
  "language_info": {
   "codemirror_mode": {
    "name": "ipython",
    "version": 3
   },
   "file_extension": ".py",
   "mimetype": "text/x-python",
   "name": "python",
   "nbconvert_exporter": "python",
   "pygments_lexer": "ipython3",
   "version": "3.11.7"
  }
 },
 "nbformat": 4,
 "nbformat_minor": 5
}
