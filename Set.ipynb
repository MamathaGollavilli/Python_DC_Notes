{
 "cells": [
  {
   "cell_type": "code",
   "execution_count": 1,
   "id": "2202be78-975f-4297-a745-31f8922dcc88",
   "metadata": {},
   "outputs": [
    {
     "name": "stdout",
     "output_type": "stream",
     "text": [
      "0 1 2 3 4 6 "
     ]
    }
   ],
   "source": [
    "#Create a set \n",
    "num_set = set([0, 1, 2, 6, 4, 3])\n",
    "for n in num_set:\n",
    "    print(n, end=' ')"
   ]
  },
  {
   "cell_type": "code",
   "execution_count": 15,
   "id": "a33701b5-1280-4b75-8f17-68ae49a037b1",
   "metadata": {},
   "outputs": [
    {
     "name": "stdout",
     "output_type": "stream",
     "text": [
      "Creating a set using string:\n",
      "u n e t r g i o S m d D c "
     ]
    }
   ],
   "source": [
    "print(\"Creating a set using string:\")\n",
    "char_set = set(\"DigicommSemiconductor\")  \n",
    "# Iterating using for loop\n",
    "for val in char_set:\n",
    "    print(val, end=' ')"
   ]
  },
  {
   "cell_type": "code",
   "execution_count": 13,
   "id": "707e55ba-aa2e-4225-99c6-49a25a677c98",
   "metadata": {},
   "outputs": [
    {
     "name": "stdout",
     "output_type": "stream",
     "text": [
      "8\n",
      "0\n"
     ]
    }
   ],
   "source": [
    "#max and min value in the sets:\n",
    "def maxm(sets):\n",
    "    return(max(sets))\n",
    "def minm(sets):\n",
    "    return(min(sets))\n",
    "\n",
    "sets=set([2,4,7,3,1,8,0])\n",
    "print(maxm(sets))\n",
    "print(minm(sets))"
   ]
  },
  {
   "cell_type": "code",
   "execution_count": 18,
   "id": "c21f954d-e737-4955-93ce-25caaba3f9d3",
   "metadata": {},
   "outputs": [
    {
     "name": "stdout",
     "output_type": "stream",
     "text": [
      "{1, 2, 3, 4, 5, 6, 7, 8}\n",
      "{2, 3, 4, 5, 6, 7, 8}\n",
      "{3, 4, 5, 6, 7, 8}\n",
      "{4, 5, 6, 7, 8}\n",
      "{5, 6, 7, 8}\n",
      "{6, 7, 8}\n",
      "{7, 8}\n",
      "{8}\n",
      "set()\n"
     ]
    }
   ],
   "source": [
    "#remove items from the sets:\n",
    "def remove(initial_set):\n",
    "    while initial_set:\n",
    "        initial_set.pop()\n",
    "        print(initial_set)\n",
    "        \n",
    "initial_set=set((2,4,6,3,8,0,5,1,7))\n",
    "remove(initial_set)"
   ]
  },
  {
   "cell_type": "code",
   "execution_count": 5,
   "id": "f718cae8-f11d-4cb8-832a-958fb1f30cd8",
   "metadata": {},
   "outputs": [
    {
     "name": "stdout",
     "output_type": "stream",
     "text": [
      "True\n"
     ]
    }
   ],
   "source": [
    "#check if two lists have at-least one element common:\n",
    "def common_data(list1,list2):\n",
    "    result=False\n",
    "    for x in list1:\n",
    "        for y in list2:\n",
    "            if(x==y):\n",
    "                result=True\n",
    "                return result\n",
    "    return result\n",
    "a=[1,2,6,8,4]\n",
    "b=[0,3,6,9,2]\n",
    "print(common_data(a,b))"
   ]
  },
  {
   "cell_type": "code",
   "execution_count": 6,
   "id": "36d33edd-f863-40ad-92ba-382c529d2b94",
   "metadata": {},
   "outputs": [
    {
     "name": "stdout",
     "output_type": "stream",
     "text": [
      "[80, 20]\n"
     ]
    }
   ],
   "source": [
    "def intersection_of_sets(arr1,arr2,arr3):\n",
    "    s1=set(arr1)\n",
    "    s2=set(arr2)\n",
    "    s3=set(arr3)\n",
    "    set1=s1.intersection(s2)\n",
    "    result_set=set1.intersection(s3)\n",
    "    final_list=list(result_set)\n",
    "    print(final_list)\n",
    "arr1=[1,5,10,20,40,80,100]\n",
    "arr2=[6,7,20,80,100]\n",
    "arr3=[3,4,15,20,30,70,80,120]\n",
    "intersection_of_sets(arr1,arr2,arr3)"
   ]
  },
  {
   "cell_type": "code",
   "execution_count": 7,
   "id": "2e0f1bf9-bc04-4e74-98ba-1569032ac432",
   "metadata": {},
   "outputs": [
    {
     "name": "stdout",
     "output_type": "stream",
     "text": [
      "no.of vowels: 4\n"
     ]
    }
   ],
   "source": [
    "#count the number of vowels in the strng using set:\n",
    "def vowel_count(str1):\n",
    "    count=0\n",
    "    vowel=set(\"aeiouAEIOU\")\n",
    "    for alphabet in str1:\n",
    "        if alphabet in vowel:\n",
    "            count=count+1\n",
    "    print(\"no.of vowels:\", count)\n",
    "str=\"PythonProgramming\"\n",
    "vowel_count(str)\n",
    "        "
   ]
  },
  {
   "cell_type": "code",
   "execution_count": 8,
   "id": "3723445f-d025-4dea-9e8e-a37f6532dfe8",
   "metadata": {},
   "outputs": [
    {
     "name": "stdout",
     "output_type": "stream",
     "text": [
      "accepted\n"
     ]
    }
   ],
   "source": [
    "#accept the string which contain all vowels:\n",
    "def check(string):\n",
    "    string=string.lower()\n",
    "    vowels=set(\"aeiou\")\n",
    "    s=set({})\n",
    "    for char in string:\n",
    "        if char in vowels:\n",
    "            s.add(char)\n",
    "        else:\n",
    "            pass\n",
    "    if len(s)==len(vowels):\n",
    "        print(\"accepted\")\n",
    "    else:\n",
    "        print(\"not accepted\")\n",
    "string=\"SEEqoUial\"\n",
    "check(string)"
   ]
  },
  {
   "cell_type": "code",
   "execution_count": 9,
   "id": "51c3fb89-0b1b-40d4-ba77-a26e50ece345",
   "metadata": {},
   "outputs": [
    {
     "name": "stdout",
     "output_type": "stream",
     "text": [
      "2.0\n"
     ]
    }
   ],
   "source": [
    "#decorates\n",
    "def div(a,b):\n",
    "    print(a/b)\n",
    "def smart_div(func):\n",
    "    def inner(a,b):\n",
    "        if(a<b):\n",
    "            a,b=b,a\n",
    "        return func(a,b)\n",
    "    return inner\n",
    "div=smart_div(div)\n",
    "div(2,4)"
   ]
  },
  {
   "cell_type": "code",
   "execution_count": 10,
   "id": "e32727c2-926a-460c-9bc0-1949e0f4c501",
   "metadata": {},
   "outputs": [
    {
     "name": "stdout",
     "output_type": "stream",
     "text": [
      "2.0\n"
     ]
    }
   ],
   "source": [
    "#rough_work\n",
    "def div(a,b):\n",
    "    if(a<b):\n",
    "        a,b=b,a\n",
    "    print(a/b)\n",
    "div(2,4)  "
   ]
  },
  {
   "cell_type": "code",
   "execution_count": 1,
   "id": "f44df48d-8184-4dc8-b4eb-bc975fda44f4",
   "metadata": {},
   "outputs": [
    {
     "name": "stdin",
     "output_type": "stream",
     "text": [
      "which pizza you want vegpizza\n",
      "which kind of base panbase\n"
     ]
    },
    {
     "name": "stdout",
     "output_type": "stream",
     "text": [
      "veg pizza\n",
      "('capsicum', 'onion')\n",
      "500\n"
     ]
    }
   ],
   "source": [
    "def order_pizza(a,b, *topings):\n",
    "    match a:\n",
    "        case \"pizzamania\":\n",
    "            print(\"pizza mania\")\n",
    "            if b == \"panbase\":\n",
    "                print(topings)\n",
    "                return  200\n",
    "            elif b == \"cheeseburst\":\n",
    "                print(topings)\n",
    "                return 400\n",
    "\n",
    "        case \"vegpizza\":\n",
    "            print(\"veg pizza\")\n",
    "            if b == \"panbase\":\n",
    "                print(topings)\n",
    "                return  500\n",
    "            elif b == \"cheeseburst\":\n",
    "                print(topings)\n",
    "                return  700\n",
    "\n",
    "\n",
    "\n",
    "pizzaKind = input(\"which pizza you want\")\n",
    "pizzabase  =input(\"which kind of base\")\n",
    "totalamount=order_pizza(pizzaKind ,pizzabase,\"capsicum\",\"onion\")\n",
    "print(totalamount)"
   ]
  },
  {
   "cell_type": "code",
   "execution_count": null,
   "id": "06881153-bd4c-448c-afb1-78f9b5e0f26c",
   "metadata": {},
   "outputs": [],
   "source": []
  }
 ],
 "metadata": {
  "kernelspec": {
   "display_name": "Python 3 (ipykernel)",
   "language": "python",
   "name": "python3"
  },
  "language_info": {
   "codemirror_mode": {
    "name": "ipython",
    "version": 3
   },
   "file_extension": ".py",
   "mimetype": "text/x-python",
   "name": "python",
   "nbconvert_exporter": "python",
   "pygments_lexer": "ipython3",
   "version": "3.11.7"
  }
 },
 "nbformat": 4,
 "nbformat_minor": 5
}
