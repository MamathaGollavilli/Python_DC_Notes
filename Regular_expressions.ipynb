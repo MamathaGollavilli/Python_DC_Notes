{
 "cells": [
  {
   "cell_type": "code",
   "execution_count": 3,
   "id": "e8d98e9f-7e25-40b5-8c56-56d991962422",
   "metadata": {},
   "outputs": [],
   "source": [
    "import re"
   ]
  },
  {
   "cell_type": "code",
   "execution_count": 185,
   "id": "8f645f90-c5c5-4f97-a66c-e8a9513f31b1",
   "metadata": {},
   "outputs": [
    {
     "name": "stdout",
     "output_type": "stream",
     "text": [
      "['D', 'i', 'g', 'i', 'c', 'o', 'm', 'm', 'S', 'e', 'm', 'i', 'c', 'o', 'n', 'd', 'u', 'c', 't', 'o', 'r', 'p', 'v', 't', 'l', 'm', 't', 'd']\n",
      "['D', 'S']\n"
     ]
    }
   ],
   "source": [
    "#\n",
    "a=\"Digicomm Semiconductor_123 pvt.lmtd\"\n",
    "b=re.findall(\"[A-Za-z]\",a)\n",
    "c=re.findall(\"[D-Z]\",a)\n",
    "print(b)\n",
    "print(c)"
   ]
  },
  {
   "cell_type": "code",
   "execution_count": 187,
   "id": "4aad8540-4ac9-4e64-be75-ab690b4646aa",
   "metadata": {},
   "outputs": [
    {
     "name": "stdout",
     "output_type": "stream",
     "text": [
      "<re.Match object; span=(0, 17), match='The rain in Spain'>\n",
      "YES! We have a match!\n"
     ]
    }
   ],
   "source": [
    "import re\n",
    "\n",
    "txt = \"The rain in Spain\"\n",
    "x = re.search(\"^The.*Spain$\", txt)\n",
    "print(x)\n",
    "if x:\n",
    "  print(\"YES! We have a match!\")\n",
    "else:\n",
    "  print(\"No match\")\n",
    "\n"
   ]
  },
  {
   "cell_type": "code",
   "execution_count": 189,
   "id": "fe4401af-4eaf-4f30-897d-dcbf6cb17022",
   "metadata": {},
   "outputs": [
    {
     "name": "stdout",
     "output_type": "stream",
     "text": [
      "<re.Match object; span=(4, 17), match='rain in Spain'>\n"
     ]
    }
   ],
   "source": [
    "import re\n",
    "\n",
    "txt = \"The rain in Spain\"\n",
    "x = re.search(\"r.*Spain$\", txt)\n",
    "print(x)"
   ]
  },
  {
   "cell_type": "code",
   "execution_count": 7,
   "id": "7583f22e-c7a0-4537-bac5-7a8fe7c977a7",
   "metadata": {},
   "outputs": [
    {
     "name": "stdout",
     "output_type": "stream",
     "text": [
      "['ai', 'ai']\n"
     ]
    }
   ],
   "source": [
    "txt = \"The rain in Spain\"\n",
    "x = re.findall(\"ai\", txt)\n",
    "print(x)"
   ]
  },
  {
   "cell_type": "code",
   "execution_count": 9,
   "id": "c6da9463-3dcb-4d48-a975-bdabf3ab84a9",
   "metadata": {},
   "outputs": [
    {
     "name": "stdout",
     "output_type": "stream",
     "text": [
      "[]\n"
     ]
    }
   ],
   "source": [
    "import re\n",
    "\n",
    "txt = \"The rain in Spain\"\n",
    "x = re.findall(\"Portugal\", txt)\n",
    "print(x)"
   ]
  },
  {
   "cell_type": "code",
   "execution_count": 193,
   "id": "cb56f54a-3883-4994-b7d9-decee399b39b",
   "metadata": {},
   "outputs": [
    {
     "name": "stdout",
     "output_type": "stream",
     "text": [
      "<re.Match object; span=(3, 4), match=' '>\n",
      "[' ', ' ', ' ']\n",
      "The first white-space character is located in position: 3\n"
     ]
    }
   ],
   "source": [
    "txt = \"The rain in Spain.\"\n",
    "x = re.search(\"\\s\", txt)\n",
    "y=re.findall(\"\\s\", txt)\n",
    "print(x)\n",
    "print(y)\n",
    "print(\"The first white-space character is located in position:\", x.start())"
   ]
  },
  {
   "cell_type": "code",
   "execution_count": 23,
   "id": "61eabb9b-9c71-43de-a500-3f00cf59b1ce",
   "metadata": {},
   "outputs": [
    {
     "name": "stdout",
     "output_type": "stream",
     "text": [
      "None\n"
     ]
    }
   ],
   "source": [
    "import re\n",
    "\n",
    "txt = \"The rain in Spain\"\n",
    "x = re.search(\"Portugal\", txt)\n",
    "print(x)"
   ]
  },
  {
   "cell_type": "code",
   "execution_count": 25,
   "id": "f8d2f97a-dc16-4d6a-8ea2-8e6b88f36b56",
   "metadata": {},
   "outputs": [
    {
     "name": "stdout",
     "output_type": "stream",
     "text": [
      "['The', 'rain', 'in', 'Spain']\n"
     ]
    }
   ],
   "source": [
    "import re\n",
    "\n",
    "txt = \"The rain in Spain\"\n",
    "x = re.split(\"\\s\", txt)\n",
    "print(x)"
   ]
  },
  {
   "cell_type": "code",
   "execution_count": 29,
   "id": "81fa32e2-6413-47f5-876c-2b60a3e67ca5",
   "metadata": {},
   "outputs": [
    {
     "name": "stdout",
     "output_type": "stream",
     "text": [
      "['The', 'rain in Spain']\n"
     ]
    }
   ],
   "source": [
    "import re\n",
    "\n",
    "txt = \"The rain in Spain\"\n",
    "x = re.split(\"\\s\", txt, 1) #1 is the max split\n",
    "print(x)\n"
   ]
  },
  {
   "cell_type": "code",
   "execution_count": 33,
   "id": "315e0fb6-f894-48ab-b15e-09669880c23a",
   "metadata": {},
   "outputs": [
    {
     "name": "stdout",
     "output_type": "stream",
     "text": [
      "['The', 'rain', 'in Spain']\n"
     ]
    }
   ],
   "source": [
    "import re\n",
    "\n",
    "txt = \"The rain in Spain\"\n",
    "x = re.split(\"\\s\", txt, 2) #2 is the max split\n",
    "print(x)"
   ]
  },
  {
   "cell_type": "code",
   "execution_count": 35,
   "id": "c244eb6b-124a-44b6-b5b5-2ab2380320a9",
   "metadata": {},
   "outputs": [
    {
     "name": "stdout",
     "output_type": "stream",
     "text": [
      "The9rain9in9Spain\n"
     ]
    }
   ],
   "source": [
    "import re\n",
    "\n",
    "txt = \"The rain in Spain\"\n",
    "x = re.sub(\"\\s\", \"9\", txt)\n",
    "print(x)"
   ]
  },
  {
   "cell_type": "code",
   "execution_count": 197,
   "id": "922190e2-0e8c-479f-a291-976bcf185b06",
   "metadata": {},
   "outputs": [
    {
     "name": "stdout",
     "output_type": "stream",
     "text": [
      "The9rain9in Spain\n"
     ]
    }
   ],
   "source": [
    "import re\n",
    "\n",
    "txt = \"The rain in Spain\"\n",
    "x = re.sub(\"\\s\", \"9\", txt, 2)\n",
    "print(x)"
   ]
  },
  {
   "cell_type": "code",
   "execution_count": 235,
   "id": "fd74c912-e745-4f77-8d2d-429c3a433b0a",
   "metadata": {},
   "outputs": [
    {
     "name": "stdout",
     "output_type": "stream",
     "text": [
      "<re.Match object; span=(12, 16), match='Spou'>\n",
      "<re.Match object; span=(12, 16), match='Spou'>\n",
      "<re.Match object; span=(12, 14), match='Sp'>\n"
     ]
    }
   ],
   "source": [
    "#Print the position (start- and end-position) of the first match occurrence.\n",
    "\n",
    "#The regular expression looks for any words that starts with an upper case \"S\":\n",
    "import re\n",
    "\n",
    "#txt = \"The rain in Spain\"\n",
    "txt = \"The rain in Spou\"\n",
    "x = re.search(r\"\\bS\\w+\", txt) #S1|a|A|_ not S. # + is one or more\n",
    "print(x)\n",
    "x = re.search(r\"\\bS\\w*\", txt) #S1|a|A|_ not S. # * is zero or more\n",
    "print(x)\n",
    "x = re.search(r\"\\bS\\w?\", txt) #S1|a|A|_ not S. # ? is zero or one\n",
    "print(x)\n",
    "#print(x.span())"
   ]
  },
  {
   "cell_type": "code",
   "execution_count": 238,
   "id": "6509a404-b101-4908-afaa-b4cfb80b1c80",
   "metadata": {},
   "outputs": [
    {
     "name": "stdout",
     "output_type": "stream",
     "text": [
      "The rain in Spain\n"
     ]
    }
   ],
   "source": [
    "# import re\n",
    "\n",
    "txt = \"The rain in Spain\"\n",
    "x = re.search(r\"\\bS\\w+\", txt)\n",
    "print(x.string)"
   ]
  },
  {
   "cell_type": "code",
   "execution_count": 105,
   "id": "18899af5-d06b-438a-92ee-80d3dafff837",
   "metadata": {},
   "outputs": [
    {
     "name": "stdout",
     "output_type": "stream",
     "text": [
      "John Doe, jane.doe@example.com, 555-1234\n",
      "John\n",
      "Doe\n",
      "jane.doe@example.com\n",
      "555-1234\n"
     ]
    }
   ],
   "source": [
    "x = re.search(r\"\\bS\\w+\", txt) #S1|a|A|_ not S.\n",
    "print(x)"
   ]
  },
  {
   "cell_type": "code",
   "execution_count": 314,
   "id": "18999d64-c674-4623-84f7-c78cc38246b6",
   "metadata": {},
   "outputs": [
    {
     "name": "stdout",
     "output_type": "stream",
     "text": [
      "<re.Match object; span=(3, 5), match='lo'>\n"
     ]
    }
   ],
   "source": [
    "str1 = \"Hello Sir, how do you do and age is 25 and how are you doing?\"\n",
    "print(search(\"[a-z][m-z]\", str1))"
   ]
  },
  {
   "cell_type": "code",
   "execution_count": 308,
   "id": "3f267cbb-3446-435b-b03f-e4120436220f",
   "metadata": {},
   "outputs": [
    {
     "name": "stdout",
     "output_type": "stream",
     "text": [
      "<re.Match object; span=(0, 1), match='H'>\n"
     ]
    }
   ],
   "source": [
    "print(search(\"[A-Z]\", str1))"
   ]
  },
  {
   "cell_type": "code",
   "execution_count": 63,
   "id": "eb8a1b5e-aef5-445d-8417-496a031ff626",
   "metadata": {},
   "outputs": [],
   "source": [
    "#print(search(\"[m-a]\", str1)) #bad character range m-a at position 1"
   ]
  },
  {
   "cell_type": "code",
   "execution_count": 316,
   "id": "eeff5721-b836-457f-aa40-fc26b9fdc077",
   "metadata": {},
   "outputs": [
    {
     "name": "stdout",
     "output_type": "stream",
     "text": [
      "<re.Match object; span=(0, 1), match='H'>\n"
     ]
    }
   ],
   "source": [
    "print(search(\"^H\", str1))"
   ]
  },
  {
   "cell_type": "code",
   "execution_count": 67,
   "id": "499aef28-92f9-405f-af79-179004a1a9a0",
   "metadata": {},
   "outputs": [
    {
     "name": "stdout",
     "output_type": "stream",
     "text": [
      "None\n"
     ]
    }
   ],
   "source": [
    "print(search(\"^h\", str1))"
   ]
  },
  {
   "cell_type": "code",
   "execution_count": 318,
   "id": "a1357d1a-6505-4389-89c5-b2eafef645c3",
   "metadata": {},
   "outputs": [
    {
     "name": "stdout",
     "output_type": "stream",
     "text": [
      "<re.Match object; span=(0, 1), match='H'>\n"
     ]
    }
   ],
   "source": [
    "print(search(\"^h\", str1,I)) #I means ignoring the case"
   ]
  },
  {
   "cell_type": "code",
   "execution_count": 71,
   "id": "a7a4fe5f-7d7a-4e9c-bda2-4f9b6b111436",
   "metadata": {},
   "outputs": [
    {
     "name": "stdout",
     "output_type": "stream",
     "text": [
      "<re.Match object; span=(0, 5), match='Hello'>\n"
     ]
    }
   ],
   "source": [
    "print(search(\"^Hello\", str1))"
   ]
  },
  {
   "cell_type": "code",
   "execution_count": 336,
   "id": "71cd10e9-8a92-4905-8747-16e586737e58",
   "metadata": {},
   "outputs": [
    {
     "name": "stdout",
     "output_type": "stream",
     "text": [
      "<re.Match object; span=(55, 60), match='doing'>\n"
     ]
    }
   ],
   "source": [
    "str1 = \"Hello Sir, how do you do and age is 25 and how are you doing?\"\n",
    "print(search(\"doing?\", str1)) # Will take '?' as a special character #? means zero or one occurence "
   ]
  },
  {
   "cell_type": "code",
   "execution_count": 322,
   "id": "a5838615-3b9a-489f-b900-f9c2fd23eb47",
   "metadata": {},
   "outputs": [
    {
     "name": "stdout",
     "output_type": "stream",
     "text": [
      "<re.Match object; span=(55, 61), match='doing?'>\n"
     ]
    }
   ],
   "source": [
    "print(search(\"doing\\?\", str1)) #Using '\\' will remove the functionality"
   ]
  },
  {
   "cell_type": "code",
   "execution_count": 338,
   "id": "31d8e0ab-e431-4d56-bbf4-7e6bc0ba969e",
   "metadata": {},
   "outputs": [
    {
     "name": "stdout",
     "output_type": "stream",
     "text": [
      "None\n"
     ]
    }
   ],
   "source": [
    "print(search(\"doing?$\", str1)) # Will take '?' as a special character #? means zero or one occurence "
   ]
  },
  {
   "cell_type": "code",
   "execution_count": 328,
   "id": "8d2d1de0-0f11-4852-ac44-bb44f5a63e4b",
   "metadata": {},
   "outputs": [
    {
     "name": "stdout",
     "output_type": "stream",
     "text": [
      "<re.Match object; span=(55, 61), match='doing?'>\n"
     ]
    }
   ],
   "source": [
    "print(search(\"doing\\?$\", str1))"
   ]
  },
  {
   "cell_type": "code",
   "execution_count": 268,
   "id": "c8f321f3-8da5-48ce-885d-4afab5d18852",
   "metadata": {},
   "outputs": [
    {
     "name": "stdout",
     "output_type": "stream",
     "text": [
      "<re.Match object; span=(15, 17), match='do'>\n"
     ]
    }
   ],
   "source": [
    "print(search(\"do*\", str1)) # Will only search for \"do\""
   ]
  },
  {
   "cell_type": "code",
   "execution_count": 83,
   "id": "facf675c-d0b7-4e9b-8a83-47ce518ac4a5",
   "metadata": {},
   "outputs": [
    {
     "name": "stdout",
     "output_type": "stream",
     "text": [
      "<re.Match object; span=(15, 61), match='do you do and age is 25 and how are you doing?'>\n"
     ]
    }
   ],
   "source": [
    "print(search(\"do.*\", str1))"
   ]
  },
  {
   "cell_type": "code",
   "execution_count": 346,
   "id": "328eba28-3b47-4a32-bcae-060f8926825a",
   "metadata": {},
   "outputs": [
    {
     "name": "stdout",
     "output_type": "stream",
     "text": [
      "<re.Match object; span=(15, 38), match='do you do and age is 25'>\n"
     ]
    }
   ],
   "source": [
    "print(search(\"do.*25\", str1)) # WIll search for word starting with \"do\" and have \"?\" afterwards"
   ]
  },
  {
   "cell_type": "code",
   "execution_count": 348,
   "id": "f80bcbac-0a2d-4cc5-bef7-5520d148cde2",
   "metadata": {},
   "outputs": [
    {
     "name": "stdout",
     "output_type": "stream",
     "text": [
      "<re.Match object; span=(15, 61), match='do you do and age is 25 and how are you doing?'>\n"
     ]
    }
   ],
   "source": [
    "print(search(\"do.*\\?\", str1))"
   ]
  },
  {
   "cell_type": "code",
   "execution_count": 280,
   "id": "aa8f9208-146f-4c4f-96cb-b57e88e82014",
   "metadata": {},
   "outputs": [
    {
     "name": "stdout",
     "output_type": "stream",
     "text": [
      "<re.Match object; span=(15, 17), match='do'>\n"
     ]
    }
   ],
   "source": [
    "print(search(\"do+\", str1))"
   ]
  },
  {
   "cell_type": "code",
   "execution_count": 356,
   "id": "6bbe7476-9767-4437-a67c-badefc2f5741",
   "metadata": {},
   "outputs": [
    {
     "name": "stdout",
     "output_type": "stream",
     "text": [
      "<re.Match object; span=(15, 61), match='do you do and age is 25 and how are you doing?'>\n"
     ]
    }
   ],
   "source": [
    "from re import search\n",
    "\n",
    "str1 = \"Hello Sir, how do you do and age is 25 and how are you doing?\"\n",
    "print(search(\"do.+\", str1))"
   ]
  },
  {
   "cell_type": "code",
   "execution_count": 352,
   "id": "e34f3fad-6510-4411-bd99-17acee8c4626",
   "metadata": {},
   "outputs": [
    {
     "name": "stdout",
     "output_type": "stream",
     "text": [
      "<re.Match object; span=(60, 62), match='?6'>\n"
     ]
    }
   ],
   "source": [
    "print(search(\"\\?.*\", str1))                 # It also consider 0 element so gives output as \"?\""
   ]
  },
  {
   "cell_type": "code",
   "execution_count": 358,
   "id": "f1aaf039-5da7-4815-af15-676ce5b1f449",
   "metadata": {},
   "outputs": [
    {
     "name": "stdout",
     "output_type": "stream",
     "text": [
      "None\n"
     ]
    }
   ],
   "source": [
    "print(search(\"\\?.+\", str1))                 # Returns NULL\n"
   ]
  },
  {
   "cell_type": "code",
   "execution_count": 366,
   "id": "d1534530-dfa4-495b-b063-8ea5561a82a2",
   "metadata": {},
   "outputs": [
    {
     "name": "stdout",
     "output_type": "stream",
     "text": [
      "<re.Match object; span=(0, 2), match='He'>\n"
     ]
    }
   ],
   "source": [
    "print(search(\"He?\", str1))                  # Just gives 'He'"
   ]
  },
  {
   "cell_type": "code",
   "execution_count": 13,
   "id": "5cdbcd5e-43a9-46f4-aa8d-6bbf613a4cac",
   "metadata": {},
   "outputs": [
    {
     "name": "stdout",
     "output_type": "stream",
     "text": [
      "<re.Match object; span=(0, 3), match='Hel'>\n"
     ]
    }
   ],
   "source": [
    "print(search(\"He.?\", str1))                 # Give \"Hel\""
   ]
  },
  {
   "cell_type": "code",
   "execution_count": 376,
   "id": "02a11f3a-e789-47df-a6bd-b58e32f4429c",
   "metadata": {},
   "outputs": [
    {
     "name": "stdout",
     "output_type": "stream",
     "text": [
      "<re.Match object; span=(0, 4), match='Hell'>\n"
     ]
    }
   ],
   "source": [
    "str1 = \"Hello Sir, how do you do and age is 25 and how are you doing?\"\n",
    "print(search(\"He.?l\", str1))                # Gives \"Hell\""
   ]
  },
  {
   "cell_type": "code",
   "execution_count": 370,
   "id": "d9c36a77-a3cf-41ff-be43-e269a540aa51",
   "metadata": {},
   "outputs": [
    {
     "name": "stdout",
     "output_type": "stream",
     "text": [
      "None\n"
     ]
    }
   ],
   "source": [
    "print(search(\"He.?o\", str1))                # Will return NULL as there are more than 1 character for ?"
   ]
  },
  {
   "cell_type": "code",
   "execution_count": 19,
   "id": "3d02aeba-1dca-475c-8060-71f9899fe3b8",
   "metadata": {},
   "outputs": [
    {
     "name": "stdout",
     "output_type": "stream",
     "text": [
      "<re.Match object; span=(0, 5), match='Hello'>\n"
     ]
    }
   ],
   "source": [
    "print(search(\"He.{2}o\", str1))"
   ]
  },
  {
   "cell_type": "code",
   "execution_count": 378,
   "id": "6b9bf339-7469-4450-a81a-e03f2d6ae6a4",
   "metadata": {},
   "outputs": [
    {
     "name": "stdout",
     "output_type": "stream",
     "text": [
      "None\n"
     ]
    }
   ],
   "source": [
    "print(search(\"He.{3}o\", str1))              # Will return NULL\n"
   ]
  },
  {
   "cell_type": "code",
   "execution_count": 23,
   "id": "67fac604-f842-490a-a3a1-690c42eddbb4",
   "metadata": {},
   "outputs": [
    {
     "name": "stdout",
     "output_type": "stream",
     "text": [
      "<re.Match object; span=(15, 17), match='do'>\n"
     ]
    }
   ],
   "source": [
    "print(search(\"do|doing\", str1))             # Will return the first match"
   ]
  },
  {
   "cell_type": "code",
   "execution_count": 25,
   "id": "e08375bb-3536-4aae-b040-d60aaf6bdb05",
   "metadata": {},
   "outputs": [
    {
     "name": "stdout",
     "output_type": "stream",
     "text": [
      "<re.Match object; span=(55, 60), match='doing'>\n"
     ]
    }
   ],
   "source": [
    "print(search(\"done|doing\", str1))           # If first one not present then check for next"
   ]
  },
  {
   "cell_type": "code",
   "execution_count": 117,
   "id": "05b995af-79cc-4cc8-9a44-c5c7b720eee8",
   "metadata": {},
   "outputs": [
    {
     "name": "stdout",
     "output_type": "stream",
     "text": [
      "<re.Match object; span=(55, 60), match='doing'>\n"
     ]
    }
   ],
   "source": [
    "print(search(\"done|does|doing\", str1))      # Also support more than 2 terms"
   ]
  },
  {
   "cell_type": "code",
   "execution_count": 392,
   "id": "3ebf7fab-8758-493b-82b3-37663c20adeb",
   "metadata": {},
   "outputs": [
    {
     "name": "stdout",
     "output_type": "stream",
     "text": [
      "<re.Match object; span=(0, 5), match='Hello'>\n"
     ]
    }
   ],
   "source": [
    "str1 = \"Hello Sir, how do you do and age is 25 and how are you doing ?\"\n",
    "print(search(\"\\AHello\", str1))"
   ]
  },
  {
   "cell_type": "code",
   "execution_count": 33,
   "id": "bb46966a-8917-4839-af5f-4da6bd54e1d3",
   "metadata": {},
   "outputs": [
    {
     "name": "stdout",
     "output_type": "stream",
     "text": [
      "None\n"
     ]
    }
   ],
   "source": [
    "print(search(\"\\Ahello\", str1))"
   ]
  },
  {
   "cell_type": "code",
   "execution_count": 35,
   "id": "ff80974f-95f5-4cba-b8eb-bd29bfaa7779",
   "metadata": {},
   "outputs": [
    {
     "name": "stdout",
     "output_type": "stream",
     "text": [
      "<re.Match object; span=(0, 0), match=''>\n"
     ]
    }
   ],
   "source": [
    "print(search(\"\\A\", str1))                   # Also takes blank space\n"
   ]
  },
  {
   "cell_type": "code",
   "execution_count": 37,
   "id": "dee4ed82-95f9-46bb-b5f6-4c4261abb639",
   "metadata": {},
   "outputs": [
    {
     "name": "stdout",
     "output_type": "stream",
     "text": [
      "<re.Match object; span=(55, 60), match='doing'>\n"
     ]
    }
   ],
   "source": [
    "print(search(r\"doing?\\b\", str1))"
   ]
  },
  {
   "cell_type": "code",
   "execution_count": 127,
   "id": "daf3f44d-cfa9-4334-a752-59d652dbc9ed",
   "metadata": {},
   "outputs": [
    {
     "name": "stdout",
     "output_type": "stream",
     "text": [
      "None\n"
     ]
    }
   ],
   "source": [
    "print(search(r\"Hell\\b\", str1))"
   ]
  },
  {
   "cell_type": "code",
   "execution_count": 41,
   "id": "1904ea6d-999d-484f-a7a8-7614894075c4",
   "metadata": {},
   "outputs": [
    {
     "name": "stdout",
     "output_type": "stream",
     "text": [
      "<re.Match object; span=(15, 17), match='do'>\n"
     ]
    }
   ],
   "source": [
    "print(search(r\"do\\b\", str1))"
   ]
  },
  {
   "cell_type": "code",
   "execution_count": 394,
   "id": "171bffa6-1652-4341-ab57-c406ea9ff7b7",
   "metadata": {},
   "outputs": [
    {
     "name": "stdout",
     "output_type": "stream",
     "text": [
      "<re.Match object; span=(25, 28), match='and'>\n"
     ]
    }
   ],
   "source": [
    "print(search(r\"and\\b\", str1))"
   ]
  },
  {
   "cell_type": "code",
   "execution_count": 404,
   "id": "8d27ff33-cf92-47fc-b6c9-fb5888ead41c",
   "metadata": {},
   "outputs": [
    {
     "name": "stdout",
     "output_type": "stream",
     "text": [
      "<re.Match object; span=(47, 50), match='are'>\n"
     ]
    }
   ],
   "source": [
    "str1 = \"Hello Sir, how do you do and age is 25 and how are you doing ?\" # /bare : aremna areny areuy \n",
    "print(search(r\"\\bare\", str1))                                             #are/b : mamaare nmhare etare           "
   ]
  },
  {
   "cell_type": "code",
   "execution_count": 406,
   "id": "580e3102-1b71-46f6-b779-6727fecd73f7",
   "metadata": {},
   "outputs": [
    {
     "name": "stdout",
     "output_type": "stream",
     "text": [
      "<re.Match object; span=(0, 4), match='Hell'>\n",
      "<re.Match object; span=(55, 57), match='do'>\n",
      "None\n",
      "None\n"
     ]
    }
   ],
   "source": [
    "print(search(\"Hell\\B\", str1))\n",
    "print(search(\"do\\B\", str1))\n",
    "print(search(\"and\\B\", str1))\n",
    "print(search(\"\\Bare\", str1)) "
   ]
  },
  {
   "cell_type": "code",
   "execution_count": 143,
   "id": "e191e460-90f8-4358-9fbf-92d115cf6d42",
   "metadata": {},
   "outputs": [
    {
     "name": "stdout",
     "output_type": "stream",
     "text": [
      "None\n",
      "<re.Match object; span=(36, 37), match='2'>\n",
      "<re.Match object; span=(0, 1), match='H'>\n",
      "<re.Match object; span=(15, 18), match='do '>\n"
     ]
    }
   ],
   "source": [
    "print(search(\"do\\d\", str1))\n",
    "print(search(\"\\d\", str1))\n",
    "print(search(\"\\D\", str1))\n",
    "print(search(\"do\\D\", str1))"
   ]
  },
  {
   "cell_type": "code",
   "execution_count": 420,
   "id": "24800a56-5aa3-42e7-b9cf-501fb1186831",
   "metadata": {},
   "outputs": [
    {
     "name": "stdout",
     "output_type": "stream",
     "text": [
      "<re.Match object; span=(5, 6), match=' '>\n",
      "None\n",
      "<re.Match object; span=(0, 6), match='Hello '>\n"
     ]
    }
   ],
   "source": [
    "str1 = \"Hello Sir, how do you do and age is 25 and how are you doing?\"\n",
    "print(search(\"\\s\", str1))\n",
    "print(search(\"Hell\\s\", str1))\n",
    "print(search(\"Hello\\s\", str1))"
   ]
  },
  {
   "cell_type": "code",
   "execution_count": 55,
   "id": "053bbc8a-9c88-438a-bae6-5e6ae8e0bd7f",
   "metadata": {},
   "outputs": [
    {
     "name": "stdout",
     "output_type": "stream",
     "text": [
      "<re.Match object; span=(0, 5), match='Hello'>\n",
      "None\n"
     ]
    }
   ],
   "source": [
    "print(search(\"Hell\\S\", str1))\n",
    "print(search(\"Hello\\S\", str1))"
   ]
  },
  {
   "cell_type": "code",
   "execution_count": 422,
   "id": "d76b36a2-482c-4202-bfd5-8e0ae4cf5c32",
   "metadata": {},
   "outputs": [
    {
     "name": "stdout",
     "output_type": "stream",
     "text": [
      "<re.Match object; span=(0, 5), match='Hello'>\n",
      "None\n",
      "<re.Match object; span=(29, 37), match='age is 2'>\n"
     ]
    }
   ],
   "source": [
    "print(search(\"Hell\\w\", str1))\n",
    "print(search(\"Hello\\w\", str1))\n",
    "print(search(\"age is \\w\", str1))"
   ]
  },
  {
   "cell_type": "code",
   "execution_count": 61,
   "id": "3a1f1ddd-eb1d-44e3-9280-0b075b25976d",
   "metadata": {},
   "outputs": [
    {
     "name": "stdout",
     "output_type": "stream",
     "text": [
      "None\n",
      "None\n",
      "<re.Match object; span=(55, 61), match='doing?'>\n"
     ]
    }
   ],
   "source": [
    "print(search(\"Hello\\Z\", str1))\n",
    "print(search(\"doing\\Z\", str1))\n",
    "print(search(\"doing\\?\\Z\", str1))"
   ]
  },
  {
   "cell_type": "code",
   "execution_count": 430,
   "id": "ff70a91f-ef34-4536-9dec-8f6bd91e712e",
   "metadata": {},
   "outputs": [
    {
     "name": "stdout",
     "output_type": "stream",
     "text": [
      "<re.Match object; span=(15, 16), match='d'>\n",
      "<re.Match object; span=(0, 1), match='H'>\n",
      "<re.Match object; span=(39, 41), match='25'>\n"
     ]
    }
   ],
   "source": [
    " #Sets\n",
    "str1 = \"Hello Sir, how do you do and age 63 is 25 and how are you doing ?\"\n",
    "print(search(\"[abcd]\", str1))\n",
    "print(search(\"[^abcd]\", str1))\n",
    "print(search(\"[1-3][1-5]\", str1))"
   ]
  },
  {
   "cell_type": "code",
   "execution_count": 436,
   "id": "2d9f1f69-49b8-4565-98aa-d21aa9e87420",
   "metadata": {},
   "outputs": [
    {
     "name": "stdout",
     "output_type": "stream",
     "text": [
      "['is', 'is', 'is', 'is', 'is', 'is', 'is', 'is', 'is', 'is', 'is', 'is']\n",
      "['is', 'is', 'is', 'is', 'is', 'is']\n",
      "['is', 'is', 'is', 'is', 'is', 'is', 'is', 'is', 'is', 'is', 'is']\n",
      "['THAT']\n",
      "['Hello']\n",
      "['string']\n",
      "['THAT', 'THAT']\n",
      "\n",
      "Hello this is a demo nothingisimpossible string\n",
      "that we Will string Be usIng for PracTicE purposE\n",
      " and that is very good \n",
      "# This is comment number 1\n",
      "# This is comment number 2\n",
      " This is a NORmal StateMeNt\n",
      "#This is the last comment.\n",
      "\n",
      "HELLO THIS IS A DEMO NOTHINGISIMPOSSIBLE STRING\n",
      "THAT WE WILL STRING BE USING FOR PRACTICE PURPOSE\n",
      " AND THAT IS VERY GOOD \n",
      "# THIS IS COMMENT NUMBER 1\n",
      "# THIS IS COMMENT NUMBER 2\n",
      " THIS IS A NORMAL STATEMENT\n",
      "#THIS IS THE LAST COMMENT.\n",
      "\n",
      "hello this is a demo nothingisimpossible string\n",
      "that we will string be using for practice purpose\n",
      " and that is very good \n",
      "# this is comment number 1\n",
      "# this is comment number 2\n",
      " this is a normal statement\n",
      "#this is the last comment.\n",
      "\n",
      "hELLO THIS IS A DEMO NOTHINGISIMPOSSIBLE STRING\n",
      "that WE wILL STRING bE USiNG FOR pRACtICe PURPOSe\n",
      " AND that IS VERY GOOD \n",
      "# tHIS IS COMMENT NUMBER 1\n",
      "# tHIS IS COMMENT NUMBER 2\n",
      " tHIS IS A norMAL sTATEmEnT\n",
      "#tHIS IS THE LAST COMMENT.\n"
     ]
    }
   ],
   "source": [
    "import re\n",
    "from re import *\n",
    "check_str = \"\\nHello this is a demo nothingisimpossible string\\nTHAT we Will string Be usIng for PracTicE purposE\\n and THAT is very good \\n# This is comment number 1\\n# This is comment number 2\\n This is a NORmal StateMeNt\\n#This is the last comment.\"\n",
    "print(findall(r\"is\", check_str)) #wherever \"is\" is matches it will take into the list\n",
    "print(findall(r\"\\bis\", check_str)) #starting of the word\n",
    "print(findall(r\"is\\b\", check_str)) #ending of the word\n",
    "print(findall(\"^THAT\", check_str, M)) #M IS Make ^(start)and $(end) match of each line. \n",
    "print(findall(\"^Hello\", check_str, M))\n",
    "print(findall(\"string$\", check_str, M))\n",
    "print(findall(\"THAT\", check_str, M))\n",
    "print(sub(\"THAT\", \"that\", check_str)) #substitution\n",
    "print(sub(check_str, check_str.upper(), check_str))  \n",
    "print(sub(check_str, check_str.lower(), check_str))\n",
    "print(sub(check_str, check_str.swapcase(), check_str))\n"
   ]
  },
  {
   "cell_type": "code",
   "execution_count": 157,
   "id": "05fa61c0-4e06-408c-a9e6-ac39a1a57f3d",
   "metadata": {},
   "outputs": [
    {
     "name": "stdout",
     "output_type": "stream",
     "text": [
      "['# This is comment number 1\\n', '# This is comment number 2\\n']\n"
     ]
    }
   ],
   "source": [
    "check_str = \"\\nHello this is a demo string\\nTHAT we Will string Be usIng for PracTicE purposE\\n and THAT is very good\\n# This is comment number 1\\n# This is comment number 2\\n This is a NORmal StateMeNt\\n#This is the last comment.\"\n",
    "print(findall(\"^#.*\\n\", check_str, M)) #comments "
   ]
  },
  {
   "cell_type": "code",
   "execution_count": 159,
   "id": "fcd66d70-58a1-468a-a3b5-ee75c8563d6d",
   "metadata": {},
   "outputs": [
    {
     "name": "stdout",
     "output_type": "stream",
     "text": [
      "['module', 'module']\n"
     ]
    }
   ],
   "source": [
    "myfile = open(\"verilog.sv\", 'r')\n",
    "local_data = myfile.read()\n",
    "#print(local_data)\n",
    "print(findall(r\"\\bmodule\", local_data, I)) \n"
   ]
  },
  {
   "cell_type": "code",
   "execution_count": 161,
   "id": "eede4924-7e79-42e3-bb4d-f212407171a1",
   "metadata": {},
   "outputs": [
    {
     "name": "stdout",
     "output_type": "stream",
     "text": [
      "<re.Match object; span=(0, 29), match='mamathagollavilli97@gmail.com'>\n",
      "mamathagollavilli97@gmail.com\n",
      "mamathagollavilli97\n",
      "gmail\n",
      "com\n"
     ]
    }
   ],
   "source": [
    "# matches.group is a method used to retrieve the captured groups from a match object. \n",
    "date_str = \"mamathagollavilli97@gmail.com\"\n",
    "temp_var = re.match('(\\w+)@(\\w+)\\.(\\w+)', date_str)\n",
    "\n",
    "print(temp_var)\n",
    "print(temp_var.group(0))                                        \n",
    "print(temp_var.group(1))                                        \n",
    "print(temp_var.group(2))                                        \n",
    "print(temp_var.group(3))                                        \n",
    "#print(temp_var.group(4))    #no such group                                    \n"
   ]
  },
  {
   "cell_type": "code",
   "execution_count": 169,
   "id": "13eee61d-46b4-48f1-af9e-a57f43661a3a",
   "metadata": {},
   "outputs": [
    {
     "name": "stdout",
     "output_type": "stream",
     "text": [
      "['is', 'test', 'repeated']\n"
     ]
    }
   ],
   "source": [
    "import re\n",
    "#\\1: Matches the same text as the first captured group, which is \"repeated\".\n",
    "# Example string\n",
    "text = \"This is is a test test string with repeated repeated words.\"\n",
    "\n",
    "# Pattern to find repeated words\n",
    "pattern = r\"\\b(\\w+)\\s+\\1\\b\"\n",
    "\n",
    "# Find all matches\n",
    "matches = re.findall(pattern, text)\n",
    "\n",
    "print(matches)  # Output: ['is', 'test', 'repeated']\n"
   ]
  },
  {
   "cell_type": "code",
   "execution_count": 440,
   "id": "288220c7-8fef-47eb-b37b-21da8db8643f",
   "metadata": {},
   "outputs": [
    {
     "name": "stdout",
     "output_type": "stream",
     "text": [
      "<re.Match object; span=(0, 10), match='31-06-2024'>\n",
      "Correct\n"
     ]
    }
   ],
   "source": [
    "# DATE Regular expression\n",
    "date_str = \"31-06-2024\"\n",
    "\n",
    "result = match(\"(\\d\\d)-(\\d\\d)-(\\d\\d\\d\\d)\", date_str)\n",
    "print(result)\n",
    "if result and int(result.group(2))<13 and int(result.group(1))<32:\n",
    "    print(\"Correct\")\n",
    "else:\n",
    "    print(\"Incorrect\")"
   ]
  },
  {
   "cell_type": "code",
   "execution_count": 179,
   "id": "9d124ba4-9dc0-439c-9459-a6f6458e926d",
   "metadata": {},
   "outputs": [
    {
     "name": "stdout",
     "output_type": "stream",
     "text": [
      "[('06', '19', '2023'), ('12', '31', '2023')]\n"
     ]
    }
   ],
   "source": [
    "import re\n",
    "\n",
    "# Example string\n",
    "text = \"Valid dates are 06/19/2023 and 12/31/2023. Invalid date is 13/01/2023.\"\n",
    "\n",
    "# Regular expression pattern for MM/DD/YYYY [0-2] {0,1,2}{0,1,2,3,4,5,6,7,8,9}= 9,10,\n",
    "pattern = r\"\\b(0[1-9]|1[0-2])/([0-2][1-9]|3[01])/(\\d{4})\\b\"\n",
    "\n",
    "# Find all matches\n",
    "matches = re.findall(pattern, text)\n",
    "\n",
    "print(matches)  \n"
   ]
  },
  {
   "cell_type": "code",
   "execution_count": 240,
   "id": "fad678ee-a529-455d-badc-cc20a29ac7fc",
   "metadata": {},
   "outputs": [
    {
     "name": "stdout",
     "output_type": "stream",
     "text": [
      "True\n",
      "False\n"
     ]
    }
   ],
   "source": [
    "import re\n",
    "\n",
    "def validate_email(email):\n",
    "    pattern = r'^[a-zA-Z0-9._%+-]+@[a-zA-Z0-9.-]+\\.[a-zA-Z]{2,}$'\n",
    "    return re.match(pattern, email) is not None\n",
    "\n",
    "# Test the function\n",
    "print(validate_email(\"example@example.com\"))  # True\n",
    "print(validate_email(\"invalid-email\"))         # False\n"
   ]
  },
  {
   "cell_type": "code",
   "execution_count": 242,
   "id": "3ace1030-c92c-4e2e-8b5c-ba6deca24fc9",
   "metadata": {},
   "outputs": [
    {
     "name": "stdout",
     "output_type": "stream",
     "text": [
      "['https://www.example.com', 'http://www.test.com.']\n"
     ]
    }
   ],
   "source": [
    "import re\n",
    "\n",
    "def extract_urls(text):\n",
    "    pattern = r'(https?://[^\\s]+)'\n",
    "    return re.findall(pattern, text)\n",
    "\n",
    "# Test the function\n",
    "text = \"Check out https://www.example.com and http://www.test.com.\"\n",
    "print(extract_urls(text))  # ['https://www.example.com', 'http://www.test.com']\n"
   ]
  },
  {
   "cell_type": "code",
   "execution_count": 244,
   "id": "d388b54e-9295-42b1-a889-99f49e089253",
   "metadata": {},
   "outputs": [
    {
     "name": "stdout",
     "output_type": "stream",
     "text": [
      "['#weather', '#sunny', '#happy']\n"
     ]
    }
   ],
   "source": [
    "import re\n",
    "\n",
    "def extract_hashtags(text):\n",
    "    pattern = r'#\\w+'\n",
    "    return re.findall(pattern, text)\n",
    "\n",
    "# Test the function\n",
    "text = \"Loving the #weather today! #sunny #happy\"\n",
    "print(extract_hashtags(text))  # ['#weather', '#sunny', '#happy']\n"
   ]
  },
  {
   "cell_type": "code",
   "execution_count": 248,
   "id": "f1611982-7369-45c8-a80b-5e6f7dfe6970",
   "metadata": {},
   "outputs": [
    {
     "name": "stdout",
     "output_type": "stream",
     "text": [
      "['192.168.0.1']\n"
     ]
    }
   ],
   "source": [
    "import re\n",
    "\n",
    "def extract_ip_addresses(log):\n",
    "    pattern = r'\\b(?:[0-9]{1,3}\\.){3}[0-9]{1,3}\\b'\n",
    "    return re.findall(pattern, log)\n",
    "\n",
    "# Test the function\n",
    "log = \"Error from 192.168.0.1 at 2021-06-19 12:00:00 and 192.9768.877\"\n",
    "print(extract_ip_addresses(log))  # ['192.168.0.1']\n"
   ]
  },
  {
   "cell_type": "code",
   "execution_count": null,
   "id": "c2ac6a9f-0859-4d98-ace0-9e804dd83ed0",
   "metadata": {},
   "outputs": [],
   "source": []
  },
  {
   "cell_type": "code",
   "execution_count": null,
   "id": "79e3678e-793b-44bd-bad1-530945c97c78",
   "metadata": {},
   "outputs": [],
   "source": []
  },
  {
   "cell_type": "code",
   "execution_count": null,
   "id": "ac62c8f5-1b9f-4053-b824-f1499f2d8beb",
   "metadata": {},
   "outputs": [],
   "source": []
  },
  {
   "cell_type": "code",
   "execution_count": null,
   "id": "f43c98c7-2257-41bb-8445-11f8d6f09155",
   "metadata": {},
   "outputs": [],
   "source": [
    "# Removing the multiline comments\n",
    "with open('imyfile.txt', 'r') as ifile, open('omyfile.txt', 'w') as ofile:\n",
    "    pattern = r\"/\\*(.|\\n)*?\\*/\"\n",
    "    updated = sub(pattern,'', ifile.read(), flags=DOTALL)\n",
    "\n",
    "    ofile.write(updated)"
   ]
  },
  {
   "cell_type": "code",
   "execution_count": null,
   "id": "7d9d6c86-b600-4b03-9e25-55ac53fa3770",
   "metadata": {},
   "outputs": [],
   "source": [
    "# Removing tailing-leading blank lines and blank spaces\n",
    "with open('imyfile.txt', 'r') as ifile, open('omyfile.txt', 'w') as ofile:\n",
    "    pattern = r'^\\s+|\\s+$|\\n{2,}'\n",
    "    updated = sub(pattern,'', ifile.read(), flags=M)\n",
    "\n",
    "    ofile.write(updated)"
   ]
  },
  {
   "cell_type": "code",
   "execution_count": 77,
   "id": "aedcdbcc-0b52-4ba9-9e56-aef3f6eaa5c8",
   "metadata": {},
   "outputs": [
    {
     "name": "stdout",
     "output_type": "stream",
     "text": [
      "None\n"
     ]
    }
   ],
   "source": [
    "data_statement = \"\\nHello, this is someone. Searching for blank space in starting.\\n Again got a space.\"\n",
    "result = match(r'\\b^(\\s|\\n)(w+)', data_statement)\n",
    "print(result) "
   ]
  },
  {
   "cell_type": "code",
   "execution_count": null,
   "id": "446b7897-412b-408b-acea-6a27d582707d",
   "metadata": {},
   "outputs": [],
   "source": []
  },
  {
   "cell_type": "code",
   "execution_count": null,
   "id": "45273b3e-b51e-447b-b560-5862c39464be",
   "metadata": {},
   "outputs": [],
   "source": []
  },
  {
   "cell_type": "code",
   "execution_count": null,
   "id": "48988c5d-0471-4621-8d59-e0ff1ca0b77d",
   "metadata": {},
   "outputs": [],
   "source": []
  },
  {
   "cell_type": "code",
   "execution_count": null,
   "id": "0c536f4d-72b5-4b01-944c-63829580314a",
   "metadata": {},
   "outputs": [],
   "source": []
  },
  {
   "cell_type": "code",
   "execution_count": null,
   "id": "2fb4b354-a0c3-448b-8078-076ccd682ad4",
   "metadata": {},
   "outputs": [],
   "source": []
  },
  {
   "cell_type": "code",
   "execution_count": null,
   "id": "58289b46-c2f0-4506-8896-377c4c6094ae",
   "metadata": {},
   "outputs": [],
   "source": []
  },
  {
   "cell_type": "code",
   "execution_count": 165,
   "id": "c559e29b-77ed-4d77-ac5f-fcf101e6c200",
   "metadata": {},
   "outputs": [
    {
     "name": "stdout",
     "output_type": "stream",
     "text": [
      "Hello this is a sample string which will be will be used for testing\n"
     ]
    }
   ],
   "source": [
    "# Removing Consecutive Repetitive words\n",
    "date_str = \"Hello this is a sample sample string which will will be will be used for testing testing\"\n",
    "\n",
    "temp_var = r\"\\b(\\w+)\\s+\\1+\\b\"\n",
    "print(sub(temp_var,r\"\\1\",date_str))\n",
    "\n"
   ]
  }
 ],
 "metadata": {
  "kernelspec": {
   "display_name": "Python 3 (ipykernel)",
   "language": "python",
   "name": "python3"
  },
  "language_info": {
   "codemirror_mode": {
    "name": "ipython",
    "version": 3
   },
   "file_extension": ".py",
   "mimetype": "text/x-python",
   "name": "python",
   "nbconvert_exporter": "python",
   "pygments_lexer": "ipython3",
   "version": "3.11.7"
  }
 },
 "nbformat": 4,
 "nbformat_minor": 5
}
