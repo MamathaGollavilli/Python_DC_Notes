{
 "cells": [
  {
   "cell_type": "code",
   "execution_count": 3,
   "id": "59587d0c-7086-4990-8889-d52dc2ef33e2",
   "metadata": {},
   "outputs": [
    {
     "name": "stdin",
     "output_type": "stream",
     "text": [
      "Enter the person age:  12\n"
     ]
    },
    {
     "name": "stdout",
     "output_type": "stream",
     "text": [
      "6 yrs required to cast the vote\n"
     ]
    }
   ],
   "source": [
    "PersonAge=int(input(\"Enter the person age: \"))\n",
    "if(PersonAge>0):\n",
    "    if(PersonAge<18):\n",
    "        required_age=18-PersonAge;\n",
    "        print(f\"{required_age} yrs required to cast the vote\")\n",
    "    else:\n",
    "        print(\"Eligible to vote\")\n",
    "else:\n",
    "    print(\"Invalid plese enter valid data\")"
   ]
  },
  {
   "cell_type": "code",
   "execution_count": 23,
   "id": "5e4c7bbf-9cb6-430e-b8a5-eb634b04e968",
   "metadata": {},
   "outputs": [
    {
     "name": "stdout",
     "output_type": "stream",
     "text": [
      "5.33\n",
      "5.333333333333333\n",
      "5\n",
      "1\n"
     ]
    }
   ],
   "source": [
    "c=format((16/3),'.2f')\n",
    "print(c)\n",
    "d=16/3\n",
    "print(d)\n",
    "d=16//3\n",
    "print(d)\n",
    "d=16%3\n",
    "print(d)"
   ]
  },
  {
   "cell_type": "code",
   "execution_count": 7,
   "id": "44c12d7c-30fd-4a7f-8d52-0089d7086e4f",
   "metadata": {},
   "outputs": [
    {
     "name": "stdin",
     "output_type": "stream",
     "text": [
      "Enter the starting range:  1\n",
      "Enter the ending range:  4\n"
     ]
    },
    {
     "name": "stdout",
     "output_type": "stream",
     "text": [
      "even_sum is 2 and odd_sum is 4\n"
     ]
    }
   ],
   "source": [
    "num1=int(input(\"Enter the starting range: \"))\n",
    "num2=int(input(\"Enter the ending range: \"))\n",
    "even_sum=0\n",
    "odd_sum=0\n",
    "for i in range(num1,num2):\n",
    "    if(i%2==0):\n",
    "        even_sum=even_sum+i\n",
    "    else:\n",
    "        odd_sum=odd_sum+i\n",
    "        \n",
    "print(f\"even_sum is {even_sum} and odd_sum is {odd_sum}\")"
   ]
  },
  {
   "cell_type": "code",
   "execution_count": 15,
   "id": "9b59a9f9-35e7-4b75-9ba0-a64bb93bc2b1",
   "metadata": {},
   "outputs": [
    {
     "name": "stdin",
     "output_type": "stream",
     "text": [
      "Enter the starting range:  2\n",
      "Enter the ending range:  12\n"
     ]
    },
    {
     "name": "stdout",
     "output_type": "stream",
     "text": [
      "odd numbers are: 2,4,6,8,10,\n",
      "odd_sum is 30\n"
     ]
    }
   ],
   "source": [
    "num1=int(input(\"Enter the starting range: \"))\n",
    "num2=int(input(\"Enter the ending range: \"))\n",
    "odd_sum=0\n",
    "print(\"odd numbers are: \",end =\"\" )\n",
    "      \n",
    "for i in range(num1,num2,2):\n",
    "        print(i,end=\",\")\n",
    "        odd_sum=odd_sum+i\n",
    "        \n",
    "print()    \n",
    "print(f\"odd_sum is {odd_sum}\")"
   ]
  },
  {
   "cell_type": "code",
   "execution_count": 16,
   "id": "23b3b61d-f9e4-4577-af66-27b9313a002b",
   "metadata": {},
   "outputs": [
    {
     "name": "stdin",
     "output_type": "stream",
     "text": [
      "Enter the number: 5\n"
     ]
    },
    {
     "name": "stdout",
     "output_type": "stream",
     "text": [
      "The value of 5 + 55 + 555 = 615\n"
     ]
    }
   ],
   "source": [
    "n=int(input(\"Enter the number:\"))\n",
    "temp=str(n)\n",
    "temp1=temp+temp\n",
    "temp2=temp+temp+temp\n",
    "print(\"The value of\",temp, \"+\", temp1, \"+\", temp2, \"=\", int(temp)+int(temp1)+int(temp2))"
   ]
  },
  {
   "cell_type": "code",
   "execution_count": 17,
   "id": "60e795e1-ff0c-41f1-b5fa-aa93671ccdfe",
   "metadata": {},
   "outputs": [
    {
     "name": "stdout",
     "output_type": "stream",
     "text": [
      "2,3,5,7,11,13,17,19,23,29,31,37,41,43,47,53,59,61,67,71,73,79,83,89,97,"
     ]
    }
   ],
   "source": [
    "for i in range(0,101):\n",
    "    count=0\n",
    "    for m in range(1,i+1):\n",
    "        if(i%m==0):\n",
    "            count=count+1\n",
    "    if(count==2):\n",
    "        print(i,end=\",\")"
   ]
  },
  {
   "cell_type": "code",
   "execution_count": 24,
   "id": "dfb6ecfa-f246-403e-a492-20305125c8e0",
   "metadata": {},
   "outputs": [
    {
     "name": "stdout",
     "output_type": "stream",
     "text": [
      "reverse of a : 321\n"
     ]
    }
   ],
   "source": [
    "a=123\n",
    "rev=0\n",
    "while(a>0): #conditions should be followed by :\n",
    "    dig=a%10\n",
    "    rev=rev*10+dig\n",
    "    a=a//10\n",
    "print(\"reverse of a :\",rev)"
   ]
  },
  {
   "cell_type": "code",
   "execution_count": null,
   "id": "f25a08d0-1cc3-4889-b0db-85177e447394",
   "metadata": {},
   "outputs": [],
   "source": []
  }
 ],
 "metadata": {
  "kernelspec": {
   "display_name": "Python 3 (ipykernel)",
   "language": "python",
   "name": "python3"
  },
  "language_info": {
   "codemirror_mode": {
    "name": "ipython",
    "version": 3
   },
   "file_extension": ".py",
   "mimetype": "text/x-python",
   "name": "python",
   "nbconvert_exporter": "python",
   "pygments_lexer": "ipython3",
   "version": "3.11.7"
  }
 },
 "nbformat": 4,
 "nbformat_minor": 5
}
