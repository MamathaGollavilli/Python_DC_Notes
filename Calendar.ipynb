{
 "cells": [
  {
   "cell_type": "code",
   "execution_count": 17,
   "id": "0f78d401-8a66-48db-a023-fe85a9958c39",
   "metadata": {},
   "outputs": [
    {
     "name": "stdout",
     "output_type": "stream",
     "text": [
      "    January 2022\n",
      "Mo Tu We Th Fr Sa Su\n",
      "                1  2\n",
      " 3  4  5  6  7  8  9\n",
      "10 11 12 13 14 15 16\n",
      "17 18 19 20 21 22 23\n",
      "24 25 26 27 28 29 30\n",
      "31\n",
      "\n",
      "\n"
     ]
    }
   ],
   "source": [
    "import calendar\n",
    "year =2022\n",
    "month =1\n",
    "print(calendar.month(year,month))\n",
    "print()"
   ]
  },
  {
   "cell_type": "code",
   "execution_count": 19,
   "id": "982135c6-be98-4a88-9b33-cf56595f2d31",
   "metadata": {},
   "outputs": [
    {
     "name": "stdout",
     "output_type": "stream",
     "text": [
      "                                  4040\n",
      "\n",
      "      January                   February                   March\n",
      "Mo Tu We Th Fr Sa Su      Mo Tu We Th Fr Sa Su      Mo Tu We Th Fr Sa Su\n",
      "                   1             1  2  3  4  5                1  2  3  4\n",
      " 2  3  4  5  6  7  8       6  7  8  9 10 11 12       5  6  7  8  9 10 11\n",
      " 9 10 11 12 13 14 15      13 14 15 16 17 18 19      12 13 14 15 16 17 18\n",
      "16 17 18 19 20 21 22      20 21 22 23 24 25 26      19 20 21 22 23 24 25\n",
      "23 24 25 26 27 28 29      27 28 29                  26 27 28 29 30 31\n",
      "30 31\n",
      "\n",
      "       April                      May                       June\n",
      "Mo Tu We Th Fr Sa Su      Mo Tu We Th Fr Sa Su      Mo Tu We Th Fr Sa Su\n",
      "                   1          1  2  3  4  5  6                   1  2  3\n",
      " 2  3  4  5  6  7  8       7  8  9 10 11 12 13       4  5  6  7  8  9 10\n",
      " 9 10 11 12 13 14 15      14 15 16 17 18 19 20      11 12 13 14 15 16 17\n",
      "16 17 18 19 20 21 22      21 22 23 24 25 26 27      18 19 20 21 22 23 24\n",
      "23 24 25 26 27 28 29      28 29 30 31               25 26 27 28 29 30\n",
      "30\n",
      "\n",
      "        July                     August                  September\n",
      "Mo Tu We Th Fr Sa Su      Mo Tu We Th Fr Sa Su      Mo Tu We Th Fr Sa Su\n",
      "                   1             1  2  3  4  5                      1  2\n",
      " 2  3  4  5  6  7  8       6  7  8  9 10 11 12       3  4  5  6  7  8  9\n",
      " 9 10 11 12 13 14 15      13 14 15 16 17 18 19      10 11 12 13 14 15 16\n",
      "16 17 18 19 20 21 22      20 21 22 23 24 25 26      17 18 19 20 21 22 23\n",
      "23 24 25 26 27 28 29      27 28 29 30 31            24 25 26 27 28 29 30\n",
      "30 31\n",
      "\n",
      "      October                   November                  December\n",
      "Mo Tu We Th Fr Sa Su      Mo Tu We Th Fr Sa Su      Mo Tu We Th Fr Sa Su\n",
      " 1  2  3  4  5  6  7                1  2  3  4                      1  2\n",
      " 8  9 10 11 12 13 14       5  6  7  8  9 10 11       3  4  5  6  7  8  9\n",
      "15 16 17 18 19 20 21      12 13 14 15 16 17 18      10 11 12 13 14 15 16\n",
      "22 23 24 25 26 27 28      19 20 21 22 23 24 25      17 18 19 20 21 22 23\n",
      "29 30 31                  26 27 28 29 30            24 25 26 27 28 29 30\n",
      "                                                    31\n",
      "\n"
     ]
    }
   ],
   "source": [
    "import calendar\n",
    "print(calendar.calendar(4040))"
   ]
  },
  {
   "cell_type": "code",
   "execution_count": 23,
   "id": "6f8e4cbf-210f-475d-b83b-3e778852fd2d",
   "metadata": {},
   "outputs": [
    {
     "name": "stdout",
     "output_type": "stream",
     "text": [
      "     July 2021\n",
      "Mo Tu We Th Fr Sa Su\n",
      "          1  2  3  4\n",
      " 5  6  7  8  9 10 11\n",
      "12 13 14 15 16 17 18\n",
      "19 20 21 22 23 24 25\n",
      "26 27 28 29 30 31\n",
      "\n"
     ]
    }
   ],
   "source": [
    "import calendar\n",
    "print(calendar.month(2021,7))"
   ]
  },
  {
   "cell_type": "code",
   "execution_count": 17,
   "id": "b94ca799-26c9-44cd-b4b8-c7933f937989",
   "metadata": {},
   "outputs": [
    {
     "name": "stdout",
     "output_type": "stream",
     "text": [
      "                                 July 2021\n",
      "  Monday    Tuesday   Wednesday   Thursday    Friday    Saturday    Sunday\n",
      "                                      1          2          3          4\n",
      "     5          6          7          8          9         10         11\n",
      "    12         13         14         15         16         17         18\n",
      "    19         20         21         22         23         24         25\n",
      "    26         27         28         29         30         31\n",
      "\n"
     ]
    }
   ],
   "source": [
    "import calendar\n",
    "print(calendar.month(2021,7,w=10))"
   ]
  },
  {
   "cell_type": "code",
   "execution_count": 9,
   "id": "1871f4e3-7f96-401b-96a6-9dd7a27fb188",
   "metadata": {},
   "outputs": [
    {
     "name": "stdout",
     "output_type": "stream",
     "text": [
      "Monday\n",
      "Tuesday\n"
     ]
    }
   ],
   "source": [
    "import calendar\n",
    "\n",
    "# Get the name of the weekday for index 0\n",
    "weekday_name = calendar.day_name[0]\n",
    "print(weekday_name)  # Output: 'Monday'\n",
    "weekday_name = calendar.day_name[1]\n",
    "print(weekday_name) "
   ]
  },
  {
   "cell_type": "code",
   "execution_count": 57,
   "id": "c12252f0-54f7-4c86-977f-6dbd75246be9",
   "metadata": {},
   "outputs": [
    {
     "name": "stdout",
     "output_type": "stream",
     "text": [
      "1\n"
     ]
    }
   ],
   "source": [
    "import calendar\n",
    "\n",
    "# Get the weekday for June 17, 2024\n",
    "weekday = calendar.weekday(2024, 6, 18)\n",
    "print(weekday)  \n"
   ]
  },
  {
   "cell_type": "code",
   "execution_count": 33,
   "id": "ec557cea-290e-4d9e-ac02-922344db708b",
   "metadata": {},
   "outputs": [
    {
     "name": "stdout",
     "output_type": "stream",
     "text": [
      "True\n"
     ]
    }
   ],
   "source": [
    "import calendar\n",
    "\n",
    "# Check if 2024 is a leap year\n",
    "is_leap = calendar.isleap(2024)\n",
    "print(is_leap)  # Output: True\n"
   ]
  },
  {
   "cell_type": "code",
   "execution_count": 35,
   "id": "d68d9968-bcb4-4eec-85db-13d0e6ead9fe",
   "metadata": {},
   "outputs": [
    {
     "name": "stdout",
     "output_type": "stream",
     "text": [
      "['Calendar', 'EPOCH', 'FRIDAY', 'February', 'HTMLCalendar', 'IllegalMonthError', 'IllegalWeekdayError', 'January', 'LocaleHTMLCalendar', 'LocaleTextCalendar', 'MONDAY', 'SATURDAY', 'SUNDAY', 'THURSDAY', 'TUESDAY', 'TextCalendar', 'WEDNESDAY', '_EPOCH_ORD', '__all__', '__builtins__', '__cached__', '__doc__', '__file__', '__loader__', '__name__', '__package__', '__spec__', '_colwidth', '_get_default_locale', '_locale', '_localized_day', '_localized_month', '_monthlen', '_nextmonth', '_prevmonth', '_spacing', 'c', 'calendar', 'datetime', 'day_abbr', 'day_name', 'different_locale', 'error', 'firstweekday', 'format', 'formatstring', 'isleap', 'leapdays', 'main', 'mdays', 'month', 'month_abbr', 'month_name', 'monthcalendar', 'monthrange', 'prcal', 'prmonth', 'prweek', 'repeat', 'setfirstweekday', 'sys', 'timegm', 'week', 'weekday', 'weekheader']\n"
     ]
    }
   ],
   "source": [
    "print(dir(calendar))"
   ]
  },
  {
   "cell_type": "code",
   "execution_count": 39,
   "id": "e8061f0c-8964-42df-8766-4f2c58b46da2",
   "metadata": {},
   "outputs": [
    {
     "name": "stdout",
     "output_type": "stream",
     "text": [
      "6\n"
     ]
    }
   ],
   "source": [
    "import calendar\n",
    "\n",
    "# Count leap years between 2000 and 2024\n",
    "#leap_years = calendar.leapdays(start_year, end_year)\n",
    "leap_years = calendar.leapdays(2000, 2024)\n",
    "print(leap_years)  \n"
   ]
  },
  {
   "cell_type": "code",
   "execution_count": 19,
   "id": "01048814-ebc2-4e6d-b788-54e5e50369af",
   "metadata": {},
   "outputs": [
    {
     "name": "stdout",
     "output_type": "stream",
     "text": [
      "5 30\n"
     ]
    }
   ],
   "source": [
    "import calendar\n",
    "\n",
    "# Get the weekday and number of days for June 2024\n",
    "first_weekday, num_days = calendar.monthrange(2024, 6)\n",
    "print(first_weekday, num_days)  #month : when it is started and how many days contain\n"
   ]
  },
  {
   "cell_type": "code",
   "execution_count": 51,
   "id": "32b690be-ca10-421c-9619-c1eb414707be",
   "metadata": {},
   "outputs": [
    {
     "name": "stdout",
     "output_type": "stream",
     "text": [
      "[[0, 0, 0, 0, 0, 1, 2], [3, 4, 5, 6, 7, 8, 9], [10, 11, 12, 13, 14, 15, 16], [17, 18, 19, 20, 21, 22, 23], [24, 25, 26, 27, 28, 29, 30]]\n",
      "[0, 0, 0, 0, 0, 1, 2]\n",
      "[3, 4, 5, 6, 7, 8, 9]\n",
      "[10, 11, 12, 13, 14, 15, 16]\n",
      "[17, 18, 19, 20, 21, 22, 23]\n",
      "[24, 25, 26, 27, 28, 29, 30]\n"
     ]
    }
   ],
   "source": [
    "import calendar\n",
    "\n",
    "# Get a matrix for June 2024\n",
    "month_matrix = calendar.monthcalendar(2024, 6)\n",
    "print(month_matrix)\n",
    "for week in month_matrix:\n",
    "     print(week)\n",
    "# Output: \n",
    "# [0, 0, 0, 0, 0, 1, 2]\n",
    "# [3, 4, 5, 6, 7, 8, 9]\n",
    "# [10, 11, 12, 13, 14, 15, 16]\n",
    "# [17, 18, 19, 20, 21, 22, 23]\n",
    "# [24, 25, 26, 27, 28, 29, 30]\n"
   ]
  },
  {
   "cell_type": "code",
   "execution_count": 29,
   "id": "f08e744f-800b-4e15-8f48-b65c4a03afc5",
   "metadata": {},
   "outputs": [
    {
     "name": "stdout",
     "output_type": "stream",
     "text": [
      "     June 2024\n",
      "Su Mo Tu We Th Fr Sa\n",
      "                   1\n",
      " 2  3  4  5  6  7  8\n",
      " 9 10 11 12 13 14 15\n",
      "16 17 18 19 20 21 22\n",
      "23 24 25 26 27 28 29\n",
      "30\n",
      "\n"
     ]
    }
   ],
   "source": [
    "#pending\n",
    "import calendar\n",
    "\n",
    "# Set the first weekday to Sunday\n",
    "calendar.setfirstweekday(calendar.SUNDAY)\n",
    "\n",
    "# Print the calendar for June 2024\n",
    "print(calendar.month(2024, 6))\n"
   ]
  },
  {
   "cell_type": "code",
   "execution_count": 21,
   "id": "d16ba730-1901-4dfa-bce0-4a9f1e804767",
   "metadata": {},
   "outputs": [
    {
     "name": "stdout",
     "output_type": "stream",
     "text": [
      "1\n",
      "2024-6-18 is a Tuesday.\n"
     ]
    }
   ],
   "source": [
    "import calendar\n",
    "\n",
    "year = 2024\n",
    "month = 6\n",
    "day = 18\n",
    "day_of_week = calendar.weekday(year, month, day)\n",
    "print(day_of_week)\n",
    "days = [\"Monday\", \"Tuesday\", \"Wednesday\", \"Thursday\", \"Friday\", \"Saturday\", \"Sunday\"]\n",
    "print(f\"{year}-{month}-{day} is a {days[day_of_week]}.\")\n"
   ]
  },
  {
   "cell_type": "code",
   "execution_count": 45,
   "id": "42baf7ce-e52a-4115-bfe2-6a3382b4f224",
   "metadata": {},
   "outputs": [
    {
     "name": "stdout",
     "output_type": "stream",
     "text": [
      " January February March April May June July August September October November December \n",
      "\n",
      "Monday Tuesday Wednesday Thursday Friday Saturday Sunday "
     ]
    }
   ],
   "source": [
    "import calendar\n",
    "\n",
    "# Get the names of the months\n",
    "for month in calendar.month_name:\n",
    "    print(month,end=\" \")\n",
    "print(\"\\n\")\n",
    "# Get the names of the days\n",
    "for day in calendar.day_name:\n",
    "    print(day,end=\" \")"
   ]
  },
  {
   "cell_type": "code",
   "execution_count": null,
   "id": "02a7c4b8-1724-459c-b4ea-054fa51aa1fc",
   "metadata": {},
   "outputs": [],
   "source": []
  },
  {
   "cell_type": "code",
   "execution_count": null,
   "id": "c430188e-0206-4579-95aa-c50083eea77c",
   "metadata": {},
   "outputs": [],
   "source": []
  },
  {
   "cell_type": "code",
   "execution_count": 8,
   "id": "7d152848-d2b6-4e96-a6eb-ac1b89af502f",
   "metadata": {},
   "outputs": [
    {
     "name": "stdout",
     "output_type": "stream",
     "text": [
      "Requirement already satisfied: pywhatkit in c:\\users\\hp\\anaconda3\\lib\\site-packages (5.4)\n",
      "Requirement already satisfied: Pillow in c:\\users\\hp\\anaconda3\\lib\\site-packages (from pywhatkit) (10.2.0)\n",
      "Requirement already satisfied: pyautogui in c:\\users\\hp\\anaconda3\\lib\\site-packages (from pywhatkit) (0.9.54)\n",
      "Requirement already satisfied: requests in c:\\users\\hp\\anaconda3\\lib\\site-packages (from pywhatkit) (2.31.0)\n",
      "Requirement already satisfied: wikipedia in c:\\users\\hp\\anaconda3\\lib\\site-packages (from pywhatkit) (1.4.0)\n",
      "Requirement already satisfied: Flask in c:\\users\\hp\\anaconda3\\lib\\site-packages (from pywhatkit) (2.2.5)\n",
      "Requirement already satisfied: Werkzeug>=2.2.2 in c:\\users\\hp\\anaconda3\\lib\\site-packages (from Flask->pywhatkit) (2.2.3)\n",
      "Requirement already satisfied: Jinja2>=3.0 in c:\\users\\hp\\anaconda3\\lib\\site-packages (from Flask->pywhatkit) (3.1.3)\n",
      "Requirement already satisfied: itsdangerous>=2.0 in c:\\users\\hp\\anaconda3\\lib\\site-packages (from Flask->pywhatkit) (2.0.1)\n",
      "Requirement already satisfied: click>=8.0 in c:\\users\\hp\\anaconda3\\lib\\site-packages (from Flask->pywhatkit) (8.1.7)\n",
      "Requirement already satisfied: pymsgbox in c:\\users\\hp\\anaconda3\\lib\\site-packages (from pyautogui->pywhatkit) (1.0.9)\n",
      "Requirement already satisfied: pytweening>=1.0.4 in c:\\users\\hp\\anaconda3\\lib\\site-packages (from pyautogui->pywhatkit) (1.2.0)\n",
      "Requirement already satisfied: pyscreeze>=0.1.21 in c:\\users\\hp\\anaconda3\\lib\\site-packages (from pyautogui->pywhatkit) (0.1.30)\n",
      "Requirement already satisfied: pygetwindow>=0.0.5 in c:\\users\\hp\\anaconda3\\lib\\site-packages (from pyautogui->pywhatkit) (0.0.9)\n",
      "Requirement already satisfied: mouseinfo in c:\\users\\hp\\anaconda3\\lib\\site-packages (from pyautogui->pywhatkit) (0.1.3)\n",
      "Requirement already satisfied: charset-normalizer<4,>=2 in c:\\users\\hp\\anaconda3\\lib\\site-packages (from requests->pywhatkit) (2.0.4)\n",
      "Requirement already satisfied: idna<4,>=2.5 in c:\\users\\hp\\anaconda3\\lib\\site-packages (from requests->pywhatkit) (3.4)\n",
      "Requirement already satisfied: urllib3<3,>=1.21.1 in c:\\users\\hp\\anaconda3\\lib\\site-packages (from requests->pywhatkit) (2.0.7)\n",
      "Requirement already satisfied: certifi>=2017.4.17 in c:\\users\\hp\\anaconda3\\lib\\site-packages (from requests->pywhatkit) (2024.6.2)\n",
      "Requirement already satisfied: beautifulsoup4 in c:\\users\\hp\\anaconda3\\lib\\site-packages (from wikipedia->pywhatkit) (4.12.2)\n",
      "Requirement already satisfied: colorama in c:\\users\\hp\\anaconda3\\lib\\site-packages (from click>=8.0->Flask->pywhatkit) (0.4.6)\n",
      "Requirement already satisfied: MarkupSafe>=2.0 in c:\\users\\hp\\anaconda3\\lib\\site-packages (from Jinja2>=3.0->Flask->pywhatkit) (2.1.3)\n",
      "Requirement already satisfied: pyrect in c:\\users\\hp\\anaconda3\\lib\\site-packages (from pygetwindow>=0.0.5->pyautogui->pywhatkit) (0.2.0)\n",
      "Requirement already satisfied: soupsieve>1.2 in c:\\users\\hp\\anaconda3\\lib\\site-packages (from beautifulsoup4->wikipedia->pywhatkit) (2.5)\n",
      "Requirement already satisfied: pyperclip in c:\\users\\hp\\anaconda3\\lib\\site-packages (from mouseinfo->pyautogui->pywhatkit) (1.8.2)\n"
     ]
    }
   ],
   "source": [
    "!pip install pywhatkit"
   ]
  },
  {
   "cell_type": "code",
   "execution_count": 7,
   "id": "58b61ec3-0778-49dc-9334-3391eb6a2df0",
   "metadata": {},
   "outputs": [
    {
     "name": "stdout",
     "output_type": "stream",
     "text": [
      "Requirement already satisfied: pip in c:\\users\\hp\\anaconda3\\lib\\site-packages (24.0)\n"
     ]
    }
   ],
   "source": [
    "!pip install --upgrade pip"
   ]
  },
  {
   "cell_type": "code",
   "execution_count": null,
   "id": "e66e3709-41de-49b3-9156-eff1e0ba2d01",
   "metadata": {},
   "outputs": [],
   "source": [
    "'''\n",
    "Pywhatkit is a Python library that allows you to perform various tasks like sending WhatsApp messages, opening a website, searching something\n",
    "on Google, etc., using a simple function call.\n",
    "'''"
   ]
  },
  {
   "cell_type": "code",
   "execution_count": 31,
   "id": "527e9a6a-04c8-49ba-88a2-9639f94f0799",
   "metadata": {},
   "outputs": [],
   "source": [
    "import pywhatkit as pwt\n",
    "pwt.search(\" god ganesh\")\n"
   ]
  },
  {
   "cell_type": "code",
   "execution_count": 33,
   "id": "b1054a80-985b-4468-aea0-22f50a0ff7cf",
   "metadata": {},
   "outputs": [],
   "source": [
    "import pywhatkit as pwt\n",
    "pwt.search(\"https://www.python.org\")\n"
   ]
  },
  {
   "cell_type": "code",
   "execution_count": 35,
   "id": "1a30517b-0f87-4f41-99d7-29b6546dcc98",
   "metadata": {},
   "outputs": [],
   "source": [
    "import os \n",
    "os.startfile(\"C:\\\\Users\\\\hp\\\\downloads\\\\sitaram.MP3\")"
   ]
  },
  {
   "cell_type": "code",
   "execution_count": null,
   "id": "1c0c84ce-28a5-4211-8c57-ac6676547941",
   "metadata": {},
   "outputs": [],
   "source": []
  },
  {
   "cell_type": "code",
   "execution_count": null,
   "id": "85c5e146-d4a8-480b-980e-92d50000d8d8",
   "metadata": {},
   "outputs": [],
   "source": []
  }
 ],
 "metadata": {
  "kernelspec": {
   "display_name": "Python 3 (ipykernel)",
   "language": "python",
   "name": "python3"
  },
  "language_info": {
   "codemirror_mode": {
    "name": "ipython",
    "version": 3
   },
   "file_extension": ".py",
   "mimetype": "text/x-python",
   "name": "python",
   "nbconvert_exporter": "python",
   "pygments_lexer": "ipython3",
   "version": "3.11.7"
  }
 },
 "nbformat": 4,
 "nbformat_minor": 5
}
