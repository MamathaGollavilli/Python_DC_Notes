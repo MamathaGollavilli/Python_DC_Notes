{
 "cells": [
  {
   "cell_type": "code",
   "execution_count": 41,
   "id": "191c01b1-eb84-4477-bcb6-7a5ee971ede5",
   "metadata": {},
   "outputs": [
    {
     "name": "stdout",
     "output_type": "stream",
     "text": [
      "* * * * * \n",
      "# # # # # \n",
      "* * * * * \n",
      "# # # # # \n",
      "* * * * * \n"
     ]
    }
   ],
   "source": [
    "#patterns:\n",
    "for i in range(5):\n",
    "    for j in range(5):\n",
    "        if(i%2==0):\n",
    "            print(\"*\",end=\" \")\n",
    "        else:\n",
    "            print(\"#\",end=\" \")\n",
    "    print()\n",
    "            "
   ]
  },
  {
   "cell_type": "code",
   "execution_count": 61,
   "id": "91a34930-291f-4f95-a157-0d3337690ef1",
   "metadata": {},
   "outputs": [
    {
     "name": "stdout",
     "output_type": "stream",
     "text": [
      "* \n",
      "* * \n",
      "* * * \n",
      "* * * * \n",
      "* * * * * \n",
      "* * * * * * \n",
      "* * * * * * * \n"
     ]
    }
   ],
   "source": [
    "n=7\n",
    "step=1\n",
    "for x in range(n):\n",
    "    for y in range(step):\n",
    "        print(\"*\",end=\" \")\n",
    "    print()\n",
    "    step=step+1"
   ]
  },
  {
   "cell_type": "code",
   "execution_count": 79,
   "id": "6720f883-7249-4f4c-a348-94ba3c8edf07",
   "metadata": {},
   "outputs": [
    {
     "name": "stdout",
     "output_type": "stream",
     "text": [
      "* * * * * * \n",
      "* * * * * \n",
      "* * * * \n",
      "* * * \n",
      "* * \n",
      "* \n",
      "\n"
     ]
    }
   ],
   "source": [
    "n=7\n",
    "step=7\n",
    "for x in range(n):\n",
    "    for y in range(step,1,-1):\n",
    "        print(\"*\",end=\" \")\n",
    "    print()\n",
    "    step=step-1\n",
    "    \n"
   ]
  },
  {
   "cell_type": "code",
   "execution_count": 73,
   "id": "faaa4ce6-974c-40f9-9a16-bc63bf5696ec",
   "metadata": {},
   "outputs": [
    {
     "name": "stdout",
     "output_type": "stream",
     "text": [
      "* * * * * * * \n",
      "  * * * * * * \n",
      "    * * * * * \n",
      "      * * * * \n",
      "        * * * \n",
      "          * * \n",
      "            * \n"
     ]
    }
   ],
   "source": [
    "n=7\n",
    "step=n\n",
    "space=0\n",
    "for x in range(n):\n",
    "    for y in range(space):\n",
    "        print(\" \",end=\" \")\n",
    "    for z in range(step):\n",
    "        print(\"*\",end=\" \")\n",
    "    print()\n",
    "    space=space+1\n",
    "    step=step-1\n",
    "    "
   ]
  },
  {
   "cell_type": "code",
   "execution_count": 70,
   "id": "441d3a54-b424-4e3c-ae25-dd9e0568923b",
   "metadata": {},
   "outputs": [
    {
     "name": "stdout",
     "output_type": "stream",
     "text": [
      "* * * * * * * \n",
      " * * * * * * \n",
      "  * * * * * \n",
      "   * * * * \n",
      "    * * * \n",
      "     * * \n",
      "      * \n"
     ]
    }
   ],
   "source": [
    "n=7\n",
    "step=n\n",
    "space=0\n",
    "for x in range(n):\n",
    "    for y in range(space):\n",
    "        print(\"\",end=\" \")\n",
    "    for z in range(step):\n",
    "        print(\"*\",end=\" \")\n",
    "    print()\n",
    "    space=space+1\n",
    "    step=step-1"
   ]
  },
  {
   "cell_type": "code",
   "execution_count": 76,
   "id": "4c594d75-c197-4966-8fdd-6aa8ae9ef671",
   "metadata": {},
   "outputs": [
    {
     "name": "stdout",
     "output_type": "stream",
     "text": [
      "      * \n",
      "    * * * \n",
      "  * * * * * \n",
      "* * * * * * * \n",
      "  * * * * * \n",
      "    * * * \n",
      "      * \n"
     ]
    }
   ],
   "source": [
    "n=7\n",
    "space=3\n",
    "star=1\n",
    "for i in range(n):\n",
    "    for j in range(space):\n",
    "        print(\" \",end=\" \")\n",
    "    for k in range(star):\n",
    "        print(\"*\",end=\" \")\n",
    "    print()\n",
    "    if i<n//2:\n",
    "        star=star+2\n",
    "        space=space-1\n",
    "    else:\n",
    "        star=star-2\n",
    "        space=space+1\n",
    "        "
   ]
  },
  {
   "cell_type": "code",
   "execution_count": 97,
   "id": "01c98e50-367e-4d8b-8490-0961d547bac0",
   "metadata": {},
   "outputs": [
    {
     "name": "stdout",
     "output_type": "stream",
     "text": [
      "1st Day2\n",
      "2nd _\n",
      "3rd Day2\n",
      "4rth Class\n",
      "5th Python_Day2\n",
      "6th _Class\n",
      "7th Python_Day2_Clas\n",
      "8th Python_Day2_Class\n",
      "9th ssalC_2yaD_nohtyP\n"
     ]
    }
   ],
   "source": [
    "#string a=\"Python\" or 'python'\n",
    "#range(included:excluded)\n",
    "  #0-p,1-y,2-t,3-h,4-o,5-n,6-_,7-D,8-a,9-y,10-2,11-_,12-C,13-l,14-a,15-s,16-s\n",
    "  #-17-p,-16-y,-15-t,-14-h,-13-o,-12-n,-11-_,-10-D,-9-a,-8-y,-7-2,-6-_,-5-C,-4-l,-3-a,-2-s,-1-s\n",
    "a=\"Python_Day2_Class\"\n",
    "b=a[7:11]\n",
    "print(\"1st\",b) \n",
    "b=a[11]\n",
    "print(\"2nd\",b)\n",
    "b=a[-10:-6]\n",
    "print(\"3rd\",b)\n",
    "b=a[-5:]\n",
    "print(\"4rth\",b)\n",
    "b=a[:11]\n",
    "print(\"5th\",b)\n",
    "b=a[11:]\n",
    "print(\"6th\",b)\n",
    "b=a[:-1]\n",
    "print(\"7th\",b)\n",
    "b=a[::]\n",
    "print(\"8th\",b)\n",
    "b=a[::-1]\n",
    "print(\"9th\",b)\n"
   ]
  },
  {
   "cell_type": "code",
   "execution_count": 98,
   "id": "dd7c0697-44e3-467c-aced-7c50bbad8710",
   "metadata": {},
   "outputs": [
    {
     "ename": "TypeError",
     "evalue": "'str' object does not support item assignment",
     "output_type": "error",
     "traceback": [
      "\u001b[1;31m---------------------------------------------------------------------------\u001b[0m",
      "\u001b[1;31mTypeError\u001b[0m                                 Traceback (most recent call last)",
      "Cell \u001b[1;32mIn[98], line 3\u001b[0m\n\u001b[0;32m      1\u001b[0m \u001b[38;5;66;03m#Assignment\u001b[39;00m\n\u001b[0;32m      2\u001b[0m Str1\u001b[38;5;241m=\u001b[39m\u001b[38;5;124m\"\u001b[39m\u001b[38;5;124mI Love Python\u001b[39m\u001b[38;5;124m\"\u001b[39m \u001b[38;5;66;03m#strings are immutable\u001b[39;00m\n\u001b[1;32m----> 3\u001b[0m Str1[\u001b[38;5;241m0\u001b[39m]\u001b[38;5;241m=\u001b[39m\u001b[38;5;124m\"\u001b[39m\u001b[38;5;124mU\u001b[39m\u001b[38;5;124m\"\u001b[39m\n\u001b[0;32m      4\u001b[0m \u001b[38;5;28mprint\u001b[39m(Str1)\n",
      "\u001b[1;31mTypeError\u001b[0m: 'str' object does not support item assignment"
     ]
    }
   ],
   "source": [
    "#Assignment\n",
    "Str1=\"I Love Python\" #strings are immutable \n",
    "Str1[0]=\"U\"\n",
    "print(Str1)"
   ]
  },
  {
   "cell_type": "code",
   "execution_count": 99,
   "id": "13c1e11d-ac12-444c-a4b4-9e236b6753b8",
   "metadata": {},
   "outputs": [
    {
     "name": "stdout",
     "output_type": "stream",
     "text": [
      "I\n",
      " \n",
      "L\n",
      "o\n",
      "v\n",
      "e\n",
      " \n",
      "P\n",
      "y\n",
      "t\n",
      "h\n",
      "o\n",
      "n\n"
     ]
    }
   ],
   "source": [
    "#Acessing\n",
    "Str1=\"I Love Python\"\n",
    "for x in Str1:\n",
    "    print(x)"
   ]
  },
  {
   "cell_type": "code",
   "execution_count": 101,
   "id": "0b5b0528-de8d-42ee-a1ef-58e738a54619",
   "metadata": {},
   "outputs": [
    {
     "name": "stdout",
     "output_type": "stream",
     "text": [
      "I   L o v e   P y t h o n "
     ]
    }
   ],
   "source": [
    "#Acessing\n",
    "Str1=\"I Love Python\"\n",
    "for x in Str1:\n",
    "    print(x,end=\" \")"
   ]
  },
  {
   "cell_type": "code",
   "execution_count": 108,
   "id": "b0cf0977-5033-4ed0-a60b-e300fcbc450f",
   "metadata": {},
   "outputs": [
    {
     "name": "stdout",
     "output_type": "stream",
     "text": [
      "True\n",
      "False\n",
      "True\n"
     ]
    }
   ],
   "source": [
    "# +(concatenate), *(repetation) , in  , not in \n",
    "S1=\"I Love Python\"\n",
    "a=\"Python\" in S1\n",
    "print(a)\n",
    "a=\"Learn\" in S1\n",
    "print(a)\n",
    "a=\"Learn\" not in S1\n",
    "print(a)"
   ]
  },
  {
   "cell_type": "code",
   "execution_count": 102,
   "id": "c0716c73-8852-48fd-a09e-41347375da51",
   "metadata": {},
   "outputs": [
    {
     "name": "stdout",
     "output_type": "stream",
     "text": [
      "13\n"
     ]
    }
   ],
   "source": [
    "Str1=\"I Love Python\"\n",
    "print(len(Str1))"
   ]
  },
  {
   "cell_type": "code",
   "execution_count": 120,
   "id": "c127770e-46fd-4690-aecb-891c9c43c6d2",
   "metadata": {},
   "outputs": [
    {
     "name": "stdout",
     "output_type": "stream",
     "text": [
      "PYTHON_DAY2_CLASS\n",
      "python_day2_class\n",
      "Python_Day2_Class\n",
      "Python_day2_Class\n",
      "['Python', 'Day2', 'Class']\n"
     ]
    }
   ],
   "source": [
    "a=\"Python_Day2_Class\"\n",
    "b=a.upper()\n",
    "print(b)\n",
    "a=\"Python_Day2_Class\"\n",
    "b=a.lower()\n",
    "print(b)\n",
    "a=\" Python_Day2_Class \"\n",
    "b=a.strip() #it will remove starting and ending spaces\n",
    "print(b)\n",
    "a=\"Python_Day2_Class\"\n",
    "b=a.replace(\"_\",\" \")\n",
    "a=\"Python_Day2_Class\"\n",
    "b=a.replace(\"D\",\"d\")\n",
    "print(b)\n",
    "a=\"Python_Day2_Class\"\n",
    "b=a.split(\"_\")\n",
    "print(b)"
   ]
  },
  {
   "cell_type": "code",
   "execution_count": 137,
   "id": "ec47c35d-5fb0-420f-83ad-a5e997cc86f6",
   "metadata": {},
   "outputs": [
    {
     "name": "stdin",
     "output_type": "stream",
     "text": [
      "enter the string: python\n"
     ]
    },
    {
     "name": "stdout",
     "output_type": "stream",
     "text": [
      "nohtyp\n"
     ]
    }
   ],
   "source": [
    "#WAP to reverse the given string\n",
    "string=input(\"enter the string:\")\n",
    "print(string[::-1])"
   ]
  },
  {
   "cell_type": "code",
   "execution_count": 136,
   "id": "25ed64d3-e5b2-4361-bdab-931ea80fc838",
   "metadata": {},
   "outputs": [
    {
     "name": "stdin",
     "output_type": "stream",
     "text": [
      "enetr the string:  python\n"
     ]
    },
    {
     "name": "stdout",
     "output_type": "stream",
     "text": [
      " nohtyp\n"
     ]
    }
   ],
   "source": [
    "n=str(input(\"enetr the string: \"))\n",
    "rev=\" \"\n",
    "for i in n[::-1]:\n",
    "    rev=rev+i\n",
    "print(rev)"
   ]
  },
  {
   "cell_type": "code",
   "execution_count": 3,
   "id": "6f309dd3-8bc0-4ecf-b6c0-cf9f50147766",
   "metadata": {},
   "outputs": [
    {
     "name": "stdout",
     "output_type": "stream",
     "text": [
      "raviteja\n",
      "rtaevjia\n"
     ]
    }
   ],
   "source": [
    "# program to merge character of 2 strings into a single string by taking inputs S1 ravi S2 teja\n",
    "S1='ravi'\n",
    "S2='teja'\n",
    "c=S1+S2\n",
    "print(c)\n",
    "print(c[0]+c[4]+c[1]+c[5]+c[2]+c[6]+c[3]+c[7])"
   ]
  },
  {
   "cell_type": "code",
   "execution_count": 133,
   "id": "85a51493-36be-4039-9440-7cd1e229d564",
   "metadata": {},
   "outputs": [
    {
     "name": "stdout",
     "output_type": "stream",
     "text": [
      "6\n",
      "rtaevjiaieia\n",
      "rtaevjiaieiaaa\n"
     ]
    }
   ],
   "source": [
    "S1=\"raviii\"\n",
    "S2=\"tejaeaaa\"\n",
    "S3=\"\"\n",
    "size=min(len(S1),len(S2))\n",
    "size1=max(len(S1),len(S2))\n",
    "print(size)\n",
    "for i in range(0,size):\n",
    "    S3=S3+S1[i]+S2[i]\n",
    "print(S3)\n",
    "for i in range(size,size1):\n",
    "    if(len(S1)>len(S2)):\n",
    "       S3=S3+S1[i]\n",
    "    else:\n",
    "        S3=S3+S2[i]\n",
    "print(S3)\n"
   ]
  },
  {
   "cell_type": "code",
   "execution_count": 135,
   "id": "c087e390-dc01-4619-91cf-8a7d82de6219",
   "metadata": {},
   "outputs": [
    {
     "name": "stdout",
     "output_type": "stream",
     "text": [
      "rtaevjiaieiaaa\n"
     ]
    }
   ],
   "source": [
    "S1=\"raviii\"\n",
    "S2=\"tejaeaaa\"\n",
    "size=min(len(S1),len(S2))\n",
    "for i in range(0,size):\n",
    "    print(S1[i]+S2[i],end=\"\")\n",
    "if(len(S1)>size):\n",
    "    print(S1[size:])\n",
    "else:\n",
    "    print(S2[size:])"
   ]
  },
  {
   "cell_type": "code",
   "execution_count": 4,
   "id": "faec7809-208c-428d-9634-e06be41a74ee",
   "metadata": {},
   "outputs": [
    {
     "name": "stdout",
     "output_type": "stream",
     "text": [
      "aaaabbbcc\n"
     ]
    }
   ],
   "source": [
    "#input a4b3c2 o/p aaaabbbcc\n",
    "print(\"a\"*4+'b'*3+'c'*2)\n"
   ]
  },
  {
   "cell_type": "code",
   "execution_count": 119,
   "id": "686d204d-b650-44c1-bf39-fb9c454b3346",
   "metadata": {},
   "outputs": [
    {
     "name": "stdout",
     "output_type": "stream",
     "text": [
      "m$m$th$\n"
     ]
    }
   ],
   "source": [
    "#replace a with $\n",
    "s=\"mamatha\"\n",
    "c=s.replace(\"a\",\"$\")\n",
    "print(c)\n"
   ]
  },
  {
   "cell_type": "code",
   "execution_count": 134,
   "id": "d8ffd72a-652e-4a0d-b715-eb9634d46347",
   "metadata": {},
   "outputs": [
    {
     "name": "stdout",
     "output_type": "stream",
     "text": [
      "computers\n",
      "9\n",
      "somputerc\n"
     ]
    }
   ],
   "source": [
    "#replace first and last char\n",
    "s='computers'\n",
    "print(s)\n",
    "print(len(s))\n",
    "#print(s[8]+s[1:len(s)-1]+s[0])\n",
    "print(s[len(s)-1]+s[1:len(s)-1]+s[0])"
   ]
  },
  {
   "cell_type": "code",
   "execution_count": 9,
   "id": "f5bad18f-7339-4146-bdee-a5bc2dbe1b3f",
   "metadata": {},
   "outputs": [
    {
     "name": "stdin",
     "output_type": "stream",
     "text": [
      "enter the string: mamatha\n"
     ]
    },
    {
     "name": "stdout",
     "output_type": "stream",
     "text": [
      "number of vowels in string are:\n",
      "3\n"
     ]
    }
   ],
   "source": [
    "#count no. of vowels in string\n",
    "s=input(\"enter the string:\")\n",
    "print(\"number of vowels in string are:\")\n",
    "count=0\n",
    "for i in s:\n",
    "    if(i=='a'or i=='e' or i=='i' or i=='o'or i=='u'):\n",
    "        count=count+1\n",
    "print(count)"
   ]
  },
  {
   "cell_type": "code",
   "execution_count": 10,
   "id": "272dd2ac-451f-49fb-bad6-bb58c9bf8fbe",
   "metadata": {},
   "outputs": [
    {
     "name": "stdout",
     "output_type": "stream",
     "text": [
      "cmue\n",
      "optr\n"
     ]
    }
   ],
   "source": [
    "#even indexes and odd indexes of string\n",
    "s='computer'\n",
    "e=''\n",
    "o=''\n",
    "for i in range(len(s)):\n",
    "    if(i%2==0):\n",
    "        e=e+s[i]\n",
    "    else:\n",
    "        o=o+s[i]\n",
    "print(e)\n",
    "print(o)"
   ]
  },
  {
   "cell_type": "code",
   "execution_count": 12,
   "id": "c8763ea8-28bf-4356-b087-4d74352c0e31",
   "metadata": {},
   "outputs": [
    {
     "name": "stdin",
     "output_type": "stream",
     "text": [
      "enter the string: 98th78\n"
     ]
    },
    {
     "name": "stdout",
     "output_type": "stream",
     "text": [
      "digit count:\n",
      "4\n",
      "alpha count:\n",
      "2\n"
     ]
    }
   ],
   "source": [
    "#calculate num of dig and letters in string\n",
    "s=input(\"enter the string:\")\n",
    "print(\"digit count:\")\n",
    "dcount=0\n",
    "for i in s:\n",
    "    if(i.isdigit()):\n",
    "        dcount=dcount+1 \n",
    "print(dcount)\n",
    "print(\"alpha count:\")\n",
    "alphacount=0\n",
    "for i in s:\n",
    "    if(i.isalpha()):\n",
    "        alphacount=alphacount+1\n",
    "print(alphacount)"
   ]
  },
  {
   "cell_type": "code",
   "execution_count": 15,
   "id": "a1038e96-8c1a-4032-bd21-a00cdc5951ea",
   "metadata": {},
   "outputs": [
    {
     "name": "stdin",
     "output_type": "stream",
     "text": [
      "enter the string: jsghfwr6247682\n"
     ]
    },
    {
     "name": "stdout",
     "output_type": "stream",
     "text": [
      "['2', '2', '4', '6', '6', '7', '8']\n",
      "2 2 4 6 6 7 8\n",
      "['f', 'g', 'h', 'j', 'r', 's', 'w']\n",
      "f g h j r s w\n"
     ]
    }
   ],
   "source": [
    "s=input(\"enter the string:\")\n",
    "dig=[]\n",
    "alp=[]\n",
    "for i in range(len(s)):\n",
    "    if(s[i].isdigit()): \n",
    "        dig.append(s[i])\n",
    "        dig.sort()\n",
    "        output=\" \".join(dig)\n",
    "for i in range(len(s)):\n",
    "    if(s[i].isalpha()):\n",
    "        alp.append(s[i])\n",
    "        alp.sort()\n",
    "        out=\" \".join(alp)\n",
    "print(dig)\n",
    "print(output)\n",
    "print(alp)\n",
    "print(out)"
   ]
  },
  {
   "cell_type": "code",
   "execution_count": 14,
   "id": "fa18eb61-ef01-4678-b51a-0e989c6ee2d4",
   "metadata": {},
   "outputs": [],
   "source": []
  },
  {
   "cell_type": "code",
   "execution_count": null,
   "id": "7337de43-3f86-47e7-b7d5-2bc5cdacbcca",
   "metadata": {},
   "outputs": [],
   "source": []
  }
 ],
 "metadata": {
  "kernelspec": {
   "display_name": "Python 3 (ipykernel)",
   "language": "python",
   "name": "python3"
  },
  "language_info": {
   "codemirror_mode": {
    "name": "ipython",
    "version": 3
   },
   "file_extension": ".py",
   "mimetype": "text/x-python",
   "name": "python",
   "nbconvert_exporter": "python",
   "pygments_lexer": "ipython3",
   "version": "3.11.7"
  }
 },
 "nbformat": 4,
 "nbformat_minor": 5
}
