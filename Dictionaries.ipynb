{
 "cells": [
  {
   "cell_type": "markdown",
   "id": "128f398f-2b3d-4dff-ad47-73369b04df8b",
   "metadata": {},
   "source": [
    "## Dictionaries"
   ]
  },
  {
   "cell_type": "markdown",
   "id": "a52f45b0-3f5b-49b2-9a81-ea8b8beb55c3",
   "metadata": {},
   "source": [
    "##### Dictionaries are used to store data values in key:value pairs.\n",
    "##### A dictionary is a collection which is ordered, changeable and do not allow duplicates."
   ]
  },
  {
   "cell_type": "code",
   "execution_count": 1,
   "id": "fc45c28e-196d-4c22-bf45-0eb9c1ff4b92",
   "metadata": {},
   "outputs": [
    {
     "name": "stdout",
     "output_type": "stream",
     "text": [
      "<class 'dict'>\n"
     ]
    }
   ],
   "source": [
    "d={}\n",
    "print(type(d))"
   ]
  },
  {
   "cell_type": "code",
   "execution_count": 48,
   "id": "1b75b9f9-880b-4251-9998-0931e4f73bf1",
   "metadata": {},
   "outputs": [
    {
     "name": "stdout",
     "output_type": "stream",
     "text": [
      "{'name': 'mamatha', 'stream': 'VLSI-DV'}\n",
      "<class 'dict'>\n"
     ]
    }
   ],
   "source": [
    "d1={\"name\":\"mamatha\",\"stream\":\"VLSI-DV\"}\n",
    "print(d1)\n",
    "print(type(d1))"
   ]
  },
  {
   "cell_type": "code",
   "execution_count": 3,
   "id": "3fd076f9-b3b6-421b-b7fb-c948d4f9d518",
   "metadata": {},
   "outputs": [
    {
     "name": "stdout",
     "output_type": "stream",
     "text": [
      "{'name': 'mamatha', 'class': 'python', 'time': 5.301}\n"
     ]
    }
   ],
   "source": [
    "d={}\n",
    "d[\"name\"]=\"mamatha\"\n",
    "d[\"class\"]=\"python\"\n",
    "d[\"time\"]=5.301\n",
    "print(d)"
   ]
  },
  {
   "cell_type": "code",
   "execution_count": 4,
   "id": "0194252c-df3c-4857-9d02-329abf5b5c64",
   "metadata": {},
   "outputs": [
    {
     "name": "stdout",
     "output_type": "stream",
     "text": [
      "<class 'dict'>\n"
     ]
    }
   ],
   "source": [
    "d3=dict(())\n",
    "print(type(d3))"
   ]
  },
  {
   "cell_type": "code",
   "execution_count": 1,
   "id": "d10595a5-278c-4c2d-bd50-976fddaa01d4",
   "metadata": {},
   "outputs": [
    {
     "name": "stdout",
     "output_type": "stream",
     "text": [
      "{'course': 'python', 'students': 5}\n"
     ]
    }
   ],
   "source": [
    "d3=dict(course=\"python\",students=5)\n",
    "print((d3))"
   ]
  },
  {
   "cell_type": "code",
   "execution_count": 3,
   "id": "b1317e21-db0b-4904-b1e9-f0045f45de56",
   "metadata": {},
   "outputs": [
    {
     "name": "stdout",
     "output_type": "stream",
     "text": [
      "{'Name': 'Sachin', 'Age': 40}\n"
     ]
    }
   ],
   "source": [
    "D3=dict(Name=\"Sachin\",Age=40)\n",
    "print(D3)"
   ]
  },
  {
   "cell_type": "code",
   "execution_count": 7,
   "id": "1fa1e09e-cb05-48fc-8520-a8fba124491e",
   "metadata": {},
   "outputs": [
    {
     "name": "stdout",
     "output_type": "stream",
     "text": [
      "{'name': 'Sachin', 'age': 40}\n"
     ]
    }
   ],
   "source": [
    "a=dict([('name','Sachin'),('age',40)])\n",
    "print(a)"
   ]
  },
  {
   "cell_type": "code",
   "execution_count": 39,
   "id": "3c9fa840-a26e-4029-85ed-550a41954066",
   "metadata": {},
   "outputs": [
    {
     "name": "stdout",
     "output_type": "stream",
     "text": [
      "{'name': 'Sachin', 'age': 40}\n"
     ]
    }
   ],
   "source": [
    "a=dict((('name','Sachin'),('age',40)))\n",
    "print(a)"
   ]
  },
  {
   "cell_type": "code",
   "execution_count": 41,
   "id": "ae7377d7-8e77-4c46-a8bf-b48f200d3ad8",
   "metadata": {},
   "outputs": [
    {
     "name": "stdout",
     "output_type": "stream",
     "text": [
      "{'name': 'Sachin', 'age': 40}\n"
     ]
    }
   ],
   "source": [
    "a=dict([['name','Sachin'],['age',40]])\n",
    "print(a)"
   ]
  },
  {
   "cell_type": "code",
   "execution_count": 9,
   "id": "ad8fcd55-1a33-45f0-95db-b53c84fc8d64",
   "metadata": {},
   "outputs": [
    {
     "name": "stdout",
     "output_type": "stream",
     "text": [
      "{'brand': 'Ford', 'model': 'Mustang', 'year': 2020}\n",
      "3\n"
     ]
    }
   ],
   "source": [
    "# duplicants are not allowed:\n",
    "# Duplicate values will overwrite existing values:\n",
    "thisdict = {\n",
    "\"brand\": \"Ford\",\n",
    "\"model\": \"Mustang\",\n",
    "\"year\": 1964,\n",
    "\"year\": 2020\n",
    "}\n",
    "print(thisdict)\n",
    "print(len(thisdict))"
   ]
  },
  {
   "cell_type": "code",
   "execution_count": 10,
   "id": "9ec29916-2fc6-4d73-867c-b37d56a08dd7",
   "metadata": {},
   "outputs": [
    {
     "name": "stdout",
     "output_type": "stream",
     "text": [
      "Mustang\n",
      "Mustang\n"
     ]
    }
   ],
   "source": [
    "# acessing the elements\n",
    "thisdict = {\n",
    "\"brand\": \"Ford\",\n",
    "\"model\": \"Mustang\",\n",
    "\"year\": 1964\n",
    "}\n",
    "x = thisdict[\"model\"] # 1st method\n",
    "print(x)\n",
    "y = thisdict.get(\"model\") #2nd method using get()\n",
    "print(y)"
   ]
  },
  {
   "cell_type": "code",
   "execution_count": 14,
   "id": "eb0b2fe4-ff2d-4b4b-b19a-b83ecb98c940",
   "metadata": {},
   "outputs": [
    {
     "name": "stdout",
     "output_type": "stream",
     "text": [
      "dict_keys(['brand', 'model', 'year'])\n"
     ]
    }
   ],
   "source": [
    "#GET KEYS:\n",
    "# The keys() method will return a list of all the keys in the dictionary.\n",
    "thisdict = {\n",
    "\"brand\": \"Ford\",\n",
    "\"model\": \"Mustang\",\n",
    "\"year\": 1964\n",
    "}\n",
    "x = thisdict.keys()\n",
    "print(x)"
   ]
  },
  {
   "cell_type": "code",
   "execution_count": 16,
   "id": "5696f5b7-0f42-4d29-bb5b-97c3e4f25269",
   "metadata": {},
   "outputs": [
    {
     "name": "stdout",
     "output_type": "stream",
     "text": [
      "dict_keys(['brand', 'model', 'year'])\n",
      "dict_keys(['brand', 'model', 'year', 'color'])\n"
     ]
    }
   ],
   "source": [
    "car = {\n",
    "\"brand\": \"Ford\",\n",
    "\"model\": \"Mustang\",\n",
    "\"year\": 1964\n",
    "}\n",
    "x = car.keys()\n",
    "print(x) #before the change\n",
    "car[\"color\"] = \"white\"\n",
    "print(x) #after the change"
   ]
  },
  {
   "cell_type": "code",
   "execution_count": 17,
   "id": "3cd509a4-9bda-44d9-a2f3-3c90b536ed12",
   "metadata": {},
   "outputs": [
    {
     "name": "stdout",
     "output_type": "stream",
     "text": [
      "dict_values(['Ford', 'Mustang', 1964])\n"
     ]
    }
   ],
   "source": [
    "# get value:\n",
    "# The values() method will return a list of all the values in the dictionary.\n",
    "thisdict = {\n",
    "\"brand\": \"Ford\",\n",
    "\"model\": \"Mustang\",\n",
    "\"year\": 1964\n",
    "}\n",
    "x = thisdict.values()\n",
    "print(x)"
   ]
  },
  {
   "cell_type": "code",
   "execution_count": 18,
   "id": "229c0243-5d33-4f44-8d68-ad12da0c5768",
   "metadata": {},
   "outputs": [
    {
     "name": "stdout",
     "output_type": "stream",
     "text": [
      "dict_values(['Ford', 'Mustang', 1964])\n",
      "dict_values(['Ford', 'Mustang', 2020])\n"
     ]
    }
   ],
   "source": [
    "car = {\n",
    "\"brand\": \"Ford\",\n",
    "\"model\": \"Mustang\",\n",
    "\"year\": 1964\n",
    "}\n",
    "x = car.values()\n",
    "print(x) #before the change\n",
    "car[\"year\"] = 2020\n",
    "print(x) #after the change"
   ]
  },
  {
   "cell_type": "code",
   "execution_count": 19,
   "id": "7a89234e-efd9-422c-ae64-a8bbfd0948ac",
   "metadata": {},
   "outputs": [
    {
     "name": "stdout",
     "output_type": "stream",
     "text": [
      "dict_items([('brand', 'Ford'), ('model', 'Mustang'), ('year', 1964)])\n"
     ]
    }
   ],
   "source": [
    "# GET ITEMS\n",
    "thisdict = {\n",
    "\"brand\": \"Ford\",\n",
    "\"model\": \"Mustang\",\n",
    "\"year\": 1964\n",
    "}\n",
    "x = thisdict.items()\n",
    "print(x)"
   ]
  },
  {
   "cell_type": "code",
   "execution_count": 21,
   "id": "4959d4f2-bf74-4000-8e51-4d92fb38ad96",
   "metadata": {},
   "outputs": [
    {
     "name": "stdout",
     "output_type": "stream",
     "text": [
      "Yes, 'model' is one of the keys in the thisdict dictionary\n"
     ]
    }
   ],
   "source": [
    "# check the key value exist or not\n",
    "thisdict = {\n",
    "\"brand\": \"Ford\",\n",
    "\"model\": \"Mustang\",\n",
    "\"year\": 1964\n",
    "}\n",
    "if \"model\" in thisdict:\n",
    "    print(\"Yes, 'model' is one of the keys in the thisdict dictionary\")"
   ]
  },
  {
   "cell_type": "code",
   "execution_count": 22,
   "id": "a44168d2-2aea-4e95-aa27-d1879bcdfaf3",
   "metadata": {},
   "outputs": [
    {
     "name": "stdout",
     "output_type": "stream",
     "text": [
      "{'brand': 'Ford', 'model': 'Mustang', 'year': 2018}\n"
     ]
    }
   ],
   "source": [
    "# change the variable\n",
    "thisdict = {\n",
    "\"brand\": \"Ford\",\n",
    "\"model\": \"Mustang\",\n",
    "\"year\": 1964\n",
    "}\n",
    "thisdict[\"year\"] = 2018\n",
    "print(thisdict)"
   ]
  },
  {
   "cell_type": "code",
   "execution_count": 23,
   "id": "faa307d9-cdbb-4358-950a-df52a62281d8",
   "metadata": {},
   "outputs": [
    {
     "name": "stdout",
     "output_type": "stream",
     "text": [
      "{'brand': 'Ford', 'model': 'Mustang', 'year': 2020}\n"
     ]
    }
   ],
   "source": [
    "# update:\n",
    "thisdict = {\n",
    "\"brand\": \"Ford\",\n",
    "\"model\": \"Mustang\",\n",
    "\"year\": 1964\n",
    "}\n",
    "thisdict.update({\"year\": 2020})\n",
    "print(thisdict)"
   ]
  },
  {
   "cell_type": "code",
   "execution_count": 24,
   "id": "9fdbe3cc-cb8d-4da1-a44e-16d88ee32b25",
   "metadata": {},
   "outputs": [
    {
     "name": "stdout",
     "output_type": "stream",
     "text": [
      "{'brand': 'Ford', 'model': 'Mustang', 'year': 1964, 'color': 'red'}\n"
     ]
    }
   ],
   "source": [
    "#add the elements:\n",
    "thisdict = {\n",
    "\"brand\": \"Ford\",\n",
    "\"model\": \"Mustang\",\n",
    "\"year\": 1964\n",
    "}\n",
    "thisdict[\"color\"] = \"red\"\n",
    "print(thisdict)"
   ]
  },
  {
   "cell_type": "code",
   "execution_count": 25,
   "id": "b5a215b9-4d6c-45bf-b529-de58ab764eb4",
   "metadata": {},
   "outputs": [
    {
     "name": "stdout",
     "output_type": "stream",
     "text": [
      "{'brand': 'Ford', 'model': 'Mustang', 'year': 1964, 'color': 'red'}\n"
     ]
    }
   ],
   "source": [
    "thisdict = {\n",
    "\"brand\": \"Ford\",\n",
    "\"model\": \"Mustang\",\n",
    "\"year\": 1964\n",
    "}\n",
    "thisdict.update({\"color\": \"red\"})\n",
    "print(thisdict)"
   ]
  },
  {
   "cell_type": "code",
   "execution_count": 26,
   "id": "9d933c4f-eb0c-465f-921e-2dddee09fc37",
   "metadata": {},
   "outputs": [
    {
     "name": "stdout",
     "output_type": "stream",
     "text": [
      "{'brand': 'Ford', 'year': 1964}\n"
     ]
    }
   ],
   "source": [
    "#pop\n",
    "thisdict = {\n",
    "\"brand\": \"Ford\",\n",
    "\"model\": \"Mustang\",\n",
    "\"year\": 1964\n",
    "}\n",
    "thisdict.pop(\"model\")\n",
    "print(thisdict)"
   ]
  },
  {
   "cell_type": "code",
   "execution_count": 45,
   "id": "712e29bd-f4eb-4757-87fa-747e4a4a5832",
   "metadata": {},
   "outputs": [
    {
     "name": "stdout",
     "output_type": "stream",
     "text": [
      "{'brand': 'Ford', 'model': 'Mustang'}\n"
     ]
    }
   ],
   "source": [
    "thisdict = {\n",
    "\"brand\": \"Ford\",\n",
    "\"model\": \"Mustang\",\n",
    "\"year\": 1964\n",
    "}\n",
    "thisdict.popitem() \n",
    "#thisdict.popitem(\"model\") #dict.popitem() takes no arguments (1 given)\n",
    "print(thisdict)"
   ]
  },
  {
   "cell_type": "code",
   "execution_count": 28,
   "id": "4ec57e1a-7ccb-45ce-9ec3-06d3eaabc6fd",
   "metadata": {},
   "outputs": [
    {
     "name": "stdout",
     "output_type": "stream",
     "text": [
      "{'brand': 'Ford', 'year': 1964}\n"
     ]
    }
   ],
   "source": [
    "thisdict = {\n",
    "\"brand\": \"Ford\",\n",
    "\"model\": \"Mustang\",\n",
    "\"year\": 1964\n",
    "}\n",
    "del thisdict[\"model\"]\n",
    "print(thisdict)"
   ]
  },
  {
   "cell_type": "code",
   "execution_count": 29,
   "id": "c3c09b13-6921-4cd6-8d89-3fa661182e61",
   "metadata": {},
   "outputs": [
    {
     "ename": "NameError",
     "evalue": "name 'thisdict' is not defined",
     "output_type": "error",
     "traceback": [
      "\u001b[1;31m---------------------------------------------------------------------------\u001b[0m",
      "\u001b[1;31mNameError\u001b[0m                                 Traceback (most recent call last)",
      "Cell \u001b[1;32mIn[29], line 7\u001b[0m\n\u001b[0;32m      1\u001b[0m thisdict \u001b[38;5;241m=\u001b[39m {\n\u001b[0;32m      2\u001b[0m \u001b[38;5;124m\"\u001b[39m\u001b[38;5;124mbrand\u001b[39m\u001b[38;5;124m\"\u001b[39m: \u001b[38;5;124m\"\u001b[39m\u001b[38;5;124mFord\u001b[39m\u001b[38;5;124m\"\u001b[39m,\n\u001b[0;32m      3\u001b[0m \u001b[38;5;124m\"\u001b[39m\u001b[38;5;124mmodel\u001b[39m\u001b[38;5;124m\"\u001b[39m: \u001b[38;5;124m\"\u001b[39m\u001b[38;5;124mMustang\u001b[39m\u001b[38;5;124m\"\u001b[39m,\n\u001b[0;32m      4\u001b[0m \u001b[38;5;124m\"\u001b[39m\u001b[38;5;124myear\u001b[39m\u001b[38;5;124m\"\u001b[39m: \u001b[38;5;241m1964\u001b[39m\n\u001b[0;32m      5\u001b[0m }\n\u001b[0;32m      6\u001b[0m \u001b[38;5;28;01mdel\u001b[39;00m thisdict\n\u001b[1;32m----> 7\u001b[0m \u001b[38;5;28mprint\u001b[39m(thisdict)\n",
      "\u001b[1;31mNameError\u001b[0m: name 'thisdict' is not defined"
     ]
    }
   ],
   "source": [
    "thisdict = {\n",
    "\"brand\": \"Ford\",\n",
    "\"model\": \"Mustang\",\n",
    "\"year\": 1964\n",
    "}\n",
    "del thisdict\n",
    "print(thisdict) #this will cause an error because \"thisdict\" no longer exists."
   ]
  },
  {
   "cell_type": "code",
   "execution_count": 30,
   "id": "3f835f92-b64d-4b3a-84c0-ac254dc7f7d6",
   "metadata": {},
   "outputs": [
    {
     "name": "stdout",
     "output_type": "stream",
     "text": [
      "{}\n"
     ]
    }
   ],
   "source": [
    "thisdict = {\n",
    "\"brand\": \"Ford\",\n",
    "\"model\": \"Mustang\",\n",
    "\"year\": 1964\n",
    "}\n",
    "thisdict.clear()\n",
    "print(thisdict)"
   ]
  },
  {
   "cell_type": "code",
   "execution_count": 32,
   "id": "560802c2-d069-4bae-be85-5f53014adab3",
   "metadata": {},
   "outputs": [
    {
     "name": "stdout",
     "output_type": "stream",
     "text": [
      "brand\n",
      "model\n",
      "year\n",
      "\n",
      "Ford\n",
      "Mustang\n",
      "1964\n"
     ]
    }
   ],
   "source": [
    "thisdict = {\n",
    "\"brand\": \"Ford\",\n",
    "\"model\": \"Mustang\",\n",
    "\"year\": 1964\n",
    "}\n",
    "for x in thisdict:\n",
    "    print(x)\n",
    "print()\n",
    "for x in thisdict:\n",
    "    print(thisdict[x])"
   ]
  },
  {
   "cell_type": "code",
   "execution_count": 33,
   "id": "81c0b8b9-cee2-497b-84fa-9fbeaa4ca766",
   "metadata": {},
   "outputs": [
    {
     "name": "stdin",
     "output_type": "stream",
     "text": [
      "Enter the key (int) to be added: 8\n",
      "Enter the value for the key to be added: 16\n"
     ]
    },
    {
     "name": "stdout",
     "output_type": "stream",
     "text": [
      "Updated dictionary is:\n",
      "{8: 16}\n"
     ]
    }
   ],
   "source": [
    "# add a key value pair to the dict\n",
    "key=int(input(\"Enter the key (int) to be added:\"))\n",
    "value=int(input(\"Enter the value for the key to be added:\"))\n",
    "d={}\n",
    "d.update({key:value})\n",
    "print(\"Updated dictionary is:\")\n",
    "print(d)"
   ]
  },
  {
   "cell_type": "code",
   "execution_count": 34,
   "id": "af8f2d26-eccc-48d1-af8c-edbbb907c5c3",
   "metadata": {},
   "outputs": [
    {
     "name": "stdin",
     "output_type": "stream",
     "text": [
      "enter the key: 2\n"
     ]
    },
    {
     "name": "stdout",
     "output_type": "stream",
     "text": [
      "yes, it corresponding value is 4\n"
     ]
    }
   ],
   "source": [
    "# python program to check if a given key exists in a dic or not:\n",
    "dic={2:4,3:9,4:16,5:25,6:36}\n",
    "#print(dic)\n",
    "key=int(input(\"enter the key:\"))\n",
    "if key in dic:\n",
    "    print(\"yes, it corresponding value is\",dic[key])\n",
    "else:\n",
    "    print(\"No\")"
   ]
  },
  {
   "cell_type": "code",
   "execution_count": 35,
   "id": "bfba2b2b-bf00-4194-a912-04786f2f9aec",
   "metadata": {},
   "outputs": [
    {
     "name": "stdout",
     "output_type": "stream",
     "text": [
      "{1: 1, 2: 4, 3: 9, 4: 16, 5: 25, 6: 36, 7: 49, 8: 64}\n"
     ]
    }
   ],
   "source": [
    "# python program to concatenate two dic into one.\n",
    "dic1={1:1,2:4,3:9,4:16}\n",
    "dic2={5:25,6:36,7:49,8:64}\n",
    "dic1.update(dic2)\n",
    "print(dic1)"
   ]
  },
  {
   "cell_type": "code",
   "execution_count": 38,
   "id": "548e4ac3-9f11-4dc4-8f27-b8cf91901506",
   "metadata": {},
   "outputs": [
    {
     "name": "stdin",
     "output_type": "stream",
     "text": [
      "enter the value:  5\n"
     ]
    },
    {
     "name": "stdout",
     "output_type": "stream",
     "text": [
      "{1: 1, 2: 4, 3: 9, 4: 16, 5: 25}\n"
     ]
    }
   ],
   "source": [
    "# (n,n*n)\n",
    "n=int(input(\"enter the value: \"))\n",
    "d={}\n",
    "for x in range(1,n+1):\n",
    "    d[x]=x*x\n",
    "print(d)"
   ]
  },
  {
   "cell_type": "code",
   "execution_count": 39,
   "id": "9b9a507b-ac6a-4367-893e-07375f533b2c",
   "metadata": {},
   "outputs": [
    {
     "name": "stdout",
     "output_type": "stream",
     "text": [
      "200\n"
     ]
    }
   ],
   "source": [
    "# Python Program to Sum All the Items in a Dictionary\n",
    "d={\"a\":100,\"b\":20,\"c\":39,\"d\":41}\n",
    "print(sum(d.values()))"
   ]
  },
  {
   "cell_type": "code",
   "execution_count": 40,
   "id": "45207c74-d9d5-45b7-80f3-e5a763985843",
   "metadata": {},
   "outputs": [
    {
     "name": "stdout",
     "output_type": "stream",
     "text": [
      "200\n"
     ]
    }
   ],
   "source": [
    "d={\"a\":100,\"b\":20,\"c\":39,\"d\":41}\n",
    "tot=0\n",
    "for i in d:\n",
    "    tot=tot+d[i]\n",
    "print(tot)"
   ]
  },
  {
   "cell_type": "code",
   "execution_count": 41,
   "id": "54ddd45c-44e1-4f2e-88ef-aeb4ae2df7e8",
   "metadata": {},
   "outputs": [
    {
     "name": "stdout",
     "output_type": "stream",
     "text": [
      "3198000\n"
     ]
    }
   ],
   "source": [
    "# multiplication:\n",
    "d={\"a\":100,\"b\":20,\"c\":39,\"d\":41}\n",
    "mul=1\n",
    "for i in d:\n",
    "    mul=mul*d[i]\n",
    "print(mul)"
   ]
  },
  {
   "cell_type": "code",
   "execution_count": 42,
   "id": "44f4180b-453a-437c-8363-f60512655bf0",
   "metadata": {},
   "outputs": [
    {
     "name": "stdin",
     "output_type": "stream",
     "text": [
      "Enter number of elements for dictionary: 5\n"
     ]
    },
    {
     "name": "stdout",
     "output_type": "stream",
     "text": [
      "For keys:\n"
     ]
    },
    {
     "name": "stdin",
     "output_type": "stream",
     "text": [
      "Enter element1: 1\n"
     ]
    },
    {
     "name": "stdout",
     "output_type": "stream",
     "text": [
      "For values:\n"
     ]
    },
    {
     "name": "stdin",
     "output_type": "stream",
     "text": [
      "Enter element2: 2\n"
     ]
    },
    {
     "name": "stdout",
     "output_type": "stream",
     "text": [
      "For values:\n"
     ]
    },
    {
     "name": "stdin",
     "output_type": "stream",
     "text": [
      "Enter element3: 3\n"
     ]
    },
    {
     "name": "stdout",
     "output_type": "stream",
     "text": [
      "For values:\n"
     ]
    },
    {
     "name": "stdin",
     "output_type": "stream",
     "text": [
      "Enter element4: 4\n"
     ]
    },
    {
     "name": "stdout",
     "output_type": "stream",
     "text": [
      "For values:\n"
     ]
    },
    {
     "name": "stdin",
     "output_type": "stream",
     "text": [
      "Enter element5: 5\n"
     ]
    },
    {
     "name": "stdout",
     "output_type": "stream",
     "text": [
      "For values:\n"
     ]
    },
    {
     "name": "stdin",
     "output_type": "stream",
     "text": [
      "Enter element1: 12\n",
      "Enter element2: 24\n",
      "Enter element3: 36\n",
      "Enter element4: 48\n",
      "Enter element5: 60\n"
     ]
    },
    {
     "name": "stdout",
     "output_type": "stream",
     "text": [
      "The dictionary is:\n",
      "{1: 12, 2: 24, 3: 36, 4: 48, 5: 60}\n"
     ]
    }
   ],
   "source": [
    "keys=[]\n",
    "values=[]\n",
    "n=int(input(\"Enter number of elements for dictionary:\"))\n",
    "print(\"For keys:\")\n",
    "for x in range(0,n):\n",
    "    element=int(input(\"Enter element\" + str( x+1) + \":\"))\n",
    "    keys.append(element)\n",
    "    print(\"For values:\")\n",
    "for x in range(0,n):\n",
    "    element=int(input(\"Enter element\" + str( x+1) + \":\"))\n",
    "    values.append(element)\n",
    "d=dict(zip(keys,values))\n",
    "print(\"The dictionary is:\")\n",
    "print(d)"
   ]
  },
  {
   "cell_type": "code",
   "execution_count": 44,
   "id": "faa4a433-c270-4cd1-ac2d-f5766ab64fdd",
   "metadata": {},
   "outputs": [
    {
     "name": "stdin",
     "output_type": "stream",
     "text": [
      "Enter key to check: B\n"
     ]
    },
    {
     "name": "stdout",
     "output_type": "stream",
     "text": [
      "Key is present and value of the key is:\n",
      "2\n"
     ]
    }
   ],
   "source": [
    "#examples:\n",
    "d={'A':1,'B':2,'C':3}\n",
    "key=input(\"Enter key to check:\")\n",
    "if key in d.keys():\n",
    "    print(\"Key is present and value of the key is:\")\n",
    "    print(d[key])\n",
    "else:\n",
    "    print(\"Key isn't present!\")"
   ]
  },
  {
   "cell_type": "code",
   "execution_count": 45,
   "id": "a217eacb-28c5-4a30-a3bc-97de7633218e",
   "metadata": {},
   "outputs": [
    {
     "name": "stdout",
     "output_type": "stream",
     "text": [
      "Concatenated dictionary is:\n",
      "{'A': 1, 'B': 2, 'C': 3}\n"
     ]
    }
   ],
   "source": [
    "d1={'A':1,'B':2}\n",
    "d2={'C':3}\n",
    "d1.update(d2)\n",
    "print(\"Concatenated dictionary is:\")\n",
    "print(d1)"
   ]
  },
  {
   "cell_type": "code",
   "execution_count": 46,
   "id": "81ad3954-b796-41f4-b173-a35b915d68f7",
   "metadata": {},
   "outputs": [
    {
     "name": "stdout",
     "output_type": "stream",
     "text": [
      "Initial dictionary\n",
      "{'a': 1, 'b': 2, 'c': 3, 'd': 4}\n"
     ]
    },
    {
     "name": "stdin",
     "output_type": "stream",
     "text": [
      "Enter the key to delete(a-d): c\n"
     ]
    },
    {
     "name": "stdout",
     "output_type": "stream",
     "text": [
      "Updated dictionary\n",
      "{'a': 1, 'b': 2, 'd': 4}\n"
     ]
    }
   ],
   "source": [
    "#Python Program to Remove the Given Key from a Dictionary\n",
    "dic = {'a':1,'b':2,'c':3,'d':4}\n",
    "print(\"Initial dictionary\")\n",
    "print(dic)\n",
    "key=input(\"Enter the key to delete(a-d):\")\n",
    "if key in dic:\n",
    "    del dic[key]\n",
    "else:\n",
    "    print(\"Key not found!\")\n",
    "    exit(0)\n",
    "print(\"Updated dictionary\")\n",
    "print(dic)"
   ]
  },
  {
   "cell_type": "code",
   "execution_count": 25,
   "id": "f1fb958c-a508-43a3-8c15-a539b1c609ad",
   "metadata": {},
   "outputs": [
    {
     "name": "stdout",
     "output_type": "stream",
     "text": [
      "Intro to Computer Science is taught by Dr. Smith\n",
      "Calculus I is taught by Dr. Johnson\n",
      "English Literature is taught by Dr. Brown\n"
     ]
    }
   ],
   "source": [
    "courses_info = {\n",
    "    \"CS101\": {\"title\": \"Intro to Computer Science\", \"credits\": 3, \"instructor\": \"Dr. Smith\"},\n",
    "    \"MATH101\": {\"title\": \"Calculus I\", \"credits\": 4, \"instructor\": \"Dr. Johnson\"},\n",
    "    \"ENG101\": {\"title\": \"English Literature\", \"credits\": 3, \"instructor\": \"Dr. Brown\"}\n",
    "}\n",
    "\n",
    "# Print course titles and their instructors\n",
    "for course_code, info in courses_info.items():\n",
    "    print(f\"{info['title']} is taught by {info['instructor']}\")\n"
   ]
  },
  {
   "cell_type": "code",
   "execution_count": 35,
   "id": "668140a8-1de6-4bc3-a6e2-9d722367e3b3",
   "metadata": {},
   "outputs": [
    {
     "name": "stdout",
     "output_type": "stream",
     "text": [
      "Monday: Sunny, 75F\n",
      "Tuesday: Partly Cloudy, 72F\n",
      "Wednesday: Rainy, 78F\n"
     ]
    }
   ],
   "source": [
    "weather_forecast = {\n",
    "    \"Monday\": {\"Temperature\": 75, \"Condition\": \"Sunny\"},\n",
    "    \"Tuesday\": {\"Temperature\": 72, \"Condition\": \"Partly Cloudy\"},\n",
    "    \"Wednesday\": {\"Temperature\": 78, \"Condition\": \"Rainy\"}\n",
    "}\n",
    "\n",
    "# Print weather forecast for the week\n",
    "for day, forecast in weather_forecast.items():\n",
    "    print(f\"{day}: {forecast['Condition']}, {forecast['Temperature']}F\")"
   ]
  },
  {
   "cell_type": "code",
   "execution_count": 21,
   "id": "aa233a61-0658-4ca5-9b0d-9ac1269cbdc2",
   "metadata": {},
   "outputs": [
    {
     "name": "stdout",
     "output_type": "stream",
     "text": [
      "Average grades: {'Alice': 88.33333333333333, 'Bob': 77.66666666666667, 'Charlie': 92.66666666666667}\n"
     ]
    }
   ],
   "source": [
    "student_grades = {\n",
    "    \"Alice\": {\"Math\": 85, \"Science\": 92, \"English\": 88},\n",
    "    \"Bob\": {\"Math\": 78, \"Science\": 74, \"English\": 81},\n",
    "    \"Charlie\": {\"Math\": 95, \"Science\": 89, \"English\": 94}\n",
    "}\n",
    "\n",
    "# Calculate the average grade for each student\n",
    "average_grades = {}\n",
    "for student, grades in student_grades.items():\n",
    "    total = sum(grades.values())\n",
    "    count = len(grades)\n",
    "    average_grades[student] = total / count\n",
    "    \n",
    "print(\"Average grades:\", average_grades)\n"
   ]
  },
  {
   "cell_type": "code",
   "execution_count": 27,
   "id": "67f8ebfc-0150-47fc-bc5c-a4ab54f89b6f",
   "metadata": {},
   "outputs": [
    {
     "name": "stdout",
     "output_type": "stream",
     "text": [
      "Total attendance by employee: {'Alice': 61, 'Bob': 63, 'Charlie': 57}\n"
     ]
    }
   ],
   "source": [
    "attendance_record = {\n",
    "    \"January\": {\"Alice\": 20, \"Bob\": 22, \"Charlie\": 18},\n",
    "    \"February\": {\"Alice\": 19, \"Bob\": 21, \"Charlie\": 20},\n",
    "    \"March\": {\"Alice\": 22, \"Bob\": 20, \"Charlie\": 19}\n",
    "}\n",
    "\n",
    "# Calculate total attendance for each employee over three months\n",
    "total_attendance = {}\n",
    "for month, records in attendance_record.items():\n",
    "    for employee, days in records.items():\n",
    "        if employee not in total_attendance:\n",
    "            total_attendance[employee] = 0\n",
    "        total_attendance[employee] += days\n",
    "\n",
    "print(\"Total attendance by employee:\", total_attendance)\n"
   ]
  },
  {
   "cell_type": "code",
   "execution_count": 29,
   "id": "2444b668-e41d-4613-8579-4c16a04ff481",
   "metadata": {},
   "outputs": [
    {
     "name": "stdout",
     "output_type": "stream",
     "text": [
      "Total matches played by team: {'TeamA': 17, 'TeamB': 17, 'TeamC': 17}\n"
     ]
    }
   ],
   "source": [
    "\n",
    "team_performance = {\n",
    "    \"TeamA\": {\"Wins\": 10, \"Losses\": 5, \"Draws\": 2},\n",
    "    \"TeamB\": {\"Wins\": 8, \"Losses\": 6, \"Draws\": 3},\n",
    "    \"TeamC\": {\"Wins\": 12, \"Losses\": 3, \"Draws\": 2}\n",
    "}\n",
    "\n",
    "# Calculate the total number of matches played by each team\n",
    "total_matches = {}\n",
    "for team, record in team_performance.items():\n",
    "    total = record[\"Wins\"] + record[\"Losses\"] + record[\"Draws\"]\n",
    "    total_matches[team] = total\n",
    "\n",
    "print(\"Total matches played by team:\", total_matches)\n"
   ]
  },
  {
   "cell_type": "code",
   "execution_count": 31,
   "id": "2c40467f-7fd7-46b8-beb4-7fe354b9d48a",
   "metadata": {},
   "outputs": [
    {
     "name": "stdout",
     "output_type": "stream",
     "text": [
      "Students in Row1: Alice, Bob, Charlie\n",
      "Students in Row2: David, Eve, Frank\n",
      "Students in Row3: Grace, Heidi, Ivan\n"
     ]
    }
   ],
   "source": [
    "seating_arrangement = {\n",
    "    \"Row1\": [\"Alice\", \"Bob\", \"Charlie\"],\n",
    "    \"Row2\": [\"David\", \"Eve\", \"Frank\"],\n",
    "    \"Row3\": [\"Grace\", \"Heidi\", \"Ivan\"]\n",
    "}\n",
    "\n",
    "# Print the students in each row\n",
    "for row, students in seating_arrangement.items():\n",
    "    print(f\"Students in {row}: {', '.join(students)}\")\n"
   ]
  },
  {
   "cell_type": "code",
   "execution_count": null,
   "id": "aeb0dbaa-5a08-4402-ab13-df4b403b0d62",
   "metadata": {},
   "outputs": [],
   "source": []
  }
 ],
 "metadata": {
  "kernelspec": {
   "display_name": "Python 3 (ipykernel)",
   "language": "python",
   "name": "python3"
  },
  "language_info": {
   "codemirror_mode": {
    "name": "ipython",
    "version": 3
   },
   "file_extension": ".py",
   "mimetype": "text/x-python",
   "name": "python",
   "nbconvert_exporter": "python",
   "pygments_lexer": "ipython3",
   "version": "3.11.7"
  }
 },
 "nbformat": 4,
 "nbformat_minor": 5
}
