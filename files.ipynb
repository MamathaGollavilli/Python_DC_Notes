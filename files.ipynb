{
 "cells": [
  {
   "cell_type": "code",
   "execution_count": 156,
   "id": "bb69b567-4061-4745-b466-1aaefe2999c9",
   "metadata": {},
   "outputs": [],
   "source": [
    "#File handling"
   ]
  },
  {
   "cell_type": "markdown",
   "id": "45000bf2-7699-435e-80cc-b0fae7f17ec8",
   "metadata": {},
   "source": [
    "###### \"r\" - Read - Default value. Opens a file for reading, error if the file does not exist\n",
    "###### \"a\" - Append - Opens a file for appending, creates the file if it does not exist\n",
    "###### \"w\" - Write - Opens a file for writing, creates the file if it does not exist\n",
    "###### \"x\" - Create - Creates the specified file, returns an error if the file exists"
   ]
  },
  {
   "cell_type": "code",
   "execution_count": 20,
   "id": "fe0b3697-be3b-4d57-abcb-bc1166f593b7",
   "metadata": {},
   "outputs": [
    {
     "name": "stdout",
     "output_type": "stream",
     "text": [
      "successfully\n"
     ]
    }
   ],
   "source": [
    "#open the file\n",
    "f=open(\"num.txt\")\n",
    "print(\"successfully\")"
   ]
  },
  {
   "cell_type": "code",
   "execution_count": 21,
   "id": "b01b8145-e405-48aa-96c2-f1f63fceba0c",
   "metadata": {},
   "outputs": [
    {
     "name": "stdout",
     "output_type": "stream",
     "text": [
      "123\n",
      "456\n",
      "789\n",
      "111\n",
      "222\n",
      "333\n",
      "444\n",
      "555\n",
      "666\n",
      "777\n",
      "888\n",
      "999\n",
      "\n"
     ]
    }
   ],
   "source": [
    "#open the file in curent directorie\n",
    "f=open(\"num.txt\",\"r\")\n",
    "print(f.read())"
   ]
  },
  {
   "cell_type": "code",
   "execution_count": 23,
   "id": "49ccd8bd-e5d2-4250-850f-d12fc495ada3",
   "metadata": {},
   "outputs": [
    {
     "name": "stdout",
     "output_type": "stream",
     "text": [
      "Hi i am here at desktop location\n",
      "File handling is an important part of any web application.\n",
      "Python has several functions for creating, reading, updating, and deleting files.\n",
      "\"r\" - Read - Default value. Opens a file for reading, error if the file does not exist\n",
      "\"a\" - Append - Opens a file for appending, creates the file if it does not exist\n",
      "\"w\" - Write - Opens a file for writing, creates the file if it does not exist\n",
      "\"x\" - Create - Creates the specified file, returns an error if the file exists\n"
     ]
    }
   ],
   "source": [
    "#open the file at specified location\n",
    "f=open(\"C:/Users/Hp/Desktop/file2.txt\",\"r\")\n",
    "print(f.read())\n"
   ]
  },
  {
   "cell_type": "code",
   "execution_count": 25,
   "id": "fe28ef25-1b13-420b-9bb0-a6878b74b39c",
   "metadata": {},
   "outputs": [
    {
     "name": "stdout",
     "output_type": "stream",
     "text": [
      "Hi i am here\n"
     ]
    }
   ],
   "source": [
    "#read specific number of characters\n",
    "f=open(\"C:/Users/Hp/Desktop/file2.txt\",\"r\")\n",
    "print(f.read(12))"
   ]
  },
  {
   "cell_type": "code",
   "execution_count": 26,
   "id": "7b553ed5-33df-491f-8ce5-f3d8a4291032",
   "metadata": {},
   "outputs": [
    {
     "name": "stdout",
     "output_type": "stream",
     "text": [
      "Hi i am here at desktop location\n",
      "\n",
      "File handling is an important part of any web application.\n",
      "\n"
     ]
    }
   ],
   "source": [
    "#read complete line\n",
    "f=open(\"C:/Users/Hp/Desktop/file2.txt\",\"r\")\n",
    "print(f.readline())\n",
    "print(f.readline())"
   ]
  },
  {
   "cell_type": "code",
   "execution_count": 28,
   "id": "873e7525-9ea0-408f-90a9-b0718c704b0d",
   "metadata": {},
   "outputs": [
    {
     "name": "stdout",
     "output_type": "stream",
     "text": [
      "123\n",
      "\n"
     ]
    }
   ],
   "source": [
    "#reading a single line\n",
    "f=open(\"num.txt\",\"r\")\n",
    "print(f.readline())"
   ]
  },
  {
   "cell_type": "code",
   "execution_count": 29,
   "id": "623213f1-3dd1-4e2e-a197-6c03702e50dd",
   "metadata": {},
   "outputs": [
    {
     "name": "stdout",
     "output_type": "stream",
     "text": [
      "['123\\n', '456\\n', '789\\n', '111\\n', '222\\n', '333\\n', '444\\n', '555\\n', '666\\n', '777\\n', '888\\n', '999\\n']\n"
     ]
    }
   ],
   "source": [
    "#reading all lines and output is in form of list\n",
    "f=open(\"num.txt\",\"r\")\n",
    "print(f.readlines())"
   ]
  },
  {
   "cell_type": "code",
   "execution_count": 139,
   "id": "765ab82e-9d9e-4aa0-9959-f9b01396a7ee",
   "metadata": {},
   "outputs": [
    {
     "name": "stdout",
     "output_type": "stream",
     "text": [
      "f.readlines output is:  ['123\\n', '456\\n', '789\\n', '111\\n', '222\\n', '333\\n', '444\\n', '555\\n', '666\\n', '777\\n', '888\\n', '999 1000 1111\\n']\n",
      "the f.read output is :  \n"
     ]
    }
   ],
   "source": [
    "#observation is once read again file need to open two times reading of same file is not possible\n",
    "f=open(\"num.txt\",\"r\")\n",
    "print(\"f.readlines output is: \",f.readlines())\n",
    "line=f.read()\n",
    "print(\"the f.read output is : \", line) #it is empty"
   ]
  },
  {
   "cell_type": "code",
   "execution_count": 43,
   "id": "7590278b-a813-4777-b336-33ead1522d4e",
   "metadata": {},
   "outputs": [
    {
     "name": "stdout",
     "output_type": "stream",
     "text": [
      "f.readlines output is:  []\n",
      "the f.read output is :  123\n",
      "456\n",
      "789\n",
      "111\n",
      "222\n",
      "333\n",
      "444\n",
      "555\n",
      "666\n",
      "777\n",
      "888\n",
      "999\n",
      "\n"
     ]
    }
   ],
   "source": [
    "f=open(\"num.txt\",\"r\")\n",
    "line=f.read()\n",
    "print(\"f.readlines output is: \",f.readlines())\n",
    "print(\"the f.read output is : \",line) #it is empty"
   ]
  },
  {
   "cell_type": "code",
   "execution_count": 45,
   "id": "83c67cdd-dbaa-4694-b303-3cfd40486461",
   "metadata": {},
   "outputs": [
    {
     "name": "stdout",
     "output_type": "stream",
     "text": [
      "['123\\n', '456\\n', '789\\n', '111\\n', '222\\n', '333\\n', '444\\n', '555\\n', '666\\n', '777\\n', '888\\n', '999\\n']\n",
      "123\n",
      "456\n",
      "789\n",
      "111\n",
      "222\n",
      "333\n",
      "444\n",
      "555\n",
      "666\n",
      "777\n",
      "888\n",
      "999\n",
      "\n"
     ]
    }
   ],
   "source": [
    "f=open(\"num.txt\",\"r\")\n",
    "print(f.readlines())\n",
    "f.close()\n",
    "f=open(\"num.txt\",\"r\")\n",
    "line=f.read()\n",
    "print(line)\n",
    "f.close()"
   ]
  },
  {
   "cell_type": "code",
   "execution_count": 47,
   "id": "2202da8f-5d34-40d6-9dcf-c4357784bb9d",
   "metadata": {},
   "outputs": [
    {
     "name": "stdout",
     "output_type": "stream",
     "text": [
      "Hi i am here at desktop location\n",
      "\n",
      "File handling is an important part of any web application.\n",
      "\n",
      "Python has several functions for creating, reading, updating, and deleting files.\n",
      "\n",
      "\"r\" - Read - Default value. Opens a file for reading, error if the file does not exist\n",
      "\n",
      "\"a\" - Append - Opens a file for appending, creates the file if it does not exist\n",
      "\n",
      "\"w\" - Write - Opens a file for writing, creates the file if it does not exist\n",
      "\n",
      "\"x\" - Create - Creates the specified file, returns an error if the file exists\n"
     ]
    }
   ],
   "source": [
    "#reading a lines with for loop\n",
    "f=open(\"C:/Users/Hp/Desktop/file2.txt\",\"r\")\n",
    "for x in f:\n",
    "    print(x)"
   ]
  },
  {
   "cell_type": "code",
   "execution_count": 48,
   "id": "28c99f73-31a8-4f10-bfa8-7e6f1c011b6d",
   "metadata": {},
   "outputs": [
    {
     "name": "stdout",
     "output_type": "stream",
     "text": [
      "Hi i am here at desktop location\n",
      "File handling is an important part of any web application.\n",
      "Python has several functions for creating, reading, updating, and deleting files.\n",
      "\"r\" - Read - Default value. Opens a file for reading, error if the file does not exist\n",
      "\"a\" - Append - Opens a file for appending, creates the file if it does not exist\n",
      "\"w\" - Write - Opens a file for writing, creates the file if it does not exist\n",
      "\"x\" - Create - Creates the specified file, returns an error if the file exists"
     ]
    }
   ],
   "source": [
    "f=open(\"C:/Users/Hp/Desktop/file2.txt\",\"r\")\n",
    "for x in f:\n",
    "    print(x,end=\"\")\n",
    "f.close() #You should always close your files, in some cases, due to buffering, changes made to a file may not show until you close the file."
   ]
  },
  {
   "cell_type": "code",
   "execution_count": 49,
   "id": "30e0d26b-083f-458c-8b26-b32012a1de96",
   "metadata": {},
   "outputs": [
    {
     "name": "stdout",
     "output_type": "stream",
     "text": [
      "Hi i am here at desktop location\n",
      "File handling is an important part of any web application.\n",
      "Python has several functions for creating, reading, updating, and deleting files.\n",
      "\"r\" - Read - Default value. Opens a file for reading, error if the file does not exist\n",
      "\"a\" - Append - Opens a file for appending, creates the file if it does not exist\n",
      "\"w\" - Write - Opens a file for writing, creates the file if it does not exist\n",
      "\"x\" - Create - Creates the specified file, returns an error if the file exists\n"
     ]
    }
   ],
   "source": [
    "#automatically closes the file, so we don't have to use the close() function.\n",
    "with open(\"C:/Users/Hp/Desktop/file2.txt\", \"r\") as file1:\n",
    "    read_content = file1.read()\n",
    "    print(read_content)"
   ]
  },
  {
   "cell_type": "code",
   "execution_count": 141,
   "id": "7f06a9f0-9d4b-4bcc-8d8b-b179c1e84b46",
   "metadata": {},
   "outputs": [
    {
     "name": "stdout",
     "output_type": "stream",
     "text": [
      "['Hi', 'i', 'am', 'here', 'at', 'desktop', 'location']\n",
      "['File', 'handling', 'is', 'an', 'important', 'part', 'of', 'any', 'web', 'application.']\n",
      "['Python', 'has', 'several', 'functions', 'for', 'creating,', 'reading,', 'updating,', 'and', 'deleting', 'files.']\n",
      "['\"r\"', '-', 'Read', '-', 'Default', 'value.', 'Opens', 'a', 'file', 'for', 'reading,', 'error', 'if', 'the', 'file', 'does', 'not', 'exist']\n",
      "['\"a\"', '-', 'Append', '-', 'Opens', 'a', 'file', 'for', 'appending,', 'creates', 'the', 'file', 'if', 'it', 'does', 'not', 'exist']\n",
      "['\"w\"', '-', 'Write', '-', 'Opens', 'a', 'file', 'for', 'writing,', 'creates', 'the', 'file', 'if', 'it', 'does', 'not', 'exist']\n",
      "['\"x\"', '-', 'Create', '-', 'Creates', 'the', 'specified', 'file,', 'returns', 'an', 'error', 'if', 'the', 'file', 'exists']\n"
     ]
    }
   ],
   "source": [
    "with open(\"C:/Users/Hp/Desktop/file2.txt\", \"r\") as file1:\n",
    "    read_content=file1.readlines() \n",
    "    for line in read_content:\n",
    "        word=line.split()\n",
    "        print(word)\n",
    "    "
   ]
  },
  {
   "cell_type": "code",
   "execution_count": 157,
   "id": "9cea5378-feb2-48bb-b47a-f166a3f5ad21",
   "metadata": {},
   "outputs": [
    {
     "name": "stdout",
     "output_type": "stream",
     "text": [
      "Python has several functions for creating, reading, updating, and deleting files.\n",
      "\n"
     ]
    }
   ],
   "source": [
    "with open(\"C:/Users/Hp/Desktop/file2.txt\", 'r') as fp:\n",
    "    # read line 2\n",
    "    x = fp.readlines()[2]\n",
    "    print(x)"
   ]
  },
  {
   "cell_type": "code",
   "execution_count": 136,
   "id": "22efbf68-ef31-4406-a721-82f04eaf3a8c",
   "metadata": {},
   "outputs": [
    {
     "name": "stdout",
     "output_type": "stream",
     "text": [
      "hello i am overwriten \n"
     ]
    }
   ],
   "source": [
    "#over_write the content in existing file\n",
    "f=open(\"C:/Users/Hp/Desktop/file2.txt\",\"w\")\n",
    "f.write(\"hello i am overwriten \" )\n",
    "f.close()\n",
    "f=open(\"C:/Users/Hp/Desktop/file2.txt\",\"r\")\n",
    "print(f.read())"
   ]
  },
  {
   "cell_type": "code",
   "execution_count": 54,
   "id": "db3d911e-7064-4c8c-8951-8bc32a99e14a",
   "metadata": {},
   "outputs": [
    {
     "name": "stdout",
     "output_type": "stream",
     "text": [
      "successfully created the file\n"
     ]
    }
   ],
   "source": [
    "f=open(\"C:/Users/Hp/Desktop/file10.txt\",\"x\")\n",
    "print(\"successfully created the file\")"
   ]
  },
  {
   "cell_type": "code",
   "execution_count": 55,
   "id": "d9163e2c-7d31-4de4-81e1-1b478df8b955",
   "metadata": {},
   "outputs": [
    {
     "ename": "FileExistsError",
     "evalue": "[Errno 17] File exists: 'C:/Users/Hp/Desktop/file10.txt'",
     "output_type": "error",
     "traceback": [
      "\u001b[1;31m---------------------------------------------------------------------------\u001b[0m",
      "\u001b[1;31mFileExistsError\u001b[0m                           Traceback (most recent call last)",
      "Cell \u001b[1;32mIn[55], line 2\u001b[0m\n\u001b[0;32m      1\u001b[0m \u001b[38;5;66;03m#if again i try to create a file it will through error, see in below\u001b[39;00m\n\u001b[1;32m----> 2\u001b[0m f\u001b[38;5;241m=\u001b[39m\u001b[38;5;28mopen\u001b[39m(\u001b[38;5;124m\"\u001b[39m\u001b[38;5;124mC:/Users/Hp/Desktop/file10.txt\u001b[39m\u001b[38;5;124m\"\u001b[39m,\u001b[38;5;124m\"\u001b[39m\u001b[38;5;124mx\u001b[39m\u001b[38;5;124m\"\u001b[39m)\n\u001b[0;32m      3\u001b[0m \u001b[38;5;28mprint\u001b[39m(\u001b[38;5;124m\"\u001b[39m\u001b[38;5;124msuccessfully created the file\u001b[39m\u001b[38;5;124m\"\u001b[39m)\n",
      "File \u001b[1;32m~\\anaconda3\\Lib\\site-packages\\IPython\\core\\interactiveshell.py:310\u001b[0m, in \u001b[0;36m_modified_open\u001b[1;34m(file, *args, **kwargs)\u001b[0m\n\u001b[0;32m    303\u001b[0m \u001b[38;5;28;01mif\u001b[39;00m file \u001b[38;5;129;01min\u001b[39;00m {\u001b[38;5;241m0\u001b[39m, \u001b[38;5;241m1\u001b[39m, \u001b[38;5;241m2\u001b[39m}:\n\u001b[0;32m    304\u001b[0m     \u001b[38;5;28;01mraise\u001b[39;00m \u001b[38;5;167;01mValueError\u001b[39;00m(\n\u001b[0;32m    305\u001b[0m         \u001b[38;5;124mf\u001b[39m\u001b[38;5;124m\"\u001b[39m\u001b[38;5;124mIPython won\u001b[39m\u001b[38;5;124m'\u001b[39m\u001b[38;5;124mt let you open fd=\u001b[39m\u001b[38;5;132;01m{\u001b[39;00mfile\u001b[38;5;132;01m}\u001b[39;00m\u001b[38;5;124m by default \u001b[39m\u001b[38;5;124m\"\u001b[39m\n\u001b[0;32m    306\u001b[0m         \u001b[38;5;124m\"\u001b[39m\u001b[38;5;124mas it is likely to crash IPython. If you know what you are doing, \u001b[39m\u001b[38;5;124m\"\u001b[39m\n\u001b[0;32m    307\u001b[0m         \u001b[38;5;124m\"\u001b[39m\u001b[38;5;124myou can use builtins\u001b[39m\u001b[38;5;124m'\u001b[39m\u001b[38;5;124m open.\u001b[39m\u001b[38;5;124m\"\u001b[39m\n\u001b[0;32m    308\u001b[0m     )\n\u001b[1;32m--> 310\u001b[0m \u001b[38;5;28;01mreturn\u001b[39;00m io_open(file, \u001b[38;5;241m*\u001b[39margs, \u001b[38;5;241m*\u001b[39m\u001b[38;5;241m*\u001b[39mkwargs)\n",
      "\u001b[1;31mFileExistsError\u001b[0m: [Errno 17] File exists: 'C:/Users/Hp/Desktop/file10.txt'"
     ]
    }
   ],
   "source": [
    "#if again i try to create a file it will through error, see in below\n",
    "f=open(\"C:/Users/Hp/Desktop/file10.txt\",\"x\") #FileExistsError\n",
    "print(\"successfully created the file\")"
   ]
  },
  {
   "cell_type": "code",
   "execution_count": 63,
   "id": "68e3fe77-e250-41ec-b53c-58bab142f959",
   "metadata": {},
   "outputs": [
    {
     "name": "stdout",
     "output_type": "stream",
     "text": [
      "hey i am here in file10.txt file\n"
     ]
    }
   ],
   "source": [
    "f=open(\"C:/Users/Hp/Desktop/file10.txt\",\"w\")\n",
    "f.write(\"hey i am here in file10.txt file\" )\n",
    "f.close()\n",
    "f=open(\"C:/Users/Hp/Desktop/file10.txt\",\"r\")\n",
    "print(f.read())\n",
    "f.close()"
   ]
  },
  {
   "cell_type": "code",
   "execution_count": 160,
   "id": "ee83adf1-4f77-40b8-a834-c22d205eb87f",
   "metadata": {},
   "outputs": [
    {
     "name": "stdout",
     "output_type": "stream",
     "text": [
      "Hello There \n",
      "This is Python \n",
      "Programm \n",
      "class day5 \n",
      "\n",
      "after appending : \n",
      "Hello There \n",
      "This is Python \n",
      "Programm \n",
      "class day5 \n",
      "today class about file handling\n"
     ]
    }
   ],
   "source": [
    "#Another way to write the data into the file, here by passing the list we are providing the data to file and \\n will take next line \n",
    "file = open(\"myfile.txt\",\"w\")\n",
    "L = [\"This is Python \\n\",\"Programm \\n\",\"class day5 \\n\"]\n",
    "\n",
    "file.write(\"Hello There \\n\")\n",
    "file.writelines(L)\n",
    "#file.writelines(\"hii\") #it will take both str and list\n",
    "#file.write(L) #write() argument must be str, not list\n",
    "file.close()\n",
    "file = open(\"myfile.txt\",\"r\")\n",
    "print(file.read())\n",
    "file.close()\n",
    "file = open(\"myfile.txt\",\"a\")\n",
    "file.write(\"today class about file handling\")\n",
    "file.close()\n",
    "print(\"after appending : \")\n",
    "file = open(\"myfile.txt\",\"r\")\n",
    "print(file.read())\n",
    "file.close()"
   ]
  },
  {
   "cell_type": "code",
   "execution_count": 143,
   "id": "7ee53f49-1e34-4b54-bcbb-fa94a89c442d",
   "metadata": {},
   "outputs": [
    {
     "name": "stdout",
     "output_type": "stream",
     "text": [
      "['\"x\" - Create - Creates the specified file, returns an error if the file exists', '\"w\" - Write - Opens a file for writing, creates the file if it does not exist\\n', '\"a\" - Append - Opens a file for appending, creates the file if it does not exist\\n', '\"r\" - Read - Default value. Opens a file for reading, error if the file does not exist\\n', 'Python has several functions for creating, reading, updating, and deleting files.\\n', 'File handling is an important part of any web application.\\n', 'Hi i am here at desktop location\\n']\n"
     ]
    }
   ],
   "source": [
    "with open(\"C:/Users/Hp/Desktop/file2.txt\", \"r\") as file1:\n",
    "    read_content=file1.readlines() \n",
    "read_content1=read_content[::-1]\n",
    "print(read_content1)"
   ]
  },
  {
   "cell_type": "markdown",
   "id": "6dbb26e6-7e3e-47dc-a584-4a3a59977d90",
   "metadata": {},
   "source": [
    "### Delete "
   ]
  },
  {
   "cell_type": "markdown",
   "id": "33873c22-3d67-48d5-87d2-57f9b5e8a25e",
   "metadata": {},
   "source": [
    "###### To delete a file, you must import the OS module, and run its os.remove() function:"
   ]
  },
  {
   "cell_type": "code",
   "execution_count": 64,
   "id": "bad3e89b-cc12-42b5-a78e-b4781b17f24d",
   "metadata": {},
   "outputs": [
    {
     "name": "stdout",
     "output_type": "stream",
     "text": [
      "Sucessfully deleted\n"
     ]
    }
   ],
   "source": [
    "import os\n",
    "os.remove(\"C:/Users/Hp/Desktop/file10.txt\")\n",
    "print(\"Sucessfully deleted\")\n",
    "# After perform delete operation, if you try to access means it will trough a error like FileNotFoundError\n",
    "#f=open(\"C:/Users/Hp/Desktop/file10.txt\",\"r\") #FileNotFoundError\n",
    "#print(f.read()) \n",
    "#f.close()"
   ]
  },
  {
   "cell_type": "code",
   "execution_count": 66,
   "id": "c4e984e1-430a-4329-934f-9ca8e626a291",
   "metadata": {},
   "outputs": [
    {
     "name": "stdout",
     "output_type": "stream",
     "text": [
      "i am in 4rth file\n"
     ]
    }
   ],
   "source": [
    "#creating a file\n",
    "f=open(\"C:/Users/Hp/Desktop/file4.txt\",\"w\")\n",
    "f.write(\"i am in 4rth file\")\n",
    "f.close()\n",
    "f=open(\"C:/Users/Hp/Desktop/file4.txt\",\"r\")\n",
    "print(f.read())\n",
    "f.close()"
   ]
  },
  {
   "cell_type": "code",
   "execution_count": 68,
   "id": "a404bc52-12f8-4e08-b88b-6c02d0fafe5a",
   "metadata": {},
   "outputs": [
    {
     "name": "stdout",
     "output_type": "stream",
     "text": [
      "successfully deleted\n"
     ]
    }
   ],
   "source": [
    "#if path exists then remove \n",
    "import os\n",
    "if os.path.exists(\"C:/Users/Hp/Desktop/file4.txt\"):\n",
    "    os.remove(\"C:/Users/Hp/Desktop/file4.txt\")\n",
    "    print(\"successfully deleted\")\n",
    "\n",
    "else:\n",
    "  print(\"The file does not exist\")"
   ]
  },
  {
   "cell_type": "code",
   "execution_count": 70,
   "id": "2e24d1f5-43dd-469b-87d1-b099c1e23eb9",
   "metadata": {},
   "outputs": [
    {
     "name": "stdout",
     "output_type": "stream",
     "text": [
      "The file does not exist\n"
     ]
    }
   ],
   "source": [
    "#if path exists then remove \n",
    "import os\n",
    "if os.path.exists(\"C:/Users/Hp/Desktop/file4.txt\"):\n",
    "    os.remove(\"C:/Users/Hp/Desktop/file4.txt\")\n",
    "    print(\"successfully deleted\")\n",
    "\n",
    "else:\n",
    "  print(\"The file does not exist\") #becoz it is alredy deleted above, that "
   ]
  },
  {
   "cell_type": "markdown",
   "id": "c64062e4-43e1-4662-8f63-c32a5c49624a",
   "metadata": {},
   "source": [
    "### File operations:"
   ]
  },
  {
   "cell_type": "code",
   "execution_count": 163,
   "id": "f3fde713-d8dc-43cf-8a5c-51794a5df26a",
   "metadata": {},
   "outputs": [
    {
     "name": "stdout",
     "output_type": "stream",
     "text": [
      "['1\\n', '2\\n', '3\\n', '4\\n', '5\\n', '6\\n', '7\\n', '8\\n', '9\\n', '10\\n', '\\n', '11\\n', '12\\n', '13\\n', '\\n', '14\\n', '15\\n', '16\\n', '17\\n', '18\\n', '19\\n', '20 21 22\\n']\n",
      "Total lines :  22\n"
     ]
    }
   ],
   "source": [
    "#count the number of lines in the file\n",
    "#method-1\n",
    "with open(\"Number_file.txt\", 'r') as fp:\n",
    "    lines=fp.readlines() #it will return a list\n",
    "    print(lines)\n",
    "print(\"Total lines : \" ,len(lines))"
   ]
  },
  {
   "cell_type": "code",
   "execution_count": 110,
   "id": "67190e6e-d056-42f7-96f6-b6739487d982",
   "metadata": {},
   "outputs": [
    {
     "name": "stdout",
     "output_type": "stream",
     "text": [
      "Total Lines : 20\n"
     ]
    }
   ],
   "source": [
    "#method-2 : it will exclude the empty lines\n",
    "with open(\"Number_file.txt\", 'r') as fp:\n",
    "    count = 0\n",
    "    for line in fp:\n",
    "        if line != \"\\n\":\n",
    "            count += 1\n",
    "print(\"Total Lines :\", count)"
   ]
  },
  {
   "cell_type": "code",
   "execution_count": 111,
   "id": "089aca1b-8b8a-4aa8-878c-5430ca13bea1",
   "metadata": {},
   "outputs": [
    {
     "name": "stdout",
     "output_type": "stream",
     "text": [
      "number of non-blank lines 20\n"
     ]
    }
   ],
   "source": [
    "#method -3 :\n",
    "#The strip() method removes any leading, and trailing whitespaces.\n",
    "count = 0\n",
    "with open(\"Number_file.txt\",\"r\") as fp:\n",
    "    for line in fp:\n",
    "        #print(line)\n",
    "        x=line.strip()\n",
    "        #print(x)\n",
    "        if(x):\n",
    "            count += 1\n",
    "\n",
    "print('number of non-blank lines', count)"
   ]
  },
  {
   "cell_type": "code",
   "execution_count": 95,
   "id": "4c72c3b1-ccd7-407d-b8ea-81b2feeda5de",
   "metadata": {},
   "outputs": [
    {
     "name": "stdout",
     "output_type": "stream",
     "text": [
      "The Number_file.txt size is 79 bytes\n"
     ]
    }
   ],
   "source": [
    "#size of the file\n",
    "import os\n",
    "file_path=\"Number_file.txt\"\n",
    "a=os.path.getsize(file_path)\n",
    "#print(a)\n",
    "print(f'The {file_path} size is',a, 'bytes')"
   ]
  },
  {
   "cell_type": "code",
   "execution_count": 98,
   "id": "2be96534-b297-4425-912c-23b5bc7be322",
   "metadata": {},
   "outputs": [
    {
     "name": "stdout",
     "output_type": "stream",
     "text": [
      "data written into the file successfully\n",
      "1\n",
      "2\n",
      "3\n",
      "4\n",
      "5\n",
      "6\n",
      "7\n",
      "8\n",
      "9\n",
      "10\n",
      "11\n",
      "12\n",
      "13\n",
      "14\n",
      "15\n",
      "16\n",
      "17\n",
      "18\n",
      "19\n",
      "\n"
     ]
    }
   ],
   "source": [
    "#write data into the file\n",
    "import random\n",
    "fp1=open(\"Number_file.txt\",\"w\")\n",
    "for i in range(1,20):\n",
    "    #fp1.write(str(random.randrange(1,100))) #write random numbers into the file\n",
    "    fp1.write((str(i)))\n",
    "    #fp1.write(input(\"enter value\")) #from user we can take\n",
    "    fp1.write(\"\\n\") #to take next line\n",
    "fp1.close()\n",
    "print(\"data written into the file successfully\")\n",
    "fp1=open(\"Number_file.txt\",\"r\")\n",
    "#print(fp1.readlines())\n",
    "print(fp1.read())\n",
    "fp1.close()"
   ]
  },
  {
   "cell_type": "code",
   "execution_count": 102,
   "id": "f55c5c06-27ef-4541-a90b-d1ce04e96a14",
   "metadata": {},
   "outputs": [
    {
     "name": "stdout",
     "output_type": "stream",
     "text": [
      "<class 'str'>\n",
      "yes\n"
     ]
    }
   ],
   "source": [
    "#checking whether particular string is exist or not\n",
    "file = open(\"myfile.txt\",\"r\")\n",
    "data=file.read()\n",
    "word=\"Python\"\n",
    "print(type(data))\n",
    "if(word in data): #in string we can easily search whether it is exits or not with the help of in operator\n",
    "    print(\"yes\")\n",
    "else:\n",
    "    print(\"no\")"
   ]
  },
  {
   "cell_type": "code",
   "execution_count": 164,
   "id": "b8876e32-2906-4101-93db-def633ccdb6a",
   "metadata": {},
   "outputs": [
    {
     "name": "stdout",
     "output_type": "stream",
     "text": [
      "['Hello There \\n', 'This is Python \\n', 'Programm \\n', 'class day5 \\n', 'today class about file handling']\n",
      "class string exists in file\n",
      "Line Number: 3\n",
      "Line: class day5 \n",
      "\n",
      "class string exists in file\n",
      "Line Number: 4\n",
      "Line: today class about file handling\n"
     ]
    }
   ],
   "source": [
    "#Search file for a string and Print its line and line number\n",
    "word = 'class' #you can take search word from the user using input()\n",
    "with open(\"myfile.txt\", 'r') as fp:\n",
    "    # read all lines in a list\n",
    "    lines = fp.readlines() \n",
    "    print(lines)\n",
    "    for line in lines:\n",
    "        # check if string present on a current line\n",
    "        if line.find(word) != -1:\n",
    "            print(word, 'string exists in file')\n",
    "            print('Line Number:', lines.index(line))\n",
    "            print('Line:', line)"
   ]
  },
  {
   "cell_type": "code",
   "execution_count": 7,
   "id": "7eb8fa78-c4bd-43d9-8a20-87f17a415ab9",
   "metadata": {},
   "outputs": [
    {
     "name": "stdout",
     "output_type": "stream",
     "text": [
      "['Hello There \\n', 'This is Python \\n', 'Programm \\n', 'session day5 \\n', 'today session about file handlingHello There \\n', 'This is Python \\n', 'Programm \\n', 'session day5 \\n', 'today session about file handling']\n",
      "session\n",
      "session\n",
      "session\n",
      "session\n"
     ]
    }
   ],
   "source": [
    "#Search file for a string and Print its line and line number\n",
    "word = 'session' #you can take search word from the user using input()\n",
    "with open(\"myfile.txt\", 'r') as fp:\n",
    "    # read all lines in a list\n",
    "    lines = fp.readlines()\n",
    "    print(lines)\n",
    "    for line in lines:\n",
    "        if word in line:\n",
    "            print(word)"
   ]
  },
  {
   "cell_type": "code",
   "execution_count": 103,
   "id": "fa149d95-b972-47be-8897-85958cb2180a",
   "metadata": {},
   "outputs": [
    {
     "name": "stdout",
     "output_type": "stream",
     "text": [
      "string found in a file\n",
      "Line Number: 3\n",
      "Line: class day5 \n",
      "\n",
      "string found in a file\n",
      "Line Number: 4\n",
      "Line: today class about file handling\n"
     ]
    }
   ],
   "source": [
    "#Use for loop with enumerate() function to get a line and its number. \n",
    "#The enumerate() function adds a counter to an iterable and returns it in enumerate object.\n",
    "#Pass the file pointer returned by the open() function to the enumerate().\n",
    "#The enumerate(file_pointer) doesn’t load the entire file in memory, so this is an efficient solution.\n",
    "\n",
    "with open(\"myfile.txt\", 'r') as fp:\n",
    "    for l_no, line in enumerate(fp):\n",
    "        if 'class' in line:\n",
    "            print('string found in a file')\n",
    "            print('Line Number:', l_no)\n",
    "            print('Line:', line)"
   ]
  },
  {
   "cell_type": "code",
   "execution_count": 144,
   "id": "12456baf-791a-47e4-a28a-88ae92c80b82",
   "metadata": {},
   "outputs": [
    {
     "name": "stdout",
     "output_type": "stream",
     "text": [
      "string Python exist in this file\n",
      "string class exist in this file\n"
     ]
    }
   ],
   "source": [
    "#Search file for a list of strings\n",
    "words = ['Python', 'class']\n",
    "with open(\"myfile.txt\", 'r') as fp:\n",
    "    content = fp.read() \n",
    "# Iterate list to find each word\n",
    "for word in words:\n",
    "    if word in content:\n",
    "        print(f\"string {word} exist in this file\")"
   ]
  },
  {
   "cell_type": "code",
   "execution_count": 147,
   "id": "30e391a8-5426-4619-9b23-90a41164ab63",
   "metadata": {},
   "outputs": [
    {
     "name": "stdout",
     "output_type": "stream",
     "text": [
      "string found\n",
      "string found\n",
      "string found\n"
     ]
    }
   ],
   "source": [
    "import os\n",
    "\n",
    "dir_path = \"C:/Users/Hp/Desktop/File_handling_files\"\n",
    "# iterate each file in a directory\n",
    "for file in os.listdir(dir_path):\n",
    "    cur_path = os.path.join(dir_path, file)\n",
    "    # check if it is a file\n",
    "    if os.path.isfile(cur_path):\n",
    "        with open(cur_path, 'r') as file:\n",
    "            # read all content of a file and search string\n",
    "            if 'day' in file.read():\n",
    "                print('string found')\n",
    "                "
   ]
  },
  {
   "cell_type": "code",
   "execution_count": 125,
   "id": "2f33b395-3500-4145-9526-2e9dddcc0136",
   "metadata": {},
   "outputs": [
    {
     "name": "stdout",
     "output_type": "stream",
     "text": [
      "['Python\\n', 'class\\n', 'day-1']\n",
      "day-1 string exists in C:/Users/Hp/Desktop/File_handling_files\\file1.txt file\n",
      "['Python\\n', 'class\\n', 'day-2']\n",
      "day-2 string exists in C:/Users/Hp/Desktop/File_handling_files\\file2.txt file\n",
      "['Python\\n', 'class\\n', 'day-3']\n",
      "day-3 string exists in C:/Users/Hp/Desktop/File_handling_files\\file3.txt file\n"
     ]
    }
   ],
   "source": [
    "import os\n",
    "\n",
    "dir_path = \"C:/Users/Hp/Desktop/File_handling_files\"\n",
    "# iterate each file in a directory\n",
    "word=\"day\"\n",
    "for file in os.listdir(dir_path):\n",
    "    cur_path = os.path.join(dir_path, file)\n",
    "    # check if it is a file\n",
    "    if os.path.isfile(cur_path):\n",
    "        with open(cur_path, 'r') as file:\n",
    "            # read all content of a file and search string\n",
    "            file_list=file.readlines() \n",
    "            print(file_list)\n",
    "            for line in file_list:\n",
    "                 if word in line:\n",
    "                     print(line, \"string exists in\", cur_path,\"file\")\n",
    "                     "
   ]
  },
  {
   "cell_type": "code",
   "execution_count": null,
   "id": "e3ce5e41-04b2-4309-a355-3f936a5f114d",
   "metadata": {},
   "outputs": [],
   "source": []
  },
  {
   "cell_type": "code",
   "execution_count": null,
   "id": "46322189-b735-48f9-8669-bcf5a90c8207",
   "metadata": {},
   "outputs": [],
   "source": []
  },
  {
   "cell_type": "code",
   "execution_count": null,
   "id": "334dec14-cd5b-4423-9385-f4d2613fb57f",
   "metadata": {},
   "outputs": [],
   "source": []
  },
  {
   "cell_type": "code",
   "execution_count": null,
   "id": "643c4478-67a9-4c31-8f37-59623f1bf821",
   "metadata": {},
   "outputs": [],
   "source": []
  },
  {
   "cell_type": "code",
   "execution_count": null,
   "id": "e2d75ac8-953b-472e-85a2-9090c19e46a9",
   "metadata": {},
   "outputs": [],
   "source": []
  },
  {
   "cell_type": "code",
   "execution_count": null,
   "id": "59fb3b5e-eeb8-4c69-8f70-1db0c4f36b79",
   "metadata": {},
   "outputs": [],
   "source": []
  },
  {
   "cell_type": "code",
   "execution_count": null,
   "id": "9ff7155d-f596-4870-b497-1a1b7e3b6d03",
   "metadata": {},
   "outputs": [],
   "source": []
  },
  {
   "cell_type": "code",
   "execution_count": null,
   "id": "97078455-820a-436d-aea0-f5fb798d06c5",
   "metadata": {},
   "outputs": [],
   "source": []
  },
  {
   "cell_type": "code",
   "execution_count": null,
   "id": "7cdbf76a-2402-4920-bde1-5c3dfc0480fd",
   "metadata": {},
   "outputs": [],
   "source": []
  },
  {
   "cell_type": "code",
   "execution_count": null,
   "id": "3e1f1980-88fc-4206-85f3-c7508809b054",
   "metadata": {},
   "outputs": [],
   "source": []
  },
  {
   "cell_type": "code",
   "execution_count": null,
   "id": "2b24fe7b-ee47-4924-a9d5-131edd8c8534",
   "metadata": {},
   "outputs": [],
   "source": []
  },
  {
   "cell_type": "code",
   "execution_count": null,
   "id": "f3eb3b09-7b63-4dc3-8dd2-db64954152c1",
   "metadata": {},
   "outputs": [],
   "source": []
  },
  {
   "cell_type": "code",
   "execution_count": null,
   "id": "7d2915f4-9d74-4f39-b417-8f2f51d113c5",
   "metadata": {},
   "outputs": [],
   "source": []
  },
  {
   "cell_type": "code",
   "execution_count": null,
   "id": "0e807da8-5de0-4b91-a268-6bd0dc048ed4",
   "metadata": {},
   "outputs": [],
   "source": []
  }
 ],
 "metadata": {
  "kernelspec": {
   "display_name": "Python 3 (ipykernel)",
   "language": "python",
   "name": "python3"
  },
  "language_info": {
   "codemirror_mode": {
    "name": "ipython",
    "version": 3
   },
   "file_extension": ".py",
   "mimetype": "text/x-python",
   "name": "python",
   "nbconvert_exporter": "python",
   "pygments_lexer": "ipython3",
   "version": "3.11.7"
  }
 },
 "nbformat": 4,
 "nbformat_minor": 5
}
